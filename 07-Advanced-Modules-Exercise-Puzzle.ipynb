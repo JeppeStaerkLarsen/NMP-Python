{
 "cells": [
  {
   "cell_type": "markdown",
   "metadata": {},
   "source": [
    "___\n",
    "\n",
    "<a href='https://www.udemy.com/user/joseportilla/'><img src='../../Pierian_Data_Logo.png'/></a>\n",
    "___\n",
    "<center><em>Content Copyright by Pierian Data</em></center>"
   ]
  },
  {
   "cell_type": "markdown",
   "metadata": {},
   "source": [
    "# Advanced Modules Exercise Puzzle\n",
    "\n",
    "It's time to test your new skills, this puzzle project will combine multiple skills sets, including unzipping files with Python, using os module to automatically search through lots of files.\n",
    "\n",
    "## Your Goal\n",
    "\n",
    "This is a puzzle, so we don't want to give you too much guidance and instead have you figure out things on your own.\n",
    "\n",
    "There is a .zip file called 'unzip_me_for_instructions.zip', unzip it, open the .txt file with Python, read the instructions and see if you can figure out what you need to do!\n",
    "\n",
    "**If you get stuck or don't know where to start, here is a [guide/hints](https://docs.google.com/document/d/1JxydUr4n4fSR0EwwuwT-aHia-yPK6r-oTBuVT2sqheo/edit?usp=sharing)**"
   ]
  },
  {
   "cell_type": "code",
   "execution_count": 40,
   "metadata": {},
   "outputs": [],
   "source": [
    "import shutil\n",
    "import os"
   ]
  },
  {
   "cell_type": "code",
   "execution_count": 5,
   "metadata": {},
   "outputs": [],
   "source": [
    "zipped_folder = 'C:\\\\Users\\\\ncjsl\\\\OneDrive - Network of Music Partners\\\\Dokumenter\\\\Python Scripts\\\\Complete-Python-3-Bootcamp-master\\\\12-Advanced Python Modules\\\\08-Advanced-Python-Module-Exercise\\\\unzip_me_for_instructions.zip'\n",
    "shutil.unpack_archive(zipped_folder,'Instruktions_folder','zip')"
   ]
  },
  {
   "cell_type": "code",
   "execution_count": 6,
   "metadata": {},
   "outputs": [
    {
     "data": {
      "text/plain": [
       "'C:\\\\Users\\\\ncjsl\\\\OneDrive - Network of Music Partners\\\\Dokumenter\\\\Python Scripts\\\\Repo Lenovo'"
      ]
     },
     "execution_count": 6,
     "metadata": {},
     "output_type": "execute_result"
    }
   ],
   "source": [
    "pwd"
   ]
  },
  {
   "cell_type": "code",
   "execution_count": 22,
   "metadata": {},
   "outputs": [],
   "source": [
    "min_ovefil_sti = 'C:\\\\Users\\\\ncjsl\\\\OneDrive - Network of Music Partners\\\\Dokumenter\\\\Python Scripts\\\\Repo Lenovo\\\\Instruktions_folder\\\\extracted_content\\\\One\\\\HDOHZHFSTTK.txt'\n",
    "\n",
    "min_ovefil = open(min_ovefil_sti,'r')\n",
    "\n",
    "\n"
   ]
  },
  {
   "cell_type": "code",
   "execution_count": 30,
   "metadata": {},
   "outputs": [],
   "source": [
    "fil_streng = min_ovefil.read()\n",
    "min_ovefil.seek(0)"
   ]
  },
  {
   "cell_type": "code",
   "execution_count": null,
   "metadata": {},
   "outputs": [],
   "source": [
    "\n",
    "\n"
   ]
  },
  {
   "cell_type": "code",
   "execution_count": 35,
   "metadata": {},
   "outputs": [],
   "source": [
    "min_ovefil.close()"
   ]
  },
  {
   "cell_type": "code",
   "execution_count": 13,
   "metadata": {},
   "outputs": [],
   "source": [
    "sti='C:\\\\Users\\\\ncjsl\\\\OneDrive - Network of Music Partners\\\\Dokumenter\\\\Python Scripts\\\\Repo Lenovo II\\\\Instruktions_folder\\\\extracted_content'"
   ]
  },
  {
   "cell_type": "code",
   "execution_count": 15,
   "metadata": {},
   "outputs": [],
   "source": [
    "macsti = '/Users/jeppestaerk/Documents/Mine Python Ting/Repo Mac II/Instruktions_folder/extracted_content'"
   ]
  },
  {
   "cell_type": "code",
   "execution_count": 16,
   "metadata": {},
   "outputs": [
    {
     "data": {
      "text/plain": [
       "['Instructions.txt', 'Three', 'One', 'Two', 'Five', 'Four']"
      ]
     },
     "execution_count": 16,
     "metadata": {},
     "output_type": "execute_result"
    }
   ],
   "source": [
    "os.listdir(macsti)"
   ]
  },
  {
   "cell_type": "code",
   "execution_count": 52,
   "metadata": {},
   "outputs": [],
   "source": [
    "dir_list = os.listdir(sti)"
   ]
  },
  {
   "cell_type": "code",
   "execution_count": 54,
   "metadata": {},
   "outputs": [],
   "source": [
    "del dir_list[2]"
   ]
  },
  {
   "cell_type": "code",
   "execution_count": 55,
   "metadata": {},
   "outputs": [
    {
     "data": {
      "text/plain": [
       "['Five', 'Four', 'One', 'Three', 'Two']"
      ]
     },
     "execution_count": 55,
     "metadata": {},
     "output_type": "execute_result"
    }
   ],
   "source": [
    "dir_list"
   ]
  },
  {
   "cell_type": "code",
   "execution_count": 17,
   "metadata": {},
   "outputs": [],
   "source": [
    "for folder ,sub_folders, files in os.walk(sti):\n",
    "    \n",
    "    print(\"Currently looking at folder: \"+ folder)\n",
    "    print('\\n')\n",
    "    print(\"THE SUBFOLDERS ARE: \")\n",
    "    for sub_fold in sub_folders:\n",
    "        print(\"\\t Subfolder: \"+sub_fold )\n",
    "    \n",
    "    print('\\n')\n",
    "    \n",
    "    print(\"THE FILES ARE: \")\n",
    "    for f in files:\n",
    "        print(\"\\t File: \"+f)\n",
    "    print('\\n')\n",
    "\n",
    "\n",
    "    \n",
    "\n",
    "        \n",
    "        \n",
    "    # Now look at subfolders"
   ]
  },
  {
   "cell_type": "code",
   "execution_count": 4,
   "metadata": {},
   "outputs": [],
   "source": [
    "\n",
    "import os\n"
   ]
  },
  {
   "cell_type": "code",
   "execution_count": 23,
   "metadata": {},
   "outputs": [],
   "source": [
    "filstier=[]\n",
    "for folder, sub_folders,files in os.walk(macsti):\n",
    "    for file in files:\n",
    "        filstier.append(folder + \"/\" + file)"
   ]
  },
  {
   "cell_type": "code",
   "execution_count": 24,
   "metadata": {},
   "outputs": [
    {
     "name": "stdout",
     "output_type": "stream",
     "text": [
      "['/Users/jeppestaerk/Documents/Mine Python Ting/Repo Mac II/Instruktions_folder/extracted_content/Instructions.txt', '/Users/jeppestaerk/Documents/Mine Python Ting/Repo Mac II/Instruktions_folder/extracted_content/Three/VSXFSTABZDY.txt', '/Users/jeppestaerk/Documents/Mine Python Ting/Repo Mac II/Instruktions_folder/extracted_content/Three/YDQFMWXOUMW.txt', '/Users/jeppestaerk/Documents/Mine Python Ting/Repo Mac II/Instruktions_folder/extracted_content/Three/YQBIUHSUEVW.txt', '/Users/jeppestaerk/Documents/Mine Python Ting/Repo Mac II/Instruktions_folder/extracted_content/Three/XAJMCPEWFNI.txt', '/Users/jeppestaerk/Documents/Mine Python Ting/Repo Mac II/Instruktions_folder/extracted_content/Three/ZXEZRQXZNPG.txt', '/Users/jeppestaerk/Documents/Mine Python Ting/Repo Mac II/Instruktions_folder/extracted_content/Three/ZKQJXAYKPVD.txt', '/Users/jeppestaerk/Documents/Mine Python Ting/Repo Mac II/Instruktions_folder/extracted_content/Three/XVMPVSVYKFR.txt', '/Users/jeppestaerk/Documents/Mine Python Ting/Repo Mac II/Instruktions_folder/extracted_content/Three/XHZPVUQTXIO.txt', '/Users/jeppestaerk/Documents/Mine Python Ting/Repo Mac II/Instruktions_folder/extracted_content/Three/YYIZGBTQHZP.txt', '/Users/jeppestaerk/Documents/Mine Python Ting/Repo Mac II/Instruktions_folder/extracted_content/Three/VCFJCGJFBIH.txt', '/Users/jeppestaerk/Documents/Mine Python Ting/Repo Mac II/Instruktions_folder/extracted_content/Three/VVHFVZUNLOO.txt', '/Users/jeppestaerk/Documents/Mine Python Ting/Repo Mac II/Instruktions_folder/extracted_content/Three/VVKGWLRMHLU.txt', '/Users/jeppestaerk/Documents/Mine Python Ting/Repo Mac II/Instruktions_folder/extracted_content/Three/XJCWENFFGHB.txt', '/Users/jeppestaerk/Documents/Mine Python Ting/Repo Mac II/Instruktions_folder/extracted_content/Three/XFHJOTNPEJG.txt', '/Users/jeppestaerk/Documents/Mine Python Ting/Repo Mac II/Instruktions_folder/extracted_content/Three/ZOWVXWPOGWP.txt', '/Users/jeppestaerk/Documents/Mine Python Ting/Repo Mac II/Instruktions_folder/extracted_content/Three/ZXIBJMPROKW.txt', '/Users/jeppestaerk/Documents/Mine Python Ting/Repo Mac II/Instruktions_folder/extracted_content/Three/VAQIJTDOFUJ.txt', '/Users/jeppestaerk/Documents/Mine Python Ting/Repo Mac II/Instruktions_folder/extracted_content/Three/YCESZHJDBXH.txt', '/Users/jeppestaerk/Documents/Mine Python Ting/Repo Mac II/Instruktions_folder/extracted_content/Three/YQRNCMNFFHW.txt', '/Users/jeppestaerk/Documents/Mine Python Ting/Repo Mac II/Instruktions_folder/extracted_content/Three/ZEZKKRBIZEB.txt', '/Users/jeppestaerk/Documents/Mine Python Ting/Repo Mac II/Instruktions_folder/extracted_content/One/LFEATJAAYDC.txt', '/Users/jeppestaerk/Documents/Mine Python Ting/Repo Mac II/Instruktions_folder/extracted_content/One/KCXGNQCZBLO.txt', '/Users/jeppestaerk/Documents/Mine Python Ting/Repo Mac II/Instruktions_folder/extracted_content/One/KFIUZFERLET.txt', '/Users/jeppestaerk/Documents/Mine Python Ting/Repo Mac II/Instruktions_folder/extracted_content/One/LIFDHOFKWOI.txt', '/Users/jeppestaerk/Documents/Mine Python Ting/Repo Mac II/Instruktions_folder/extracted_content/One/HRQFTHKVJTL.txt', '/Users/jeppestaerk/Documents/Mine Python Ting/Repo Mac II/Instruktions_folder/extracted_content/One/PLYCGPVEAWO.txt', '/Users/jeppestaerk/Documents/Mine Python Ting/Repo Mac II/Instruktions_folder/extracted_content/One/JEHBLZPUPSP.txt', '/Users/jeppestaerk/Documents/Mine Python Ting/Repo Mac II/Instruktions_folder/extracted_content/One/PDJMSMNKIRM.txt', '/Users/jeppestaerk/Documents/Mine Python Ting/Repo Mac II/Instruktions_folder/extracted_content/One/LPNDVDXPZIG.txt', '/Users/jeppestaerk/Documents/Mine Python Ting/Repo Mac II/Instruktions_folder/extracted_content/One/HMNZTLIFGPD.txt', '/Users/jeppestaerk/Documents/Mine Python Ting/Repo Mac II/Instruktions_folder/extracted_content/One/KNBSKDREHQU.txt', '/Users/jeppestaerk/Documents/Mine Python Ting/Repo Mac II/Instruktions_folder/extracted_content/One/KTXDHIOKAUI.txt', '/Users/jeppestaerk/Documents/Mine Python Ting/Repo Mac II/Instruktions_folder/extracted_content/One/JQUOBKFUACN.txt', '/Users/jeppestaerk/Documents/Mine Python Ting/Repo Mac II/Instruktions_folder/extracted_content/One/HFUTPPAXDIS.txt', '/Users/jeppestaerk/Documents/Mine Python Ting/Repo Mac II/Instruktions_folder/extracted_content/One/PTOBBCJYURJ.txt', '/Users/jeppestaerk/Documents/Mine Python Ting/Repo Mac II/Instruktions_folder/extracted_content/One/LHODFIKVTQA.txt', '/Users/jeppestaerk/Documents/Mine Python Ting/Repo Mac II/Instruktions_folder/extracted_content/One/JLTXKIGCWDL.txt', '/Users/jeppestaerk/Documents/Mine Python Ting/Repo Mac II/Instruktions_folder/extracted_content/One/HDOHZHFSTTK.txt', '/Users/jeppestaerk/Documents/Mine Python Ting/Repo Mac II/Instruktions_folder/extracted_content/One/KMMLGJOWLGI.txt', '/Users/jeppestaerk/Documents/Mine Python Ting/Repo Mac II/Instruktions_folder/extracted_content/One/JDLRVFCXYLU.txt', '/Users/jeppestaerk/Documents/Mine Python Ting/Repo Mac II/Instruktions_folder/extracted_content/One/PHWAVPEKAER.txt', '/Users/jeppestaerk/Documents/Mine Python Ting/Repo Mac II/Instruktions_folder/extracted_content/One/LDGOCUQJNNS.txt', '/Users/jeppestaerk/Documents/Mine Python Ting/Repo Mac II/Instruktions_folder/extracted_content/One/JTHSNBNPQSE.txt', '/Users/jeppestaerk/Documents/Mine Python Ting/Repo Mac II/Instruktions_folder/extracted_content/One/HVUTZEVMSBW.txt', '/Users/jeppestaerk/Documents/Mine Python Ting/Repo Mac II/Instruktions_folder/extracted_content/One/PQNVCVJINAR.txt', '/Users/jeppestaerk/Documents/Mine Python Ting/Repo Mac II/Instruktions_folder/extracted_content/Two/HEORIXOTANT.txt', '/Users/jeppestaerk/Documents/Mine Python Ting/Repo Mac II/Instruktions_folder/extracted_content/Two/SOFUJYXTIMK.txt', '/Users/jeppestaerk/Documents/Mine Python Ting/Repo Mac II/Instruktions_folder/extracted_content/Two/HMZXPBOPRAE.txt', '/Users/jeppestaerk/Documents/Mine Python Ting/Repo Mac II/Instruktions_folder/extracted_content/Two/OMWIMVRCMYM.txt', '/Users/jeppestaerk/Documents/Mine Python Ting/Repo Mac II/Instruktions_folder/extracted_content/Two/OHZOUOSFJQC.txt', '/Users/jeppestaerk/Documents/Mine Python Ting/Repo Mac II/Instruktions_folder/extracted_content/Two/OKWFOOYTXFU.txt', '/Users/jeppestaerk/Documents/Mine Python Ting/Repo Mac II/Instruktions_folder/extracted_content/Two/LVMBINRBJXL.txt', '/Users/jeppestaerk/Documents/Mine Python Ting/Repo Mac II/Instruktions_folder/extracted_content/Two/LSQSTGPIGIY.txt', '/Users/jeppestaerk/Documents/Mine Python Ting/Repo Mac II/Instruktions_folder/extracted_content/Two/OIHMLGMWTHL.txt', '/Users/jeppestaerk/Documents/Mine Python Ting/Repo Mac II/Instruktions_folder/extracted_content/Two/GQTJJORZBXY.txt', '/Users/jeppestaerk/Documents/Mine Python Ting/Repo Mac II/Instruktions_folder/extracted_content/Two/HARDNJGDRBC.txt', '/Users/jeppestaerk/Documents/Mine Python Ting/Repo Mac II/Instruktions_folder/extracted_content/Two/OYMAGXAGWHJ.txt', '/Users/jeppestaerk/Documents/Mine Python Ting/Repo Mac II/Instruktions_folder/extracted_content/Two/HMUTDOVNYTV.txt', '/Users/jeppestaerk/Documents/Mine Python Ting/Repo Mac II/Instruktions_folder/extracted_content/Two/LYZEQCVYNEZ.txt', '/Users/jeppestaerk/Documents/Mine Python Ting/Repo Mac II/Instruktions_folder/extracted_content/Two/GMMQQUBMJNR.txt', '/Users/jeppestaerk/Documents/Mine Python Ting/Repo Mac II/Instruktions_folder/extracted_content/Two/GTOTCIWMDBY.txt', '/Users/jeppestaerk/Documents/Mine Python Ting/Repo Mac II/Instruktions_folder/extracted_content/Two/LULTNYAQEJG.txt', '/Users/jeppestaerk/Documents/Mine Python Ting/Repo Mac II/Instruktions_folder/extracted_content/Two/HTOHSTYXTCO.txt', '/Users/jeppestaerk/Documents/Mine Python Ting/Repo Mac II/Instruktions_folder/extracted_content/Two/SJMJLDGPBSJ.txt', '/Users/jeppestaerk/Documents/Mine Python Ting/Repo Mac II/Instruktions_folder/extracted_content/Two/LCJZYDHBFRM.txt', '/Users/jeppestaerk/Documents/Mine Python Ting/Repo Mac II/Instruktions_folder/extracted_content/Two/SPDZYGDHEWO.txt', '/Users/jeppestaerk/Documents/Mine Python Ting/Repo Mac II/Instruktions_folder/extracted_content/Two/SIKFPPLCJDN.txt', '/Users/jeppestaerk/Documents/Mine Python Ting/Repo Mac II/Instruktions_folder/extracted_content/Two/GXYSEPAFRTP.txt', '/Users/jeppestaerk/Documents/Mine Python Ting/Repo Mac II/Instruktions_folder/extracted_content/Two/SWOFXREEHWA.txt', '/Users/jeppestaerk/Documents/Mine Python Ting/Repo Mac II/Instruktions_folder/extracted_content/Two/GKQBQRCTNNK.txt', '/Users/jeppestaerk/Documents/Mine Python Ting/Repo Mac II/Instruktions_folder/extracted_content/Five/ESIZWBHMGDP.txt', '/Users/jeppestaerk/Documents/Mine Python Ting/Repo Mac II/Instruktions_folder/extracted_content/Five/BUGKBZWRRVI.txt', '/Users/jeppestaerk/Documents/Mine Python Ting/Repo Mac II/Instruktions_folder/extracted_content/Five/ARLKFCWIAJE.txt', '/Users/jeppestaerk/Documents/Mine Python Ting/Repo Mac II/Instruktions_folder/extracted_content/Five/EYTCGIOYWIW.txt', '/Users/jeppestaerk/Documents/Mine Python Ting/Repo Mac II/Instruktions_folder/extracted_content/Five/APJKSRITGGX.txt', '/Users/jeppestaerk/Documents/Mine Python Ting/Repo Mac II/Instruktions_folder/extracted_content/Five/AXJGVPVEFAS.txt', '/Users/jeppestaerk/Documents/Mine Python Ting/Repo Mac II/Instruktions_folder/extracted_content/Five/CSCLFZCDYYC.txt', '/Users/jeppestaerk/Documents/Mine Python Ting/Repo Mac II/Instruktions_folder/extracted_content/Five/CAHBEVSVDDN.txt', '/Users/jeppestaerk/Documents/Mine Python Ting/Repo Mac II/Instruktions_folder/extracted_content/Five/BVBURZZCAPR.txt', '/Users/jeppestaerk/Documents/Mine Python Ting/Repo Mac II/Instruktions_folder/extracted_content/Five/ETCUEXWNBCF.txt', '/Users/jeppestaerk/Documents/Mine Python Ting/Repo Mac II/Instruktions_folder/extracted_content/Five/CRFSDGYFSHA.txt', '/Users/jeppestaerk/Documents/Mine Python Ting/Repo Mac II/Instruktions_folder/extracted_content/Five/DYOPIIVMZOO.txt', '/Users/jeppestaerk/Documents/Mine Python Ting/Repo Mac II/Instruktions_folder/extracted_content/Five/DDLASODUVPX.txt', '/Users/jeppestaerk/Documents/Mine Python Ting/Repo Mac II/Instruktions_folder/extracted_content/Five/CXBVCTRBBIE.txt', '/Users/jeppestaerk/Documents/Mine Python Ting/Repo Mac II/Instruktions_folder/extracted_content/Five/COMGMZBJAYE.txt', '/Users/jeppestaerk/Documents/Mine Python Ting/Repo Mac II/Instruktions_folder/extracted_content/Five/EAAOEPSAWMQ.txt', '/Users/jeppestaerk/Documents/Mine Python Ting/Repo Mac II/Instruktions_folder/extracted_content/Five/DZUWWXYIAEL.txt', '/Users/jeppestaerk/Documents/Mine Python Ting/Repo Mac II/Instruktions_folder/extracted_content/Five/EIPWXMQZJKU.txt', '/Users/jeppestaerk/Documents/Mine Python Ting/Repo Mac II/Instruktions_folder/extracted_content/Five/DHZBAAYEADM.txt', '/Users/jeppestaerk/Documents/Mine Python Ting/Repo Mac II/Instruktions_folder/extracted_content/Five/BSKJDRNEZQM.txt', '/Users/jeppestaerk/Documents/Mine Python Ting/Repo Mac II/Instruktions_folder/extracted_content/Five/AQKATDFGXTS.txt', '/Users/jeppestaerk/Documents/Mine Python Ting/Repo Mac II/Instruktions_folder/extracted_content/Five/BTYWAHLHKBM.txt', '/Users/jeppestaerk/Documents/Mine Python Ting/Repo Mac II/Instruktions_folder/extracted_content/Five/AEITMYIRQLP.txt', '/Users/jeppestaerk/Documents/Mine Python Ting/Repo Mac II/Instruktions_folder/extracted_content/Five/BNUQEHCFRTG.txt', '/Users/jeppestaerk/Documents/Mine Python Ting/Repo Mac II/Instruktions_folder/extracted_content/Five/DQPZQLBCJYP.txt', '/Users/jeppestaerk/Documents/Mine Python Ting/Repo Mac II/Instruktions_folder/extracted_content/Four/WHTOHQUWXIN.txt', '/Users/jeppestaerk/Documents/Mine Python Ting/Repo Mac II/Instruktions_folder/extracted_content/Four/QDDETWBHJYC.txt', '/Users/jeppestaerk/Documents/Mine Python Ting/Repo Mac II/Instruktions_folder/extracted_content/Four/WNJISWPEBRS.txt', '/Users/jeppestaerk/Documents/Mine Python Ting/Repo Mac II/Instruktions_folder/extracted_content/Four/WFSKPTXPFCH.txt', '/Users/jeppestaerk/Documents/Mine Python Ting/Repo Mac II/Instruktions_folder/extracted_content/Four/EMTGPSXQEJX.txt', '/Users/jeppestaerk/Documents/Mine Python Ting/Repo Mac II/Instruktions_folder/extracted_content/Four/TWUOYFCCYBQ.txt', '/Users/jeppestaerk/Documents/Mine Python Ting/Repo Mac II/Instruktions_folder/extracted_content/Four/QTDYYIFPHAU.txt', '/Users/jeppestaerk/Documents/Mine Python Ting/Repo Mac II/Instruktions_folder/extracted_content/Four/TAKNAVDMZKV.txt', '/Users/jeppestaerk/Documents/Mine Python Ting/Repo Mac II/Instruktions_folder/extracted_content/Four/RYNXFYXMKHG.txt', '/Users/jeppestaerk/Documents/Mine Python Ting/Repo Mac II/Instruktions_folder/extracted_content/Four/ROICPTWKXDX.txt', '/Users/jeppestaerk/Documents/Mine Python Ting/Repo Mac II/Instruktions_folder/extracted_content/Four/QCWCFLKNZMN.txt', '/Users/jeppestaerk/Documents/Mine Python Ting/Repo Mac II/Instruktions_folder/extracted_content/Four/EXVQSVBQQQH.txt', '/Users/jeppestaerk/Documents/Mine Python Ting/Repo Mac II/Instruktions_folder/extracted_content/Four/THPNEGKTJWI.txt', '/Users/jeppestaerk/Documents/Mine Python Ting/Repo Mac II/Instruktions_folder/extracted_content/Four/TJFMLJODVAD.txt', '/Users/jeppestaerk/Documents/Mine Python Ting/Repo Mac II/Instruktions_folder/extracted_content/Four/QCTCKDIBBVG.txt', '/Users/jeppestaerk/Documents/Mine Python Ting/Repo Mac II/Instruktions_folder/extracted_content/Four/TKCZSFQNJTX.txt', '/Users/jeppestaerk/Documents/Mine Python Ting/Repo Mac II/Instruktions_folder/extracted_content/Four/WXDJDOGZEHN.txt', '/Users/jeppestaerk/Documents/Mine Python Ting/Repo Mac II/Instruktions_folder/extracted_content/Four/QVNJULGXNUM.txt', '/Users/jeppestaerk/Documents/Mine Python Ting/Repo Mac II/Instruktions_folder/extracted_content/Four/RSXOTNGKBML.txt', '/Users/jeppestaerk/Documents/Mine Python Ting/Repo Mac II/Instruktions_folder/extracted_content/Four/EPRNUHRSESC.txt', '/Users/jeppestaerk/Documents/Mine Python Ting/Repo Mac II/Instruktions_folder/extracted_content/Four/ECIOBYCDVFI.txt', '/Users/jeppestaerk/Documents/Mine Python Ting/Repo Mac II/Instruktions_folder/extracted_content/Four/RXDARIDGKBF.txt', '/Users/jeppestaerk/Documents/Mine Python Ting/Repo Mac II/Instruktions_folder/extracted_content/Four/REAXWSOIQDY.txt', '/Users/jeppestaerk/Documents/Mine Python Ting/Repo Mac II/Instruktions_folder/extracted_content/Four/WYDLGSGGXKV.txt', '/Users/jeppestaerk/Documents/Mine Python Ting/Repo Mac II/Instruktions_folder/extracted_content/Four/ESDIZXHYCVY.txt']\n"
     ]
    }
   ],
   "source": [
    "print(filstier)"
   ]
  },
  {
   "cell_type": "code",
   "execution_count": 30,
   "metadata": {},
   "outputs": [
    {
     "name": "stdout",
     "output_type": "stream",
     "text": [
      "Good work on unzipping the file!\n",
      "You should now see 5 folders, each with a lot of random .txt files.\n",
      "Within one of these text files is a telephone number formated ###-###-#### \n",
      "Use the Python os module and regular expressions to iterate through each file, open it, and search for a telephone number.\n",
      "Good luck!\n"
     ]
    }
   ],
   "source": [
    "insfil = open(filstier[0])\n",
    "print(insfil.read())\n",
    "insfil.close()"
   ]
  },
  {
   "cell_type": "code",
   "execution_count": 31,
   "metadata": {},
   "outputs": [
    {
     "data": {
      "text/plain": [
       "121"
      ]
     },
     "execution_count": 31,
     "metadata": {},
     "output_type": "execute_result"
    }
   ],
   "source": [
    "len(filstier)"
   ]
  },
  {
   "cell_type": "code",
   "execution_count": 22,
   "metadata": {},
   "outputs": [],
   "source": [
    "import re"
   ]
  },
  {
   "cell_type": "code",
   "execution_count": 124,
   "metadata": {},
   "outputs": [
    {
     "data": {
      "text/plain": [
       "re.Match"
      ]
     },
     "execution_count": 124,
     "metadata": {},
     "output_type": "execute_result"
    }
   ],
   "source": [
    "phone_num_p = re.search(r'\\d\\d\\d-\\d\\d\\d-\\d\\d\\d\\d','ksjhdkjhsdf kjhkjhdsf 345-234-6767')\n",
    "phone_num_p.group()\n",
    "type(phone_num_p)"
   ]
  },
  {
   "cell_type": "code",
   "execution_count": 27,
   "metadata": {},
   "outputs": [
    {
     "name": "stdout",
     "output_type": "stream",
     "text": [
      "I found a phone number in /Users/jeppestaerk/Documents/Mine Python Ting/Repo Mac II/Instruktions_folder/extracted_content/Four/EMTGPSXQEJX.txt\n",
      "<re.Match object; span=(1062, 1074), match='719-266-2837'>\n"
     ]
    }
   ],
   "source": [
    "for filsti in filstier:\n",
    "    tekst_fil = open(filsti)\n",
    "    tekst_i_fil = tekst_fil.read()\n",
    "    #print(tekst_i_fil)\n",
    "    tekst_fil.close()\n",
    "    phone_num = re.search(r'\\d\\d\\d-\\d\\d\\d-\\d\\d\\d\\d',tekst_i_fil)\n",
    "    if phone_num != None:\n",
    "        print('I found a phone number in '+ filsti)\n",
    "        print(phone_num)"
   ]
  },
  {
   "cell_type": "code",
   "execution_count": null,
   "metadata": {},
   "outputs": [],
   "source": []
  }
 ],
 "metadata": {
  "anaconda-cloud": {},
  "kernelspec": {
   "display_name": "Python 3 (ipykernel)",
   "language": "python",
   "name": "python3"
  },
  "language_info": {
   "codemirror_mode": {
    "name": "ipython",
    "version": 3
   },
   "file_extension": ".py",
   "mimetype": "text/x-python",
   "name": "python",
   "nbconvert_exporter": "python",
   "pygments_lexer": "ipython3",
   "version": "3.9.7"
  }
 },
 "nbformat": 4,
 "nbformat_minor": 2
}
