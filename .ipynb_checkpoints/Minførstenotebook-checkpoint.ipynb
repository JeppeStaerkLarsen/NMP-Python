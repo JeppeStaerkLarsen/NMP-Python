{
 "cells": [
  {
   "cell_type": "code",
   "execution_count": 1,
   "id": "3b2bdb5f",
   "metadata": {},
   "outputs": [
    {
     "name": "stdout",
     "output_type": "stream",
     "text": [
      "Hell\n"
     ]
    }
   ],
   "source": [
    "print('Hell')"
   ]
  },
  {
   "cell_type": "markdown",
   "id": "c469f721",
   "metadata": {},
   "source": [
    "Her kan du skrive noter"
   ]
  },
  {
   "cell_type": "code",
   "execution_count": 4,
   "id": "5fafde7b",
   "metadata": {},
   "outputs": [
    {
     "data": {
      "text/plain": [
       "5.551115123125783e-17"
      ]
     },
     "execution_count": 4,
     "metadata": {},
     "output_type": "execute_result"
    }
   ],
   "source": [
    "0.1+0.2-0.3"
   ]
  },
  {
   "cell_type": "code",
   "execution_count": null,
   "id": "5451171f",
   "metadata": {},
   "outputs": [],
   "source": []
  },
  {
   "cell_type": "code",
   "execution_count": 6,
   "id": "9d516895",
   "metadata": {},
   "outputs": [
    {
     "data": {
      "text/plain": [
       "'HELLO WORLD'"
      ]
     },
     "execution_count": 6,
     "metadata": {},
     "output_type": "execute_result"
    }
   ],
   "source": [
    "x='Hello World'\n",
    "x.upper()"
   ]
  },
  {
   "cell_type": "code",
   "execution_count": 12,
   "id": "dec18b3a",
   "metadata": {},
   "outputs": [
    {
     "name": "stdout",
     "output_type": "stream",
     "text": [
      "the metal is fox\n"
     ]
    }
   ],
   "source": [
    "print('the {2} {1} {0}'."
   ]
  },
  {
   "cell_type": "code",
   "execution_count": 19,
   "id": "7bea6693",
   "metadata": {},
   "outputs": [],
   "source": [
    "a=[1,2,3]\n",
    "a[2]=7"
   ]
  },
  {
   "cell_type": "code",
   "execution_count": 20,
   "id": "8b9718ca",
   "metadata": {},
   "outputs": [
    {
     "data": {
      "text/plain": [
       "[1, 2, 7]"
      ]
     },
     "execution_count": 20,
     "metadata": {},
     "output_type": "execute_result"
    }
   ],
   "source": [
    "a"
   ]
  },
  {
   "cell_type": "code",
   "execution_count": 23,
   "id": "e6dae098",
   "metadata": {},
   "outputs": [
    {
     "data": {
      "text/plain": [
       "{'P', 'a', 'e', 'l', 'r'}"
      ]
     },
     "execution_count": 23,
     "metadata": {},
     "output_type": "execute_result"
    }
   ],
   "source": [
    "set('Prallel')"
   ]
  },
  {
   "cell_type": "code",
   "execution_count": 28,
   "id": "257d7dbd",
   "metadata": {},
   "outputs": [
    {
     "data": {
      "text/plain": [
       "set"
      ]
     },
     "execution_count": 28,
     "metadata": {},
     "output_type": "execute_result"
    }
   ],
   "source": [
    "type({'Para','llel'})"
   ]
  },
  {
   "cell_type": "code",
   "execution_count": 29,
   "id": "71d2a61e",
   "metadata": {},
   "outputs": [
    {
     "data": {
      "text/plain": [
       "{1, 2, 3}"
      ]
     },
     "execution_count": 29,
     "metadata": {},
     "output_type": "execute_result"
    }
   ],
   "source": [
    "set([1,1,2,3])"
   ]
  },
  {
   "cell_type": "code",
   "execution_count": 30,
   "id": "b20a885f",
   "metadata": {},
   "outputs": [
    {
     "name": "stdout",
     "output_type": "stream",
     "text": [
      "Writing minfil.txt\n"
     ]
    }
   ],
   "source": [
    "%%writefile minfil.txt\n",
    "Hej, det her er en tekst fil\n",
    "Det her er anden linje\n",
    "Det her er tredje linje"
   ]
  },
  {
   "cell_type": "code",
   "execution_count": 31,
   "id": "92e27787",
   "metadata": {},
   "outputs": [
    {
     "data": {
      "text/plain": [
       "'C:\\\\Users\\\\ncjsl\\\\Mine Python ting'"
      ]
     },
     "execution_count": 31,
     "metadata": {},
     "output_type": "execute_result"
    }
   ],
   "source": [
    "pwd"
   ]
  },
  {
   "cell_type": "code",
   "execution_count": 34,
   "id": "e55698e1",
   "metadata": {},
   "outputs": [],
   "source": [
    "minfil = open(\"C:\\\\Users\\\\ncjsl\\\\\n",
    "Mine Python ting\\\\Complete-Python-3-Bootcamp-master\\\\\n",
    "00-Python Object and Data Structure Basics\\\\test.txt\")"
   ]
  },
  {
   "cell_type": "code",
   "execution_count": 35,
   "id": "b7b98c1a",
   "metadata": {},
   "outputs": [
    {
     "data": {
      "text/plain": [
       "'First Line\\nSecond Line'"
      ]
     },
     "execution_count": 35,
     "metadata": {},
     "output_type": "execute_result"
    }
   ],
   "source": [
    "minfil.read()"
   ]
  },
  {
   "cell_type": "code",
   "execution_count": 36,
   "id": "cd5d7027",
   "metadata": {},
   "outputs": [],
   "source": [
    "minfil.close()\n"
   ]
  },
  {
   "cell_type": "code",
   "execution_count": 37,
   "id": "e23704b4",
   "metadata": {},
   "outputs": [
    {
     "ename": "ValueError",
     "evalue": "I/O operation on closed file.",
     "output_type": "error",
     "traceback": [
      "\u001b[1;31m---------------------------------------------------------------------------\u001b[0m",
      "\u001b[1;31mValueError\u001b[0m                                Traceback (most recent call last)",
      "\u001b[1;32m~\\AppData\\Local\\Temp/ipykernel_2540/1422809216.py\u001b[0m in \u001b[0;36m<module>\u001b[1;34m\u001b[0m\n\u001b[1;32m----> 1\u001b[1;33m \u001b[0mminfil\u001b[0m\u001b[1;33m.\u001b[0m\u001b[0mread\u001b[0m\u001b[1;33m(\u001b[0m\u001b[1;33m)\u001b[0m\u001b[1;33m\u001b[0m\u001b[1;33m\u001b[0m\u001b[0m\n\u001b[0m",
      "\u001b[1;31mValueError\u001b[0m: I/O operation on closed file."
     ]
    }
   ],
   "source": [
    "minfil.read()"
   ]
  },
  {
   "cell_type": "code",
   "execution_count": 46,
   "id": "bd6d173a",
   "metadata": {},
   "outputs": [],
   "source": [
    "with open('min_skriver.txt',mode='w') as f:\n",
    "    f.write('Five on Fifth\\nSix on Sixth')"
   ]
  },
  {
   "cell_type": "code",
   "execution_count": 50,
   "id": "504e4893",
   "metadata": {},
   "outputs": [
    {
     "name": "stdout",
     "output_type": "stream",
     "text": [
      "Five on Fifth\n",
      "Six on SixthHell on earthHell on earth\n"
     ]
    }
   ],
   "source": [
    "with open('min_skriver.txt',mode='r') as f:\n",
    "    print(f.read())"
   ]
  },
  {
   "cell_type": "code",
   "execution_count": null,
   "id": "b0d50f90",
   "metadata": {},
   "outputs": [],
   "source": []
  },
  {
   "cell_type": "code",
   "execution_count": 52,
   "id": "46121d9e",
   "metadata": {},
   "outputs": [
    {
     "data": {
      "text/plain": [
       "58"
      ]
     },
     "execution_count": 52,
     "metadata": {},
     "output_type": "execute_result"
    }
   ],
   "source": [
    "from random import randint\n",
    "randint(0,70)"
   ]
  },
  {
   "cell_type": "code",
   "execution_count": 49,
   "id": "d68a2559",
   "metadata": {},
   "outputs": [],
   "source": [
    "with open('min_skriver.txt',mode='a') as f:\n",
    "    f.write('Hell on earth')"
   ]
  },
  {
   "cell_type": "code",
   "execution_count": 2,
   "id": "15c59e1d",
   "metadata": {},
   "outputs": [
    {
     "data": {
      "text/plain": [
       "3"
      ]
     },
     "execution_count": 2,
     "metadata": {},
     "output_type": "execute_result"
    }
   ],
   "source": [
    "from random import randint\n",
    "randint(0,5)"
   ]
  },
  {
   "cell_type": "code",
   "execution_count": 1,
   "id": "98db9095",
   "metadata": {},
   "outputs": [
    {
     "data": {
      "text/plain": [
       "2255"
      ]
     },
     "execution_count": 1,
     "metadata": {},
     "output_type": "execute_result"
    }
   ],
   "source": [
    "from random import randint\n",
    "randint (0,2318)"
   ]
  },
  {
   "cell_type": "code",
   "execution_count": 1,
   "id": "870c02dc",
   "metadata": {},
   "outputs": [
    {
     "name": "stdout",
     "output_type": "stream",
     "text": [
      "hallo\n"
     ]
    }
   ],
   "source": [
    "def hallo_funktion():\n",
    "    '''den her skriver hallo'''\n",
    "    print('hallo')\n",
    "\n",
    "hallo_funktion()"
   ]
  },
  {
   "cell_type": "code",
   "execution_count": 2,
   "id": "912e42d0",
   "metadata": {},
   "outputs": [
    {
     "data": {
      "text/plain": [
       "'To er da godt hop tit'"
      ]
     },
     "execution_count": 2,
     "metadata": {},
     "output_type": "execute_result"
    }
   ],
   "source": [
    "streng = 'To er da godt {} {}'.format('hop','tit')\n",
    "streng"
   ]
  },
  {
   "cell_type": "code",
   "execution_count": 4,
   "id": "905fe051",
   "metadata": {},
   "outputs": [
    {
     "data": {
      "text/plain": [
       "True"
      ]
     },
     "execution_count": 4,
     "metadata": {},
     "output_type": "execute_result"
    }
   ],
   "source": [
    "def is_even(a):\n",
    "    return a%2==0\n",
    "\n",
    "is_even(8)"
   ]
  },
  {
   "cell_type": "code",
   "execution_count": 7,
   "id": "a8661e35",
   "metadata": {},
   "outputs": [
    {
     "data": {
      "text/plain": [
       "[8, 6, 4, 2, 0]"
      ]
     },
     "execution_count": 7,
     "metadata": {},
     "output_type": "execute_result"
    }
   ],
   "source": [
    "def myfunc(*args):\n",
    "    is_even = []\n",
    "    for i in args:\n",
    "        if i%2==0:\n",
    "            is_even.append(i)\n",
    "        else:\n",
    "            pass\n",
    "    return is_even\n",
    "\n",
    "myfunc(9,8,7,6,5,4,3,2,1,0)"
   ]
  },
  {
   "cell_type": "code",
   "execution_count": 16,
   "id": "7bb15ad6",
   "metadata": {},
   "outputs": [
    {
     "data": {
      "text/plain": [
       "'JePpEsTaErK'"
      ]
     },
     "execution_count": 16,
     "metadata": {},
     "output_type": "execute_result"
    }
   ],
   "source": [
    "def myfunc(string):\n",
    "    #lav hvert bogstav på lige position uppercase\n",
    "    Output=''\n",
    "    i=0\n",
    "    for letter in string:\n",
    "        if i%2==0:\n",
    "            a= string[i].upper()\n",
    "            Output = Output + a\n",
    "        else:\n",
    "            a= string[i].lower()\n",
    "            Output = Output + a\n",
    "        i+=1\n",
    "    return Output\n",
    "\n",
    "myfunc('JeppeStaerk')\n",
    "            \n",
    "        \n",
    "    "
   ]
  },
  {
   "cell_type": "code",
   "execution_count": 17,
   "id": "e13f5bbc",
   "metadata": {},
   "outputs": [],
   "source": [
    "x=25\n",
    "\n",
    "def printer():\n",
    "    x=50\n",
    "    return x\n"
   ]
  },
  {
   "cell_type": "code",
   "execution_count": 18,
   "id": "25116728",
   "metadata": {},
   "outputs": [
    {
     "name": "stdout",
     "output_type": "stream",
     "text": [
      "25\n"
     ]
    }
   ],
   "source": [
    "print(x)"
   ]
  },
  {
   "cell_type": "code",
   "execution_count": 19,
   "id": "180c97cd",
   "metadata": {},
   "outputs": [
    {
     "data": {
      "text/plain": [
       "50"
      ]
     },
     "execution_count": 19,
     "metadata": {},
     "output_type": "execute_result"
    }
   ],
   "source": [
    "printer()"
   ]
  },
  {
   "cell_type": "code",
   "execution_count": 20,
   "id": "417d9d39",
   "metadata": {},
   "outputs": [
    {
     "name": "stdout",
     "output_type": "stream",
     "text": [
      "25\n"
     ]
    }
   ],
   "source": [
    "print(x)"
   ]
  },
  {
   "cell_type": "code",
   "execution_count": 11,
   "id": "eacf4f1c",
   "metadata": {},
   "outputs": [
    {
     "data": {
      "text/plain": [
       "'j'"
      ]
     },
     "execution_count": 11,
     "metadata": {},
     "output_type": "execute_result"
    }
   ],
   "source": [
    "string = 'JeppeStaerkLarsen'\n",
    "\n",
    "string[0].lower()"
   ]
  },
  {
   "cell_type": "code",
   "execution_count": null,
   "id": "cac23b34",
   "metadata": {},
   "outputs": [],
   "source": [
    "# brug find() og rfind() til nim sum game"
   ]
  },
  {
   "cell_type": "code",
   "execution_count": 1,
   "id": "706b87df",
   "metadata": {},
   "outputs": [
    {
     "name": "stdout",
     "output_type": "stream",
     "text": [
      "Writing pylint_testfil.txt\n"
     ]
    }
   ],
   "source": [
    "%%writefile pylint_testfil.txt\n",
    "For testing the pylint package, Jeppe"
   ]
  },
  {
   "cell_type": "code",
   "execution_count": 3,
   "id": "9d7f7546",
   "metadata": {},
   "outputs": [
    {
     "name": "stdout",
     "output_type": "stream",
     "text": [
      "Overwriting pylint_testfil.txt\n"
     ]
    }
   ],
   "source": [
    "%%writefile pylint_testfil.txt\n",
    "For at gøre det igen\n",
    "\n",
    "print('whaat')"
   ]
  },
  {
   "cell_type": "code",
   "execution_count": 5,
   "id": "7261787b",
   "metadata": {},
   "outputs": [
    {
     "ename": "SyntaxError",
     "evalue": "invalid syntax (Temp/ipykernel_22680/2659389692.py, line 1)",
     "output_type": "error",
     "traceback": [
      "\u001b[1;36m  File \u001b[1;32m\"C:\\Users\\ncjsl\\AppData\\Local\\Temp/ipykernel_22680/2659389692.py\"\u001b[1;36m, line \u001b[1;32m1\u001b[0m\n\u001b[1;33m    open pylint_testfil\u001b[0m\n\u001b[1;37m         ^\u001b[0m\n\u001b[1;31mSyntaxError\u001b[0m\u001b[1;31m:\u001b[0m invalid syntax\n"
     ]
    }
   ],
   "source": [
    "open pylint_testfil"
   ]
  },
  {
   "cell_type": "code",
   "execution_count": 1,
   "id": "5a9aefff",
   "metadata": {},
   "outputs": [
    {
     "name": "stdout",
     "output_type": "stream",
     "text": [
      "asdf\n"
     ]
    }
   ],
   "source": [
    "print(\"asdf\")"
   ]
  },
  {
   "cell_type": "code",
   "execution_count": 9,
   "id": "b7f42157",
   "metadata": {},
   "outputs": [
    {
     "name": "stdout",
     "output_type": "stream",
     "text": [
      "How many coins do you wish to bet?: gfdh\n",
      "please enter a whole number of coins\n",
      "How many coins do you wish to bet?: 4.7\n",
      "please enter a whole number of coins\n",
      "How many coins do you wish to bet?: 6\n"
     ]
    }
   ],
   "source": [
    "def enter_int():\n",
    "    while True:\n",
    "        try:\n",
    "            int(input('How many coins do you wish to bet?: '))\n",
    "        except:\n",
    "            print('please enter a whole number of coins')\n",
    "        else:\n",
    "            break"
   ]
  },
  {
   "cell_type": "code",
   "execution_count": 3,
   "id": "c5cc185a",
   "metadata": {},
   "outputs": [],
   "source": [
    "today = datetime.date.today()"
   ]
  },
  {
   "cell_type": "code",
   "execution_count": 1,
   "id": "09744098",
   "metadata": {},
   "outputs": [],
   "source": [
    "import datetime"
   ]
  },
  {
   "cell_type": "code",
   "execution_count": 11,
   "id": "61db5b12",
   "metadata": {},
   "outputs": [],
   "source": [
    "today = datetime.datetime.now()\n"
   ]
  },
  {
   "cell_type": "code",
   "execution_count": 8,
   "id": "e59ec59a",
   "metadata": {},
   "outputs": [
    {
     "data": {
      "text/plain": [
       "datetime.datetime(2022, 3, 2, 13, 40, 38, 621063)"
      ]
     },
     "execution_count": 8,
     "metadata": {},
     "output_type": "execute_result"
    }
   ],
   "source": [
    "today"
   ]
  },
  {
   "cell_type": "code",
   "execution_count": 12,
   "id": "267e623b",
   "metadata": {},
   "outputs": [
    {
     "name": "stdout",
     "output_type": "stream",
     "text": [
      "2022-03-02 13:41:17.542556\n"
     ]
    }
   ],
   "source": [
    "print(today)"
   ]
  },
  {
   "cell_type": "code",
   "execution_count": 13,
   "id": "d94884c2",
   "metadata": {},
   "outputs": [],
   "source": [
    "import math"
   ]
  },
  {
   "cell_type": "code",
   "execution_count": 14,
   "id": "fc4b4937",
   "metadata": {},
   "outputs": [
    {
     "name": "stdout",
     "output_type": "stream",
     "text": [
      "Help on built-in module math:\n",
      "\n",
      "NAME\n",
      "    math\n",
      "\n",
      "DESCRIPTION\n",
      "    This module provides access to the mathematical functions\n",
      "    defined by the C standard.\n",
      "\n",
      "FUNCTIONS\n",
      "    acos(x, /)\n",
      "        Return the arc cosine (measured in radians) of x.\n",
      "        \n",
      "        The result is between 0 and pi.\n",
      "    \n",
      "    acosh(x, /)\n",
      "        Return the inverse hyperbolic cosine of x.\n",
      "    \n",
      "    asin(x, /)\n",
      "        Return the arc sine (measured in radians) of x.\n",
      "        \n",
      "        The result is between -pi/2 and pi/2.\n",
      "    \n",
      "    asinh(x, /)\n",
      "        Return the inverse hyperbolic sine of x.\n",
      "    \n",
      "    atan(x, /)\n",
      "        Return the arc tangent (measured in radians) of x.\n",
      "        \n",
      "        The result is between -pi/2 and pi/2.\n",
      "    \n",
      "    atan2(y, x, /)\n",
      "        Return the arc tangent (measured in radians) of y/x.\n",
      "        \n",
      "        Unlike atan(y/x), the signs of both x and y are considered.\n",
      "    \n",
      "    atanh(x, /)\n",
      "        Return the inverse hyperbolic tangent of x.\n",
      "    \n",
      "    ceil(x, /)\n",
      "        Return the ceiling of x as an Integral.\n",
      "        \n",
      "        This is the smallest integer >= x.\n",
      "    \n",
      "    comb(n, k, /)\n",
      "        Number of ways to choose k items from n items without repetition and without order.\n",
      "        \n",
      "        Evaluates to n! / (k! * (n - k)!) when k <= n and evaluates\n",
      "        to zero when k > n.\n",
      "        \n",
      "        Also called the binomial coefficient because it is equivalent\n",
      "        to the coefficient of k-th term in polynomial expansion of the\n",
      "        expression (1 + x)**n.\n",
      "        \n",
      "        Raises TypeError if either of the arguments are not integers.\n",
      "        Raises ValueError if either of the arguments are negative.\n",
      "    \n",
      "    copysign(x, y, /)\n",
      "        Return a float with the magnitude (absolute value) of x but the sign of y.\n",
      "        \n",
      "        On platforms that support signed zeros, copysign(1.0, -0.0)\n",
      "        returns -1.0.\n",
      "    \n",
      "    cos(x, /)\n",
      "        Return the cosine of x (measured in radians).\n",
      "    \n",
      "    cosh(x, /)\n",
      "        Return the hyperbolic cosine of x.\n",
      "    \n",
      "    degrees(x, /)\n",
      "        Convert angle x from radians to degrees.\n",
      "    \n",
      "    dist(p, q, /)\n",
      "        Return the Euclidean distance between two points p and q.\n",
      "        \n",
      "        The points should be specified as sequences (or iterables) of\n",
      "        coordinates.  Both inputs must have the same dimension.\n",
      "        \n",
      "        Roughly equivalent to:\n",
      "            sqrt(sum((px - qx) ** 2.0 for px, qx in zip(p, q)))\n",
      "    \n",
      "    erf(x, /)\n",
      "        Error function at x.\n",
      "    \n",
      "    erfc(x, /)\n",
      "        Complementary error function at x.\n",
      "    \n",
      "    exp(x, /)\n",
      "        Return e raised to the power of x.\n",
      "    \n",
      "    expm1(x, /)\n",
      "        Return exp(x)-1.\n",
      "        \n",
      "        This function avoids the loss of precision involved in the direct evaluation of exp(x)-1 for small x.\n",
      "    \n",
      "    fabs(x, /)\n",
      "        Return the absolute value of the float x.\n",
      "    \n",
      "    factorial(x, /)\n",
      "        Find x!.\n",
      "        \n",
      "        Raise a ValueError if x is negative or non-integral.\n",
      "    \n",
      "    floor(x, /)\n",
      "        Return the floor of x as an Integral.\n",
      "        \n",
      "        This is the largest integer <= x.\n",
      "    \n",
      "    fmod(x, y, /)\n",
      "        Return fmod(x, y), according to platform C.\n",
      "        \n",
      "        x % y may differ.\n",
      "    \n",
      "    frexp(x, /)\n",
      "        Return the mantissa and exponent of x, as pair (m, e).\n",
      "        \n",
      "        m is a float and e is an int, such that x = m * 2.**e.\n",
      "        If x is 0, m and e are both 0.  Else 0.5 <= abs(m) < 1.0.\n",
      "    \n",
      "    fsum(seq, /)\n",
      "        Return an accurate floating point sum of values in the iterable seq.\n",
      "        \n",
      "        Assumes IEEE-754 floating point arithmetic.\n",
      "    \n",
      "    gamma(x, /)\n",
      "        Gamma function at x.\n",
      "    \n",
      "    gcd(*integers)\n",
      "        Greatest Common Divisor.\n",
      "    \n",
      "    hypot(...)\n",
      "        hypot(*coordinates) -> value\n",
      "        \n",
      "        Multidimensional Euclidean distance from the origin to a point.\n",
      "        \n",
      "        Roughly equivalent to:\n",
      "            sqrt(sum(x**2 for x in coordinates))\n",
      "        \n",
      "        For a two dimensional point (x, y), gives the hypotenuse\n",
      "        using the Pythagorean theorem:  sqrt(x*x + y*y).\n",
      "        \n",
      "        For example, the hypotenuse of a 3/4/5 right triangle is:\n",
      "        \n",
      "            >>> hypot(3.0, 4.0)\n",
      "            5.0\n",
      "    \n",
      "    isclose(a, b, *, rel_tol=1e-09, abs_tol=0.0)\n",
      "        Determine whether two floating point numbers are close in value.\n",
      "        \n",
      "          rel_tol\n",
      "            maximum difference for being considered \"close\", relative to the\n",
      "            magnitude of the input values\n",
      "          abs_tol\n",
      "            maximum difference for being considered \"close\", regardless of the\n",
      "            magnitude of the input values\n",
      "        \n",
      "        Return True if a is close in value to b, and False otherwise.\n",
      "        \n",
      "        For the values to be considered close, the difference between them\n",
      "        must be smaller than at least one of the tolerances.\n",
      "        \n",
      "        -inf, inf and NaN behave similarly to the IEEE 754 Standard.  That\n",
      "        is, NaN is not close to anything, even itself.  inf and -inf are\n",
      "        only close to themselves.\n",
      "    \n",
      "    isfinite(x, /)\n",
      "        Return True if x is neither an infinity nor a NaN, and False otherwise.\n",
      "    \n",
      "    isinf(x, /)\n",
      "        Return True if x is a positive or negative infinity, and False otherwise.\n",
      "    \n",
      "    isnan(x, /)\n",
      "        Return True if x is a NaN (not a number), and False otherwise.\n",
      "    \n",
      "    isqrt(n, /)\n",
      "        Return the integer part of the square root of the input.\n",
      "    \n",
      "    lcm(*integers)\n",
      "        Least Common Multiple.\n",
      "    \n",
      "    ldexp(x, i, /)\n",
      "        Return x * (2**i).\n",
      "        \n",
      "        This is essentially the inverse of frexp().\n",
      "    \n",
      "    lgamma(x, /)\n",
      "        Natural logarithm of absolute value of Gamma function at x.\n",
      "    \n",
      "    log(...)\n",
      "        log(x, [base=math.e])\n",
      "        Return the logarithm of x to the given base.\n",
      "        \n",
      "        If the base not specified, returns the natural logarithm (base e) of x.\n",
      "    \n",
      "    log10(x, /)\n",
      "        Return the base 10 logarithm of x.\n",
      "    \n",
      "    log1p(x, /)\n",
      "        Return the natural logarithm of 1+x (base e).\n",
      "        \n",
      "        The result is computed in a way which is accurate for x near zero.\n",
      "    \n",
      "    log2(x, /)\n",
      "        Return the base 2 logarithm of x.\n",
      "    \n",
      "    modf(x, /)\n",
      "        Return the fractional and integer parts of x.\n",
      "        \n",
      "        Both results carry the sign of x and are floats.\n",
      "    \n",
      "    nextafter(x, y, /)\n",
      "        Return the next floating-point value after x towards y.\n",
      "    \n",
      "    perm(n, k=None, /)\n",
      "        Number of ways to choose k items from n items without repetition and with order.\n",
      "        \n",
      "        Evaluates to n! / (n - k)! when k <= n and evaluates\n",
      "        to zero when k > n.\n",
      "        \n",
      "        If k is not specified or is None, then k defaults to n\n",
      "        and the function returns n!.\n",
      "        \n",
      "        Raises TypeError if either of the arguments are not integers.\n",
      "        Raises ValueError if either of the arguments are negative.\n",
      "    \n",
      "    pow(x, y, /)\n",
      "        Return x**y (x to the power of y).\n",
      "    \n",
      "    prod(iterable, /, *, start=1)\n",
      "        Calculate the product of all the elements in the input iterable.\n",
      "        \n",
      "        The default start value for the product is 1.\n",
      "        \n",
      "        When the iterable is empty, return the start value.  This function is\n",
      "        intended specifically for use with numeric values and may reject\n",
      "        non-numeric types.\n",
      "    \n",
      "    radians(x, /)\n",
      "        Convert angle x from degrees to radians.\n",
      "    \n",
      "    remainder(x, y, /)\n",
      "        Difference between x and the closest integer multiple of y.\n",
      "        \n",
      "        Return x - n*y where n*y is the closest integer multiple of y.\n",
      "        In the case where x is exactly halfway between two multiples of\n",
      "        y, the nearest even value of n is used. The result is always exact.\n",
      "    \n",
      "    sin(x, /)\n",
      "        Return the sine of x (measured in radians).\n",
      "    \n",
      "    sinh(x, /)\n",
      "        Return the hyperbolic sine of x.\n",
      "    \n",
      "    sqrt(x, /)\n",
      "        Return the square root of x.\n",
      "    \n",
      "    tan(x, /)\n",
      "        Return the tangent of x (measured in radians).\n",
      "    \n",
      "    tanh(x, /)\n",
      "        Return the hyperbolic tangent of x.\n",
      "    \n",
      "    trunc(x, /)\n",
      "        Truncates the Real x to the nearest Integral toward 0.\n",
      "        \n",
      "        Uses the __trunc__ magic method.\n",
      "    \n",
      "    ulp(x, /)\n",
      "        Return the value of the least significant bit of the float x.\n",
      "\n",
      "DATA\n",
      "    e = 2.718281828459045\n",
      "    inf = inf\n",
      "    nan = nan\n",
      "    pi = 3.141592653589793\n",
      "    tau = 6.283185307179586\n",
      "\n",
      "FILE\n",
      "    (built-in)\n",
      "\n",
      "\n"
     ]
    }
   ],
   "source": [
    "help(math)"
   ]
  },
  {
   "cell_type": "code",
   "execution_count": 15,
   "id": "3f67978c",
   "metadata": {},
   "outputs": [],
   "source": [
    "import random"
   ]
  },
  {
   "cell_type": "code",
   "execution_count": 17,
   "id": "e255b963",
   "metadata": {},
   "outputs": [],
   "source": [
    "random.seed(101)\n",
    "import pdb"
   ]
  },
  {
   "cell_type": "code",
   "execution_count": 18,
   "id": "3fd51c7a",
   "metadata": {},
   "outputs": [],
   "source": [
    "import shutil"
   ]
  },
  {
   "cell_type": "code",
   "execution_count": 19,
   "id": "d43bea02",
   "metadata": {},
   "outputs": [
    {
     "data": {
      "text/plain": [
       "'C:\\\\Users\\\\ncjsl\\\\OneDrive - Network of Music Partners\\\\Dokumenter\\\\Python Scripts\\\\Repo Lenovo'"
      ]
     },
     "execution_count": 19,
     "metadata": {},
     "output_type": "execute_result"
    }
   ],
   "source": [
    "pwd"
   ]
  },
  {
   "cell_type": "code",
   "execution_count": 3,
   "id": "bc6be526",
   "metadata": {},
   "outputs": [],
   "source": [
    "import requests\n"
   ]
  },
  {
   "cell_type": "code",
   "execution_count": 4,
   "id": "29df59fe",
   "metadata": {},
   "outputs": [],
   "source": [
    "import bs4"
   ]
  },
  {
   "cell_type": "code",
   "execution_count": 4,
   "id": "12cab099",
   "metadata": {},
   "outputs": [],
   "source": [
    "result = requests.get('https://da.wikipedia.org/wiki/Kvelertak')"
   ]
  },
  {
   "cell_type": "code",
   "execution_count": 5,
   "id": "b1b04d52",
   "metadata": {},
   "outputs": [
    {
     "data": {
      "text/plain": [
       "'<!DOCTYPE html>\\n<html class=\"client-nojs\" lang=\"da\" dir=\"ltr\">\\n<head>\\n<meta charset=\"UTF-8\"/>\\n<title>Kvelertak - Wikipedia, den frie encyklopædi</title>\\n<script>document.documentElement.className=\"client-js\";RLCONF={\"wgBreakFrames\":false,\"wgSeparatorTransformTable\":[\",\\\\t.\",\".\\\\t,\"],\"wgDigitTransformTable\":[\"\",\"\"],\"wgDefaultDateFormat\":\"dmy\",\"wgMonthNames\":[\"\",\"januar\",\"februar\",\"marts\",\"april\",\"maj\",\"juni\",\"juli\",\"august\",\"september\",\"oktober\",\"november\",\"december\"],\"wgRequestId\":\"f71eb753-5ac1-4bd1-935b-2e31c554cced\",\"wgCSPNonce\":false,\"wgCanonicalNamespace\":\"\",\"wgCanonicalSpecialPageName\":false,\"wgNamespaceNumber\":0,\"wgPageName\":\"Kvelertak\",\"wgTitle\":\"Kvelertak\",\"wgCurRevisionId\":10959817,\"wgRevisionId\":10959817,\"wgArticleId\":654757,\"wgIsArticle\":true,\"wgIsRedirect\":false,\"wgAction\":\"view\",\"wgUserName\":null,\"wgUserGroups\":[\"*\"],\"wgCategories\":[\"Sider med Webarchive-skabelon som henviser til Wayback Machine\",\"Lokalt billede forskelligt fra Wikidata\",\"Infoboks uden udfyldt wikidata eller ingen wikidata parametre\",\"Commons-kategori på Wikidata er ens med sidetitel\",\"Artikler med musikhenvisninger fra Wikidata\",\\n\"Wikipedia artikler med VIAF autoritetsdata-ID\",\"Wikipedia artikler med LCCN autoritetsdata-ID\",\"Wikipedia artikler med ISNI autoritetsdata-ID\",\"Wikipedia artikler med GND autoritetsdata-ID\",\"Wikipedia artikler med BNF autoritetsdata-ID\",\"Wikipedia artikler med BIBSYS autoritetsdata-ID\",\"Wikipedia artikler med MusicBrainz autoritetsdata-ID\",\"Metalgrupper fra Norge\",\"Musikgrupper fra 2007\"],\"wgPageContentLanguage\":\"da\",\"wgPageContentModel\":\"wikitext\",\"wgRelevantPageName\":\"Kvelertak\",\"wgRelevantArticleId\":654757,\"wgIsProbablyEditable\":true,\"wgRelevantPageIsProbablyEditable\":true,\"wgRestrictionEdit\":[],\"wgRestrictionMove\":[],\"wgVisualEditor\":{\"pageLanguageCode\":\"da\",\"pageLanguageDir\":\"ltr\",\"pageVariantFallbacks\":\"da\"},\"wgMFDisplayWikibaseDescriptions\":{\"search\":true,\"nearby\":true,\"watchlist\":true,\"tagline\":true},\"wgWMESchemaEditAttemptStepOversample\":false,\"wgWMEPageLength\":6000,\"wgNoticeProject\":\"wikipedia\",\"wgMediaViewerOnClick\":true,\"wgMediaViewerEnabledByDefault\":true,\"wgPopupsFlags\":\\n10,\"wgULSCurrentAutonym\":\"dansk\",\"wgEditSubmitButtonLabelPublish\":true,\"wgCentralAuthMobileDomain\":false,\"wgULSPosition\":\"interlanguage\",\"wgULSisCompactLinksEnabled\":true,\"wgWikibaseItemId\":\"Q1794838\",\"wgGENewcomerTasksGuidanceEnabled\":true,\"wgGEAskQuestionEnabled\":true,\"wgGELinkRecommendationsFrontendEnabled\":false};RLSTATE={\"ext.globalCssJs.user.styles\":\"ready\",\"site.styles\":\"ready\",\"user.styles\":\"ready\",\"ext.globalCssJs.user\":\"ready\",\"user\":\"ready\",\"user.options\":\"loading\",\"ext.cite.styles\":\"ready\",\"skins.vector.styles.legacy\":\"ready\",\"ext.visualEditor.desktopArticleTarget.noscript\":\"ready\",\"ext.wikimediaBadges\":\"ready\",\"ext.uls.interlanguage\":\"ready\",\"wikibase.client.init\":\"ready\"};RLPAGEMODULES=[\"ext.cite.ux-enhancements\",\"site\",\"mediawiki.page.ready\",\"mediawiki.toc\",\"skins.vector.legacy.js\",\"ext.gadget.NewSection\",\"ext.gadget.ReferenceTooltips\",\"mmv.head\",\"mmv.bootstrap.autostart\",\"ext.visualEditor.desktopArticleTarget.init\",\"ext.visualEditor.targetLoader\",\"ext.eventLogging\",\\n\"ext.wikimediaEvents\",\"ext.navigationTiming\",\"ext.cx.eventlogging.campaigns\",\"ext.centralNotice.geoIP\",\"ext.centralNotice.startUp\",\"ext.centralauth.centralautologin\",\"ext.popups\",\"ext.uls.compactlinks\",\"ext.uls.interface\",\"ext.growthExperiments.SuggestedEditSession\"];</script>\\n<script>(RLQ=window.RLQ||[]).push(function(){mw.loader.implement(\"user.options@1i9g4\",function($,jQuery,require,module){mw.user.tokens.set({\"patrolToken\":\"+\\\\\\\\\",\"watchToken\":\"+\\\\\\\\\",\"csrfToken\":\"+\\\\\\\\\"});});});</script>\\n<link rel=\"stylesheet\" href=\"/w/load.php?lang=da&amp;modules=ext.cite.styles%7Cext.uls.interlanguage%7Cext.visualEditor.desktopArticleTarget.noscript%7Cext.wikimediaBadges%7Cskins.vector.styles.legacy%7Cwikibase.client.init&amp;only=styles&amp;skin=vector\"/>\\n<script async=\"\" src=\"/w/load.php?lang=da&amp;modules=startup&amp;only=scripts&amp;raw=1&amp;skin=vector\"></script>\\n<meta name=\"ResourceLoaderDynamicStyles\" content=\"\"/>\\n<link rel=\"stylesheet\" href=\"/w/load.php?lang=da&amp;modules=site.styles&amp;only=styles&amp;skin=vector\"/>\\n<meta name=\"generator\" content=\"MediaWiki 1.38.0-wmf.24\"/>\\n<meta name=\"referrer\" content=\"origin\"/>\\n<meta name=\"referrer\" content=\"origin-when-crossorigin\"/>\\n<meta name=\"referrer\" content=\"origin-when-cross-origin\"/>\\n<meta name=\"format-detection\" content=\"telephone=no\"/>\\n<meta property=\"og:image\" content=\"https://upload.wikimedia.org/wikipedia/commons/thumb/e/eb/KvelertakCopenhell2011.jpg/1200px-KvelertakCopenhell2011.jpg\"/>\\n<meta property=\"og:image:width\" content=\"1200\"/>\\n<meta property=\"og:image:height\" content=\"513\"/>\\n<meta property=\"og:image\" content=\"https://upload.wikimedia.org/wikipedia/commons/thumb/e/eb/KvelertakCopenhell2011.jpg/800px-KvelertakCopenhell2011.jpg\"/>\\n<meta property=\"og:image:width\" content=\"800\"/>\\n<meta property=\"og:image:height\" content=\"342\"/>\\n<meta property=\"og:image\" content=\"https://upload.wikimedia.org/wikipedia/commons/thumb/e/eb/KvelertakCopenhell2011.jpg/640px-KvelertakCopenhell2011.jpg\"/>\\n<meta property=\"og:image:width\" content=\"640\"/>\\n<meta property=\"og:image:height\" content=\"274\"/>\\n<meta property=\"og:title\" content=\"Kvelertak - Wikipedia, den frie encyklopædi\"/>\\n<meta property=\"og:type\" content=\"website\"/>\\n<link rel=\"preconnect\" href=\"//upload.wikimedia.org\"/>\\n<link rel=\"alternate\" media=\"only screen and (max-width: 720px)\" href=\"//da.m.wikipedia.org/wiki/Kvelertak\"/>\\n<link rel=\"alternate\" type=\"application/x-wiki\" title=\"Redigér\" href=\"/w/index.php?title=Kvelertak&amp;action=edit\"/>\\n<link rel=\"apple-touch-icon\" href=\"/static/apple-touch/wikipedia.png\"/>\\n<link rel=\"shortcut icon\" href=\"/static/favicon/wikipedia.ico\"/>\\n<link rel=\"search\" type=\"application/opensearchdescription+xml\" href=\"/w/opensearch_desc.php\" title=\"Wikipedia (da)\"/>\\n<link rel=\"EditURI\" type=\"application/rsd+xml\" href=\"//da.wikipedia.org/w/api.php?action=rsd\"/>\\n<link rel=\"license\" href=\"https://creativecommons.org/licenses/by-sa/3.0/\"/>\\n<link rel=\"canonical\" href=\"https://da.wikipedia.org/wiki/Kvelertak\"/>\\n<link rel=\"dns-prefetch\" href=\"//meta.wikimedia.org\" />\\n<link rel=\"dns-prefetch\" href=\"//login.wikimedia.org\"/>\\n</head>\\n<body class=\"mediawiki ltr sitedir-ltr mw-hide-empty-elt ns-0 ns-subject mw-editable page-Kvelertak rootpage-Kvelertak skin-vector action-view skin-vector-legacy\"><div id=\"mw-page-base\" class=\"noprint\"></div>\\n<div id=\"mw-head-base\" class=\"noprint\"></div>\\n<div id=\"content\" class=\"mw-body\" role=\"main\">\\n\\t<a id=\"top\"></a>\\n\\t<div id=\"siteNotice\"><!-- CentralNotice --></div>\\n\\t<div class=\"mw-indicators\">\\n\\t</div>\\n\\t<h1 id=\"firstHeading\" class=\"firstHeading mw-first-heading\">Kvelertak</h1>\\n\\t<div id=\"bodyContent\" class=\"vector-body\">\\n\\t\\t<div id=\"siteSub\" class=\"noprint\">Fra Wikipedia, den frie encyklopædi</div>\\n\\t\\t<div id=\"contentSub\"></div>\\n\\t\\t<div id=\"contentSub2\"></div>\\n\\t\\t\\n\\t\\t<div id=\"jump-to-nav\"></div>\\n\\t\\t<a class=\"mw-jump-link\" href=\"#mw-head\">Spring til navigation</a>\\n\\t\\t<a class=\"mw-jump-link\" href=\"#searchInput\">Spring til søgning</a>\\n\\t\\t<div id=\"mw-content-text\" class=\"mw-body-content mw-content-ltr\" lang=\"da\" dir=\"ltr\"><div class=\"mw-parser-output\"><table class=\"infobox vcard plainlist\" style=\"width:22em\"><tbody><tr><th colspan=\"2\" class=\"gruppe_eller_band\" style=\"text-align:center;font-size:125%;font-weight:bold;background-color: #b0c4de\">Kvelertak</th></tr><tr><td colspan=\"2\" style=\"text-align:center\">\\n<a href=\"/wiki/Fil:KvelertakCopenhell2011.jpg\" class=\"image\"><img alt=\"KvelertakCopenhell2011.jpg\" src=\"//upload.wikimedia.org/wikipedia/commons/thumb/e/eb/KvelertakCopenhell2011.jpg/250px-KvelertakCopenhell2011.jpg\" decoding=\"async\" width=\"250\" height=\"107\" srcset=\"//upload.wikimedia.org/wikipedia/commons/thumb/e/eb/KvelertakCopenhell2011.jpg/375px-KvelertakCopenhell2011.jpg 1.5x, //upload.wikimedia.org/wikipedia/commons/thumb/e/eb/KvelertakCopenhell2011.jpg/500px-KvelertakCopenhell2011.jpg 2x\" data-file-width=\"3255\" data-file-height=\"1392\" /></a><div>Kvelertak til <a href=\"/wiki/Copenhell\" title=\"Copenhell\">Copenhell</a>, 2011</div></td></tr><tr><th colspan=\"2\" style=\"text-align:center;background-color: #b0c4de\">Information</th></tr><tr><th scope=\"row\" style=\"text-align:left;vertical-align:top; padding-right:0.6em;\">Oprindelse</th><td style=\"vertical-align:top;\">\\n<span class=\"flagicon\"><a href=\"/wiki/Norge\" title=\"Norge\"><img alt=\"Norge\" src=\"//upload.wikimedia.org/wikipedia/commons/thumb/d/d9/Flag_of_Norway.svg/22px-Flag_of_Norway.svg.png\" decoding=\"async\" width=\"22\" height=\"16\" class=\"thumbborder\" srcset=\"//upload.wikimedia.org/wikipedia/commons/thumb/d/d9/Flag_of_Norway.svg/33px-Flag_of_Norway.svg.png 1.5x, //upload.wikimedia.org/wikipedia/commons/thumb/d/d9/Flag_of_Norway.svg/44px-Flag_of_Norway.svg.png 2x\" data-file-width=\"512\" data-file-height=\"372\" /></a></span> <a href=\"/wiki/Stavanger\" title=\"Stavanger\">Stavanger</a>, <a href=\"/wiki/Norge\" title=\"Norge\">Norge</a></td></tr><tr><th scope=\"row\" style=\"text-align:left;vertical-align:top; padding-right:0.6em;\"><a href=\"/wiki/Musikgenre\" title=\"Musikgenre\">Genre</a></th><td style=\"vertical-align:top;\">\\n<a href=\"/wiki/Hardcore_punk\" title=\"Hardcore punk\">Hardcore punk</a> <br /> <a href=\"/wiki/Black_metal\" title=\"Black metal\">Sortmetal</a> <br /> <a href=\"/wiki/Rock_and_roll\" title=\"Rock and roll\">Rock and roll</a></td></tr><tr><th scope=\"row\" style=\"text-align:left;vertical-align:top; padding-right:0.6em;\">Aktive år</th><td style=\"vertical-align:top;\">\\n2007 –</td></tr><tr><th scope=\"row\" style=\"text-align:left;vertical-align:top; padding-right:0.6em;\"><a href=\"/wiki/Pladeselskab\" title=\"Pladeselskab\">Pladeselskab</a></th><td style=\"vertical-align:top;\">\\n<a href=\"/w/index.php?title=Indie_Recordings&amp;action=edit&amp;redlink=1\" class=\"new\" title=\"Indie Recordings (ikke skrevet endnu)\">Indie Recordings</a></td></tr><tr><th scope=\"row\" style=\"text-align:left;vertical-align:top; padding-right:0.6em;\">Medlemmer</th><td style=\"vertical-align:top;\">\\nErlend Hjelvik<br />Bjarte Lund Rolland<br />Maciek Ofstad<br />Vidar Landa<br />Kjetil Gjermundrød<br />Marvin Nygaard</td></tr></tbody></table>\\n<p><b>Kvelertak</b> (på dansk <i>Kvælertag</i>) er et <a href=\"/wiki/Norge\" title=\"Norge\">norsk</a> musikgruppe fra <a href=\"/wiki/Stavanger\" title=\"Stavanger\">Stavanger</a>, hvis musik kombinerer <a href=\"/wiki/Hardcore_punk\" title=\"Hardcore punk\">hardcore punk</a>, <a href=\"/wiki/Black_metal\" title=\"Black metal\">sortmetal</a> og <a href=\"/wiki/Rock_and_roll\" title=\"Rock and roll\">rock and roll</a>. Gruppen, der blev grundlagt i 2007 og først nåede ud til et bredere publikum gennem det norske radioprogram <a href=\"/w/index.php?title=NRK_Ur%C3%B8rt&amp;action=edit&amp;redlink=1\" class=\"new\" title=\"NRK Urørt (ikke skrevet endnu)\">NRK Urørt</a>, har selv brugt genrebetegnelsen \"necro \\'n\\' roll\" om deres musik.\\n</p><p>Gruppens tekster er skrevet på <a href=\"/wiki/Norsk_(sprog)\" title=\"Norsk (sprog)\">norsk</a> og omhandler blandt andet <a href=\"/wiki/Nordisk_mytologi\" title=\"Nordisk mytologi\">nordisk mytologi</a>. De har været nævnt i de engelsksprogede rockmagasiner <i><a href=\"/wiki/Metal_Hammer\" title=\"Metal Hammer\">Metal Hammer</a></i>, <i><a href=\"/wiki/Kerrang\" class=\"mw-redirect\" title=\"Kerrang\">Kerrang</a></i> og <i><a href=\"/w/index.php?title=Rock_Sound&amp;action=edit&amp;redlink=1\" class=\"new\" title=\"Rock Sound (ikke skrevet endnu)\">Rock Sound</a></i>, og deres musik har været brugt i filmen <i><a href=\"/wiki/Troldj%C3%A6geren\" title=\"Troldjægeren\">Troldjægeren</a></i>.\\n</p>\\n<div id=\"toc\" class=\"toc\" role=\"navigation\" aria-labelledby=\"mw-toc-heading\"><input type=\"checkbox\" role=\"button\" id=\"toctogglecheckbox\" class=\"toctogglecheckbox\" style=\"display:none\" /><div class=\"toctitle\" lang=\"da\" dir=\"ltr\"><h2 id=\"mw-toc-heading\">Indholdsfortegnelse</h2><span class=\"toctogglespan\"><label class=\"toctogglelabel\" for=\"toctogglecheckbox\"></label></span></div>\\n<ul>\\n<li class=\"toclevel-1 tocsection-1\"><a href=\"#Biografi\"><span class=\"tocnumber\">1</span> <span class=\"toctext\">Biografi</span></a></li>\\n<li class=\"toclevel-1 tocsection-2\"><a href=\"#Medlemmer\"><span class=\"tocnumber\">2</span> <span class=\"toctext\">Medlemmer</span></a></li>\\n<li class=\"toclevel-1 tocsection-3\"><a href=\"#Diskografi\"><span class=\"tocnumber\">3</span> <span class=\"toctext\">Diskografi</span></a>\\n<ul>\\n<li class=\"toclevel-2 tocsection-4\"><a href=\"#Studieudgivelser\"><span class=\"tocnumber\">3.1</span> <span class=\"toctext\">Studieudgivelser</span></a></li>\\n<li class=\"toclevel-2 tocsection-5\"><a href=\"#Demoer\"><span class=\"tocnumber\">3.2</span> <span class=\"toctext\">Demoer</span></a></li>\\n</ul>\\n</li>\\n<li class=\"toclevel-1 tocsection-6\"><a href=\"#Referencer\"><span class=\"tocnumber\">4</span> <span class=\"toctext\">Referencer</span></a></li>\\n<li class=\"toclevel-1 tocsection-7\"><a href=\"#Eksterne_henvisninger\"><span class=\"tocnumber\">5</span> <span class=\"toctext\">Eksterne henvisninger</span></a></li>\\n</ul>\\n</div>\\n\\n<h2><span class=\"mw-headline\" id=\"Biografi\">Biografi</span><span class=\"mw-editsection\"><span class=\"mw-editsection-bracket\">[</span><a href=\"/w/index.php?title=Kvelertak&amp;veaction=edit&amp;section=1\" class=\"mw-editsection-visualeditor\" title=\"Redigér afsnit: Biografi\">redigér</a><span class=\"mw-editsection-divider\"> | </span><a href=\"/w/index.php?title=Kvelertak&amp;action=edit&amp;section=1\" title=\"Redigér afsnit: Biografi\">rediger kildetekst</a><span class=\"mw-editsection-bracket\">]</span></span></h2>\\n<p>Kvelertak fik sit første gennembrud i 2009, hvor de optrådte på Trondheim-festivalen <a href=\"/w/index.php?title=By:Larm&amp;action=edit&amp;redlink=1\" class=\"new\" title=\"By:Larm (ikke skrevet endnu)\">by:Larm</a> og derigennem sikrede sig muligheden for at spille på <a href=\"/wiki/Roskilde_Festival\" title=\"Roskilde Festival\">Roskilde Festival</a> samme år; har gav de en koncert, der blev set af omkring 3.000 mennesker.<sup id=\"cite_ref-bio_1-0\" class=\"reference\"><a href=\"#cite_note-bio-1\">&#91;1&#93;</a></sup> Senere i år 2009 blev gruppen booket til <a href=\"/w/index.php?title=%C3%98yafestivalen&amp;action=edit&amp;redlink=1\" class=\"new\" title=\"Øyafestivalen (ikke skrevet endnu)\">Øyafestivalen</a>, samtidig med at den blev den årlige <i>Urørt</i>-konkurrence på <a href=\"/wiki/NRK_P3\" title=\"NRK P3\">NRK P3</a>. Mod slutningen af året skrev Kvelertak kontrakt med det norske uafhængige pladeselskab <a href=\"/w/index.php?title=Indie_Recordings&amp;action=edit&amp;redlink=1\" class=\"new\" title=\"Indie Recordings (ikke skrevet endnu)\">Indie Recordings</a>, og i maj 2010 udgav gruppen singlen \"<a href=\"/w/index.php?title=Mj%C3%B8d_(album)&amp;action=edit&amp;redlink=1\" class=\"new\" title=\"Mjød (album) (ikke skrevet endnu)\">Mjød</a>\" til download, sammen med en musikvideo. Singlen blev siden hen kåret til \"Single Of The Week\" på BBC Radio One to uger i træk.<sup id=\"cite_ref-2\" class=\"reference\"><a href=\"#cite_note-2\">&#91;2&#93;</a></sup>\\n</p><p>To måneder senere, <a href=\"/wiki/21._juni\" title=\"21. juni\">21. juni</a> <a href=\"/wiki/2010\" title=\"2010\">2010</a>, udgav gruppen sit selvtitulerede debutalbum <i><a href=\"/w/index.php?title=Kvelertak_(album)&amp;action=edit&amp;redlink=1\" class=\"new\" title=\"Kvelertak (album) (ikke skrevet endnu)\">Kvelertak</a></i>, der blev mødt med positive anmeldelser i Norge.<sup id=\"cite_ref-3\" class=\"reference\"><a href=\"#cite_note-3\">&#91;3&#93;</a></sup>. Albummet har siden modtaget et guldcertifikat efter at have solgt mere end 15.000 eksemplarer.<sup id=\"cite_ref-blab-gold_4-0\" class=\"reference\"><a href=\"#cite_note-blab-gold-4\">&#91;4&#93;</a></sup>\\n</p><p>Den <a href=\"/wiki/19._februar\" title=\"19. februar\">19. februar</a> <a href=\"/wiki/2011\" title=\"2011\">2011</a> modtog Kvelertak <a href=\"/w/index.php?title=Statoil-stipendet&amp;action=edit&amp;redlink=1\" class=\"new\" title=\"Statoil-stipendet (ikke skrevet endnu)\">Statoil-stipendet</a> på 1 million norske kroner under <a href=\"/w/index.php?title=By:Larm&amp;action=edit&amp;redlink=1\" class=\"new\" title=\"By:Larm (ikke skrevet endnu)\">by:Larm</a>. Legatet har til formål at give norske kunstnere større mulighed for at markedsføre sig internationalt.<sup id=\"cite_ref-5\" class=\"reference\"><a href=\"#cite_note-5\">&#91;5&#93;</a></sup> Gruppen har således siden udgivelsen af debutalbummet været på adskillige turnéer, og spillede blandt andet på <a href=\"/wiki/Copenhell\" title=\"Copenhell\">Copenhell</a> i <a href=\"/wiki/K%C3%B8benhavn\" title=\"København\">København</a> og givet koncerter i <a href=\"/wiki/%C3%85rhus\" class=\"mw-redirect\" title=\"Århus\">Århus</a> og København i december 2011. Foruden stipendiet vandt Kvelertak også to <a href=\"/wiki/Spellemannprisen\" title=\"Spellemannprisen\">Spellemannpriser</a> for pladen, i kategorierne \"Rock\" og \"Årets nye navn\".<sup id=\"cite_ref-6\" class=\"reference\"><a href=\"#cite_note-6\">&#91;6&#93;</a></sup>\\n</p><p>Gruppens andet album, <i><a href=\"/w/index.php?title=Meir_(album)&amp;action=edit&amp;redlink=1\" class=\"new\" title=\"Meir (album) (ikke skrevet endnu)\">Meir</a></i>, blev udgivet i marts 2013<sup id=\"cite_ref-metalhammer_7-0\" class=\"reference\"><a href=\"#cite_note-metalhammer-7\">&#91;7&#93;</a></sup> og albummets første single, \"Bruane Brenn\", blev udgivet i Skandinavien 21. januar, 2013.\\n</p><p>Den 16. Juli 2018 valgte Forsanger Erlend Hjelvik at meddele sin afgang fra bandet, dette blev offentliggjort i en officiel udmeldelse på facebook <sup id=\"cite_ref-8\" class=\"reference\"><a href=\"#cite_note-8\">&#91;8&#93;</a></sup>\\n</p>\\n<h2><span class=\"mw-headline\" id=\"Medlemmer\">Medlemmer</span><span class=\"mw-editsection\"><span class=\"mw-editsection-bracket\">[</span><a href=\"/w/index.php?title=Kvelertak&amp;veaction=edit&amp;section=2\" class=\"mw-editsection-visualeditor\" title=\"Redigér afsnit: Medlemmer\">redigér</a><span class=\"mw-editsection-divider\"> | </span><a href=\"/w/index.php?title=Kvelertak&amp;action=edit&amp;section=2\" title=\"Redigér afsnit: Medlemmer\">rediger kildetekst</a><span class=\"mw-editsection-bracket\">]</span></span></h2>\\n<ul><li>Ivar Nikolaisen <a href=\"/wiki/Vokalist\" title=\"Vokalist\">Vokal</a> (2018- <sup id=\"cite_ref-9\" class=\"reference\"><a href=\"#cite_note-9\">&#91;9&#93;</a></sup></li>\\n<li>Erlend Hjelvik – vokal (til 2018)</li>\\n<li>Bjarte Lund Rolland – <a href=\"/wiki/Guitar\" title=\"Guitar\">Guitar</a></li>\\n<li>Maciek Ofstad – <a href=\"/wiki/Guitar\" title=\"Guitar\">Guitar</a>/Vokal</li>\\n<li>Vidar Landa – <a href=\"/wiki/Guitar\" title=\"Guitar\">Guitar</a></li>\\n<li>Kjetil Gjermundrød – <a href=\"/wiki/Trommer\" class=\"mw-redirect\" title=\"Trommer\">Trommer</a></li>\\n<li>Marvin Nygaard – <a href=\"/wiki/Basguitar\" class=\"mw-redirect\" title=\"Basguitar\">Bas</a></li></ul>\\n<h2><span class=\"mw-headline\" id=\"Diskografi\">Diskografi</span><span class=\"mw-editsection\"><span class=\"mw-editsection-bracket\">[</span><a href=\"/w/index.php?title=Kvelertak&amp;veaction=edit&amp;section=3\" class=\"mw-editsection-visualeditor\" title=\"Redigér afsnit: Diskografi\">redigér</a><span class=\"mw-editsection-divider\"> | </span><a href=\"/w/index.php?title=Kvelertak&amp;action=edit&amp;section=3\" title=\"Redigér afsnit: Diskografi\">rediger kildetekst</a><span class=\"mw-editsection-bracket\">]</span></span></h2>\\n<h3><span class=\"mw-headline\" id=\"Studieudgivelser\">Studieudgivelser</span><span class=\"mw-editsection\"><span class=\"mw-editsection-bracket\">[</span><a href=\"/w/index.php?title=Kvelertak&amp;veaction=edit&amp;section=4\" class=\"mw-editsection-visualeditor\" title=\"Redigér afsnit: Studieudgivelser\">redigér</a><span class=\"mw-editsection-divider\"> | </span><a href=\"/w/index.php?title=Kvelertak&amp;action=edit&amp;section=4\" title=\"Redigér afsnit: Studieudgivelser\">rediger kildetekst</a><span class=\"mw-editsection-bracket\">]</span></span></h3>\\n<ul><li><i><a href=\"/w/index.php?title=Kvelertak_(album)&amp;action=edit&amp;redlink=1\" class=\"new\" title=\"Kvelertak (album) (ikke skrevet endnu)\">Kvelertak</a></i> (<a href=\"/wiki/2010\" title=\"2010\">2010</a>)</li>\\n<li><i><a href=\"/w/index.php?title=Meir&amp;action=edit&amp;redlink=1\" class=\"new\" title=\"Meir (ikke skrevet endnu)\">Meir</a></i> (<a href=\"/wiki/2013\" title=\"2013\">2013</a>)</li>\\n<li><i><a href=\"/w/index.php?title=Nattesferd&amp;action=edit&amp;redlink=1\" class=\"new\" title=\"Nattesferd (ikke skrevet endnu)\">Nattesferd</a></i> (<a href=\"/wiki/2016\" title=\"2016\">2016</a>)</li></ul>\\n<h3><span class=\"mw-headline\" id=\"Demoer\">Demoer</span><span class=\"mw-editsection\"><span class=\"mw-editsection-bracket\">[</span><a href=\"/w/index.php?title=Kvelertak&amp;veaction=edit&amp;section=5\" class=\"mw-editsection-visualeditor\" title=\"Redigér afsnit: Demoer\">redigér</a><span class=\"mw-editsection-divider\"> | </span><a href=\"/w/index.php?title=Kvelertak&amp;action=edit&amp;section=5\" title=\"Redigér afsnit: Demoer\">rediger kildetekst</a><span class=\"mw-editsection-bracket\">]</span></span></h3>\\n<ul><li>\"Westcoast Holocaust\" (<a href=\"/wiki/2007\" title=\"2007\">2007</a>)</li></ul>\\n<h2><span class=\"mw-headline\" id=\"Referencer\">Referencer</span><span class=\"mw-editsection\"><span class=\"mw-editsection-bracket\">[</span><a href=\"/w/index.php?title=Kvelertak&amp;veaction=edit&amp;section=6\" class=\"mw-editsection-visualeditor\" title=\"Redigér afsnit: Referencer\">redigér</a><span class=\"mw-editsection-divider\"> | </span><a href=\"/w/index.php?title=Kvelertak&amp;action=edit&amp;section=6\" title=\"Redigér afsnit: Referencer\">rediger kildetekst</a><span class=\"mw-editsection-bracket\">]</span></span></h2>\\n<ol class=\"references\">\\n<li id=\"cite_note-bio-1\"><span class=\"mw-cite-backlink\"><a href=\"#cite_ref-bio_1-0\">^</a></span> <span class=\"reference-text\"><a rel=\"nofollow\" class=\"external text\" href=\"http://blogs.myspace.com/index.cfm?fuseaction=blog.view&amp;friendId=154748419&amp;blogId=536099242\">Kvelertak på MySpace: «Official Biography»</a> <a rel=\"nofollow\" class=\"external text\" href=\"https://web.archive.org/web/20090207065936/http://blogs.myspace.com/index.cfm?fuseaction=blog.view\">Arkiveret</a> 7. februar 2009 hos  <a href=\"/wiki/Wayback_Machine\" title=\"Wayback Machine\">Wayback Machine</a>, publiceret 20. juni, 2010</span>\\n</li>\\n<li id=\"cite_note-2\"><span class=\"mw-cite-backlink\"><a href=\"#cite_ref-2\">^</a></span> <span class=\"reference-text\"><a rel=\"nofollow\" class=\"external text\" href=\"http://www.vg.no/musikk/artikkel.php?artid=10008607\">VG Nett: «Kvelertak på BBC»</a>, publiceret 11. juni, 2010</span>\\n</li>\\n<li id=\"cite_note-3\"><span class=\"mw-cite-backlink\"><a href=\"#cite_ref-3\">^</a></span> <span class=\"reference-text\"><a rel=\"nofollow\" class=\"external text\" href=\"http://www.h-avis.no/puls/stralende-kritikker-for-debutalbum-1.5401599\">«Strålende kritikker for debutalbum»</a>, publiceret 22. juni, 2010</span>\\n</li>\\n<li id=\"cite_note-blab-gold-4\"><span class=\"mw-cite-backlink\"><a href=\"#cite_ref-blab-gold_4-0\">^</a></span> <span class=\"reference-text\"><style data-mw-deduplicate=\"TemplateStyles:r11046047\">.mw-parser-output cite.citation{font-style:inherit;word-wrap:break-word}.mw-parser-output .citation q{quotes:\"\\\\\"\"\"\\\\\"\"\"\\'\"\"\\'\"}.mw-parser-output .citation:target{background-color:rgba(0,127,255,0.133)}.mw-parser-output .id-lock-free a,.mw-parser-output .citation .cs1-lock-free a{background:linear-gradient(transparent,transparent),url(\"//upload.wikimedia.org/wikipedia/commons/6/65/Lock-green.svg\")right 0.1em center/9px no-repeat}.mw-parser-output .id-lock-limited a,.mw-parser-output .id-lock-registration a,.mw-parser-output .citation .cs1-lock-limited a,.mw-parser-output .citation .cs1-lock-registration a{background:linear-gradient(transparent,transparent),url(\"//upload.wikimedia.org/wikipedia/commons/d/d6/Lock-gray-alt-2.svg\")right 0.1em center/9px no-repeat}.mw-parser-output .id-lock-subscription a,.mw-parser-output .citation .cs1-lock-subscription a{background:linear-gradient(transparent,transparent),url(\"//upload.wikimedia.org/wikipedia/commons/a/aa/Lock-red-alt-2.svg\")right 0.1em center/9px no-repeat}.mw-parser-output .cs1-ws-icon a{background:linear-gradient(transparent,transparent),url(\"//upload.wikimedia.org/wikipedia/commons/4/4c/Wikisource-logo.svg\")right 0.1em center/12px no-repeat}.mw-parser-output .cs1-code{color:inherit;background:inherit;border:none;padding:inherit}.mw-parser-output .cs1-hidden-error{display:none;color:#d33}.mw-parser-output .cs1-visible-error{color:#d33}.mw-parser-output .cs1-maint{display:none;color:#3a3;margin-left:0.3em}.mw-parser-output .cs1-format{font-size:95%}.mw-parser-output .cs1-kern-left{padding-left:0.2em}.mw-parser-output .cs1-kern-right{padding-right:0.2em}.mw-parser-output .citation .mw-selflink{font-weight:inherit}</style><cite class=\"citation web cs1\"><a rel=\"nofollow\" class=\"external text\" href=\"https://www.webcitation.org/6FkpfEftX?url=http://www.blabbermouth.net/news.aspx?mode=Article\">\"Kvelertak Receives Gold-Album Plaque From Dave Grohl\"</a>. <i><a href=\"/wiki/Blabbermouth.net\" title=\"Blabbermouth.net\">Blabbermouth.net</a></i>. <a href=\"/wiki/Roadrunner_Records\" title=\"Roadrunner Records\">Roadrunner</a>. 1. juli 2011. Arkiveret fra <a rel=\"nofollow\" class=\"external text\" href=\"http://www.roadrunnerrecords.com/blabbermouth.net/news.aspx?mode=Article&amp;newsitemID=160165\">originalen</a> 9. april 2013<span class=\"reference-accessdate\">. Hentet 1. juli 2011</span>.</cite><span title=\"ctx_ver=Z39.88-2004&amp;rft_val_fmt=info%3Aofi%2Ffmt%3Akev%3Amtx%3Ajournal&amp;rft.genre=unknown&amp;rft.jtitle=Blabbermouth.net&amp;rft.atitle=Kvelertak+Receives+Gold-Album+Plaque+From+Dave+Grohl&amp;rft.date=2011-07-01&amp;rft_id=http%3A%2F%2Fwww.roadrunnerrecords.com%2Fblabbermouth.net%2Fnews.aspx%3Fmode%3DArticle%26newsitemID%3D160165&amp;rfr_id=info%3Asid%2Fda.wikipedia.org%3AKvelertak\" class=\"Z3988\"></span></span>\\n</li>\\n<li id=\"cite_note-5\"><span class=\"mw-cite-backlink\"><a href=\"#cite_ref-5\">^</a></span> <span class=\"reference-text\"><a rel=\"nofollow\" class=\"external text\" href=\"http://www.vg.no/musikk/artikkel.php?artid=10014293\">VG Nett: «Kvelertak vant én million kroner»</a>, publiceret 19.februar, 2011</span>\\n</li>\\n<li id=\"cite_note-6\"><span class=\"mw-cite-backlink\"><a href=\"#cite_ref-6\">^</a></span> <span class=\"reference-text\"><link rel=\"mw-deduplicated-inline-style\" href=\"mw-data:TemplateStyles:r11046047\"/><cite class=\"citation web cs1\"><a rel=\"nofollow\" class=\"external text\" href=\"https://www.webcitation.org/6FkpgkQxr?url=http://www.blabbermouth.net/news.aspx?mode=Article\">\"Kvelertak Wins Two Spellemann Awards\"</a>. <i><a href=\"/wiki/Blabbermouth.net\" title=\"Blabbermouth.net\">Blabbermouth.net</a></i>. <a href=\"/wiki/Roadrunner_Records\" title=\"Roadrunner Records\">Roadrunner Records</a>. 6. marts 2011. Arkiveret fra <a rel=\"nofollow\" class=\"external text\" href=\"http://www.roadrunnerrecords.com/blabbermouth.net/news.aspx?mode=Article&amp;newsitemID=154941\">originalen</a> 9. april 2013<span class=\"reference-accessdate\">. Hentet 6. marts 2011</span>.</cite><span title=\"ctx_ver=Z39.88-2004&amp;rft_val_fmt=info%3Aofi%2Ffmt%3Akev%3Amtx%3Ajournal&amp;rft.genre=unknown&amp;rft.jtitle=Blabbermouth.net&amp;rft.atitle=Kvelertak+Wins+Two+Spellemann+Awards&amp;rft.date=2011-03-06&amp;rft_id=http%3A%2F%2Fwww.roadrunnerrecords.com%2Fblabbermouth.net%2Fnews.aspx%3Fmode%3DArticle%26newsitemID%3D154941&amp;rfr_id=info%3Asid%2Fda.wikipedia.org%3AKvelertak\" class=\"Z3988\"></span></span>\\n</li>\\n<li id=\"cite_note-metalhammer-7\"><span class=\"mw-cite-backlink\"><a href=\"#cite_ref-metalhammer_7-0\">^</a></span> <span class=\"reference-text\"><link rel=\"mw-deduplicated-inline-style\" href=\"mw-data:TemplateStyles:r11046047\"/><cite class=\"citation web cs1\"><a rel=\"nofollow\" class=\"external text\" href=\"http://www.metalhammer.co.uk/news/kvelertak-announce-uk-tour/\">\"<span class=\"cs1-kern-left\"></span>\"Kvelertak announce UK tour\"</a>. <a href=\"/wiki/Metal_Hammer\" title=\"Metal Hammer\">Metal Hammer</a>. 19. december 2012<span class=\"reference-accessdate\">. Hentet 19. december 2012</span>.</cite><span title=\"ctx_ver=Z39.88-2004&amp;rft_val_fmt=info%3Aofi%2Ffmt%3Akev%3Amtx%3Abook&amp;rft.genre=unknown&amp;rft.btitle=%22Kvelertak+announce+UK+tour&amp;rft.pub=Metal+Hammer&amp;rft.date=2012-12-19&amp;rft_id=http%3A%2F%2Fwww.metalhammer.co.uk%2Fnews%2Fkvelertak-announce-uk-tour%2F&amp;rfr_id=info%3Asid%2Fda.wikipedia.org%3AKvelertak\" class=\"Z3988\"></span></span>\\n</li>\\n<li id=\"cite_note-8\"><span class=\"mw-cite-backlink\"><a href=\"#cite_ref-8\">^</a></span> <span class=\"reference-text\"><a rel=\"nofollow\" class=\"external text\" href=\"http://gaffa.no/nyhet/130445/erlend-hjelvik-slutter-i-kvelertak/\">Erlend Hjelvik slutter i Kvelertak</a> gaffa.no 16.07.2018</span>\\n</li>\\n<li id=\"cite_note-9\"><span class=\"mw-cite-backlink\"><a href=\"#cite_ref-9\">^</a></span> <span class=\"reference-text\"><a rel=\"nofollow\" class=\"external text\" href=\"http://gaffa.no/nyhet/130528/her-er-den-nye-vokalisten-i-kvelertak/\">Her er den nye vokalisten i Kvelertak</a> gaffa.no 20.07.2018 </span>\\n</li>\\n</ol>\\n<h2><span class=\"mw-headline\" id=\"Eksterne_henvisninger\">Eksterne henvisninger</span><span class=\"mw-editsection\"><span class=\"mw-editsection-bracket\">[</span><a href=\"/w/index.php?title=Kvelertak&amp;veaction=edit&amp;section=7\" class=\"mw-editsection-visualeditor\" title=\"Redigér afsnit: Eksterne henvisninger\">redigér</a><span class=\"mw-editsection-divider\"> | </span><a href=\"/w/index.php?title=Kvelertak&amp;action=edit&amp;section=7\" title=\"Redigér afsnit: Eksterne henvisninger\">rediger kildetekst</a><span class=\"mw-editsection-bracket\">]</span></span></h2>\\n<ul><li><div class=\"plainlinks\" style=\"display:inline;\"><img alt=\"Commons-logo.svg\" src=\"//upload.wikimedia.org/wikipedia/commons/thumb/4/4a/Commons-logo.svg/11px-Commons-logo.svg.png\" decoding=\"async\" width=\"11\" height=\"15\" srcset=\"//upload.wikimedia.org/wikipedia/commons/thumb/4/4a/Commons-logo.svg/17px-Commons-logo.svg.png 1.5x, //upload.wikimedia.org/wikipedia/commons/thumb/4/4a/Commons-logo.svg/22px-Commons-logo.svg.png 2x\" data-file-width=\"1024\" data-file-height=\"1376\" /> <a href=\"/wiki/Wikimedia_Commons\" title=\"Wikimedia Commons\">Wikimedia Commons</a> har flere filer relateret til <b><a href=\"https://commons.wikimedia.org/wiki/Category:Kvelertak\" class=\"extiw\" title=\"commons:Category:Kvelertak\">Kvelertak</a></b> </div></li>\\n<li><a href=\"/wiki/Twitter\" title=\"Twitter\">Twitterbruger</a>: <span class=\"plainlinks\"><a rel=\"nofollow\" class=\"external text\" href=\"https://twitter.com/Kvelertak\">@Kvelertak</a></span> <a href=\"https://www.wikidata.org/wiki/Q1794838\" title=\"Rediger på Wikidata\"><img alt=\"Rediger på Wikidata\" src=\"//upload.wikimedia.org/wikipedia/commons/thumb/7/73/Blue_pencil.svg/5px-Blue_pencil.svg.png\" decoding=\"async\" width=\"5\" height=\"5\" style=\"vertical-align: text-top\" srcset=\"//upload.wikimedia.org/wikipedia/commons/thumb/7/73/Blue_pencil.svg/8px-Blue_pencil.svg.png 1.5x, //upload.wikimedia.org/wikipedia/commons/thumb/7/73/Blue_pencil.svg/10px-Blue_pencil.svg.png 2x\" data-file-width=\"600\" data-file-height=\"600\" /></a></li>\\n<li class=\"mw-empty-elt\"></li>\\n<li><span class=\"wd_p1728\"><a rel=\"nofollow\" class=\"external text\" href=\"https://www.allmusic.com/artist/mn0002526582\">Kvelertak</a> på <a href=\"/wiki/Allmusic\" title=\"Allmusic\">Allmusic</a><span class=\"noprint plainlinks wikidata-linkback\" style=\"padding-left:.5em\"><a class=\"external text\" href=\"https://www.wikidata.org/wiki/Q1794838#P1728\"><img alt=\"Rediger på wikidata\" src=\"//upload.wikimedia.org/wikipedia/commons/thumb/7/73/Blue_pencil.svg/10px-Blue_pencil.svg.png\" decoding=\"async\" title=\"Rediger på wikidata\" width=\"10\" height=\"10\" style=\"vertical-align: baseline\" srcset=\"//upload.wikimedia.org/wikipedia/commons/thumb/7/73/Blue_pencil.svg/15px-Blue_pencil.svg.png 1.5x, //upload.wikimedia.org/wikipedia/commons/thumb/7/73/Blue_pencil.svg/20px-Blue_pencil.svg.png 2x\" data-file-width=\"600\" data-file-height=\"600\" /> </a></span></span></li>\\n<li><span class=\"wd_p1953\"><a rel=\"nofollow\" class=\"external text\" href=\"https://www.discogs.com/artist/1868277\">Kvelertak</a> på <a href=\"/wiki/Discogs\" title=\"Discogs\">Discogs</a><span class=\"noprint plainlinks wikidata-linkback\" style=\"padding-left:.5em\"><a class=\"external text\" href=\"https://www.wikidata.org/wiki/Q1794838#P1953\"><img alt=\"Rediger på wikidata\" src=\"//upload.wikimedia.org/wikipedia/commons/thumb/7/73/Blue_pencil.svg/10px-Blue_pencil.svg.png\" decoding=\"async\" title=\"Rediger på wikidata\" width=\"10\" height=\"10\" style=\"vertical-align: baseline\" srcset=\"//upload.wikimedia.org/wikipedia/commons/thumb/7/73/Blue_pencil.svg/15px-Blue_pencil.svg.png 1.5x, //upload.wikimedia.org/wikipedia/commons/thumb/7/73/Blue_pencil.svg/20px-Blue_pencil.svg.png 2x\" data-file-width=\"600\" data-file-height=\"600\" /> </a></span></span></li>\\n<li><span class=\"wd_p434\"><a rel=\"nofollow\" class=\"external text\" href=\"https://musicbrainz.org/artist/61fdc79c%2Ddf1a%2D4999%2D8d2f%2D668f18c11283\">Kvelertak</a> på <a href=\"/wiki/MusicBrainz\" title=\"MusicBrainz\">MusicBrainz</a><span class=\"noprint plainlinks wikidata-linkback\" style=\"padding-left:.5em\"><a class=\"external text\" href=\"https://www.wikidata.org/wiki/Q1794838#P434\"><img alt=\"Rediger på wikidata\" src=\"//upload.wikimedia.org/wikipedia/commons/thumb/7/73/Blue_pencil.svg/10px-Blue_pencil.svg.png\" decoding=\"async\" title=\"Rediger på wikidata\" width=\"10\" height=\"10\" style=\"vertical-align: baseline\" srcset=\"//upload.wikimedia.org/wikipedia/commons/thumb/7/73/Blue_pencil.svg/15px-Blue_pencil.svg.png 1.5x, //upload.wikimedia.org/wikipedia/commons/thumb/7/73/Blue_pencil.svg/20px-Blue_pencil.svg.png 2x\" data-file-width=\"600\" data-file-height=\"600\" /> </a></span></span></li>\\n<li><span class=\"wd_p3192\"><a rel=\"nofollow\" class=\"external text\" href=\"https://www.last.fm/music/Kvelertak\">Kvelertak</a> på <a href=\"/wiki/Last.fm\" title=\"Last.fm\">Last.fm</a><span class=\"noprint plainlinks wikidata-linkback\" style=\"padding-left:.5em\"><a class=\"external text\" href=\"https://www.wikidata.org/wiki/Q1794838#P3192\"><img alt=\"Rediger på wikidata\" src=\"//upload.wikimedia.org/wikipedia/commons/thumb/7/73/Blue_pencil.svg/10px-Blue_pencil.svg.png\" decoding=\"async\" title=\"Rediger på wikidata\" width=\"10\" height=\"10\" style=\"vertical-align: baseline\" srcset=\"//upload.wikimedia.org/wikipedia/commons/thumb/7/73/Blue_pencil.svg/15px-Blue_pencil.svg.png 1.5x, //upload.wikimedia.org/wikipedia/commons/thumb/7/73/Blue_pencil.svg/20px-Blue_pencil.svg.png 2x\" data-file-width=\"600\" data-file-height=\"600\" /> </a></span></span></li>\\n<li><span class=\"wd_p3265\"><a rel=\"nofollow\" class=\"external text\" href=\"https://myspace.com/kvelertak\">Kvelertak</a> på <a href=\"/wiki/Myspace\" title=\"Myspace\">Myspace</a><span class=\"noprint plainlinks wikidata-linkback\" style=\"padding-left:.5em\"><a class=\"external text\" href=\"https://www.wikidata.org/wiki/Q1794838#P3265\"><img alt=\"Rediger på wikidata\" src=\"//upload.wikimedia.org/wikipedia/commons/thumb/7/73/Blue_pencil.svg/10px-Blue_pencil.svg.png\" decoding=\"async\" title=\"Rediger på wikidata\" width=\"10\" height=\"10\" style=\"vertical-align: baseline\" srcset=\"//upload.wikimedia.org/wikipedia/commons/thumb/7/73/Blue_pencil.svg/15px-Blue_pencil.svg.png 1.5x, //upload.wikimedia.org/wikipedia/commons/thumb/7/73/Blue_pencil.svg/20px-Blue_pencil.svg.png 2x\" data-file-width=\"600\" data-file-height=\"600\" /> </a></span></span></li></ul>\\n<table class=\"navbox\" style=\"border-spacing:0\"><tbody><tr><td style=\"padding:2px\"><table class=\"nowraplinks hlist navbox-inner\" style=\"border-spacing:0;background:transparent;color:inherit\"><tbody><tr><th scope=\"row\" class=\"navbox-group\"><a href=\"/wiki/Autoritetsdata\" title=\"Autoritetsdata\">Autoritetsdata</a></th><td class=\"navbox-list navbox-odd\" style=\"text-align:left;border-left-width:2px;border-left-style:solid;width:100%;padding:0px\"><div style=\"padding:0em 0.25em\">\\n<ul><li><a rel=\"nofollow\" class=\"external text\" href=\"https://www.worldcat.org/identities/containsVIAFID/6145970358032252849\">WorldCat</a></li>\\n<li><a href=\"/wiki/Virtual_International_Authority_File\" title=\"Virtual International Authority File\">VIAF</a>: <span class=\"uid\"><a rel=\"nofollow\" class=\"external text\" href=\"https://viaf.org/viaf/6145970358032252849\">6145970358032252849</a></span></li>\\n<li><a href=\"/wiki/Library_of_Congress_Control_Number\" title=\"Library of Congress Control Number\">LCCN</a>: <span class=\"uid\"><a rel=\"nofollow\" class=\"external text\" href=\"http://id.loc.gov/authorities/names/no2013058228\">no2013058228</a></span></li>\\n<li><a href=\"/wiki/International_Standard_Name_Identifier\" title=\"International Standard Name Identifier\">ISNI</a>: <span class=\"uid\"><a rel=\"nofollow\" class=\"external text\" href=\"http://isni.org/0000000469004085\">0000 0004 6900 4085</a></span></li>\\n<li><a href=\"/wiki/Gemeinsame_Normdatei\" title=\"Gemeinsame Normdatei\">GND</a>: <span class=\"uid\"><a rel=\"nofollow\" class=\"external text\" href=\"http://d-nb.info/gnd/1036713679\">1036713679</a></span></li>\\n<li><a href=\"/wiki/Biblioth%C3%A8que_nationale_de_France\" title=\"Bibliothèque nationale de France\">BNF</a>: <span class=\"uid\"><a rel=\"nofollow\" class=\"external text\" href=\"http://catalogue.bnf.fr/ark:/12148/cb167271179\">cb167271179</a> <a rel=\"nofollow\" class=\"external text\" href=\"http://data.bnf.fr/ark:/12148/cb167271179\">(data)</a></span></li>\\n<li><a href=\"/wiki/BIBSYS\" title=\"BIBSYS\">BIBSYS</a>: <span class=\"uid\"><a rel=\"nofollow\" class=\"external text\" href=\"http://ask.bibsys.no/ask/action/result?cmd=&amp;kilde=biblio&amp;cql=bs.autid+%3D+10103770&amp;feltselect=bs.autid\">10103770</a></span></li>\\n<li><a href=\"/wiki/MusicBrainz\" title=\"MusicBrainz\">MusicBrainz</a>: <span class=\"uid\"><a rel=\"nofollow\" class=\"external text\" href=\"//musicbrainz.org/artist/61fdc79c-df1a-4999-8d2f-668f18c11283\">61fdc79c-df1a-4999-8d2f-668f18c11283</a></span></li>\\n<li><a href=\"/wiki/Tjekkisk_nationalbibliotek\" title=\"Tjekkisk nationalbibliotek\">NKC</a>: <span class=\"uid\"><a rel=\"nofollow\" class=\"external text\" href=\"http://aleph.nkp.cz/F/?func=find-c&amp;local_base=aut&amp;ccl_term=ica=xx0168444&amp;CON_LNG=ENG\">xx0168444</a></span></li></ul>\\n</div></td></tr></tbody></table></td></tr></tbody></table>\\n<!-- \\nNewPP limit report\\nParsed by mw1338\\nCached time: 20220307205647\\nCache expiry: 1814400\\nReduced expiry: false\\nComplications: [vary‐revision‐sha1]\\nCPU time usage: 0.710 seconds\\nReal time usage: 1.354 seconds\\nPreprocessor visited node count: 1767/1000000\\nPost‐expand include size: 20103/2097152 bytes\\nTemplate argument size: 951/2097152 bytes\\nHighest expansion depth: 12/100\\nExpensive parser function count: 5/500\\nUnstrip recursion depth: 1/20\\nUnstrip post‐expand size: 11457/5000000 bytes\\nLua time usage: 0.426/10.000 seconds\\nLua memory usage: 4948124/52428800 bytes\\nNumber of Wikibase entities loaded: 6/400\\n-->\\n<!--\\nTransclusion expansion time report (%,ms,calls,template)\\n100.00% 1207.738      1 -total\\n 43.05%  519.946      1 Skabelon:Infoboks_musiker\\n 34.76%  419.751      1 Skabelon:Infoboks_med_filter\\n 23.94%  289.077      1 Skabelon:Musikhenvisninger\\n 20.11%  242.914      3 Skabelon:Cite_web\\n  9.51%  114.854      6 Skabelon:Wikidata-streng\\n  7.64%   92.253      3 Skabelon:Br_separated_entries\\n  7.15%   86.309     40 Skabelon:Wikidata-emne\\n  5.32%   64.301      1 Skabelon:Autoritetsdata\\n  2.63%   31.754      1 Skabelon:Wikidata_image\\n-->\\n\\n<!-- Saved in parser cache with key dawiki:pcache:idhash:654757-0!canonical and timestamp 20220307205646 and revision id 10959817. Serialized with JSON.\\n -->\\n</div><noscript><img src=\"//da.wikipedia.org/wiki/Special:CentralAutoLogin/start?type=1x1\" alt=\"\" title=\"\" width=\"1\" height=\"1\" style=\"border: none; position: absolute;\" /></noscript>\\n<div class=\"printfooter\">Hentet fra \"<a dir=\"ltr\" href=\"https://da.wikipedia.org/w/index.php?title=Kvelertak&amp;oldid=10959817\">https://da.wikipedia.org/w/index.php?title=Kvelertak&amp;oldid=10959817</a>\"</div></div>\\n\\t\\t<div id=\"catlinks\" class=\"catlinks\" data-mw=\"interface\"><div id=\"mw-normal-catlinks\" class=\"mw-normal-catlinks\"><a href=\"/wiki/Speciel:Kategorier\" title=\"Speciel:Kategorier\">Kategorier</a>: <ul><li><a href=\"/wiki/Kategori:Metalgrupper_fra_Norge\" title=\"Kategori:Metalgrupper fra Norge\">Metalgrupper fra Norge</a></li><li><a href=\"/wiki/Kategori:Musikgrupper_fra_2007\" title=\"Kategori:Musikgrupper fra 2007\">Musikgrupper fra 2007</a></li></ul></div><div id=\"mw-hidden-catlinks\" class=\"mw-hidden-catlinks mw-hidden-cats-hidden\">Skjulte kategorier: <ul><li><a href=\"/wiki/Kategori:Sider_med_Webarchive-skabelon_som_henviser_til_Wayback_Machine\" title=\"Kategori:Sider med Webarchive-skabelon som henviser til Wayback Machine\">Sider med Webarchive-skabelon som henviser til Wayback Machine</a></li><li><a href=\"/wiki/Kategori:Lokalt_billede_forskelligt_fra_Wikidata\" title=\"Kategori:Lokalt billede forskelligt fra Wikidata\">Lokalt billede forskelligt fra Wikidata</a></li><li><a href=\"/wiki/Kategori:Infoboks_uden_udfyldt_wikidata_eller_ingen_wikidata_parametre\" title=\"Kategori:Infoboks uden udfyldt wikidata eller ingen wikidata parametre\">Infoboks uden udfyldt wikidata eller ingen wikidata parametre</a></li><li><a href=\"/wiki/Kategori:Commons-kategori_p%C3%A5_Wikidata_er_ens_med_sidetitel\" title=\"Kategori:Commons-kategori på Wikidata er ens med sidetitel\">Commons-kategori på Wikidata er ens med sidetitel</a></li><li><a href=\"/wiki/Kategori:Artikler_med_musikhenvisninger_fra_Wikidata\" title=\"Kategori:Artikler med musikhenvisninger fra Wikidata\">Artikler med musikhenvisninger fra Wikidata</a></li><li><a href=\"/wiki/Kategori:Wikipedia_artikler_med_VIAF_autoritetsdata-ID\" title=\"Kategori:Wikipedia artikler med VIAF autoritetsdata-ID\">Wikipedia artikler med VIAF autoritetsdata-ID</a></li><li><a href=\"/wiki/Kategori:Wikipedia_artikler_med_LCCN_autoritetsdata-ID\" title=\"Kategori:Wikipedia artikler med LCCN autoritetsdata-ID\">Wikipedia artikler med LCCN autoritetsdata-ID</a></li><li><a href=\"/wiki/Kategori:Wikipedia_artikler_med_ISNI_autoritetsdata-ID\" title=\"Kategori:Wikipedia artikler med ISNI autoritetsdata-ID\">Wikipedia artikler med ISNI autoritetsdata-ID</a></li><li><a href=\"/wiki/Kategori:Wikipedia_artikler_med_GND_autoritetsdata-ID\" title=\"Kategori:Wikipedia artikler med GND autoritetsdata-ID\">Wikipedia artikler med GND autoritetsdata-ID</a></li><li><a href=\"/wiki/Kategori:Wikipedia_artikler_med_BNF_autoritetsdata-ID\" title=\"Kategori:Wikipedia artikler med BNF autoritetsdata-ID\">Wikipedia artikler med BNF autoritetsdata-ID</a></li><li><a href=\"/wiki/Kategori:Wikipedia_artikler_med_BIBSYS_autoritetsdata-ID\" title=\"Kategori:Wikipedia artikler med BIBSYS autoritetsdata-ID\">Wikipedia artikler med BIBSYS autoritetsdata-ID</a></li><li><a href=\"/wiki/Kategori:Wikipedia_artikler_med_MusicBrainz_autoritetsdata-ID\" title=\"Kategori:Wikipedia artikler med MusicBrainz autoritetsdata-ID\">Wikipedia artikler med MusicBrainz autoritetsdata-ID</a></li></ul></div></div>\\n\\t</div>\\n</div>\\n<div id=\\'mw-data-after-content\\'>\\n\\t<div class=\"read-more-container\"></div>\\n</div>\\n\\n<div id=\"mw-navigation\">\\n\\t<h2>Navigationsmenu</h2>\\n\\t<div id=\"mw-head\">\\n\\t\\t\\n<nav id=\"p-personal\" class=\"mw-portlet mw-portlet-personal vector-user-menu-legacy vector-menu\" aria-labelledby=\"p-personal-label\" role=\"navigation\" \\n\\t >\\n\\t<h3 id=\"p-personal-label\" aria-label=\"\" class=\"vector-menu-heading\">\\n\\t\\t<span class=\"vector-menu-heading-label\">Personlige værktøjer</span>\\n\\t</h3>\\n\\t<div class=\"vector-menu-content\">\\n\\t\\t\\n\\t\\t<ul class=\"vector-menu-content-list\"><li id=\"pt-anonuserpage\" class=\"mw-list-item\"><span>Ikke logget på</span></li><li id=\"pt-anontalk\" class=\"mw-list-item\"><a href=\"/wiki/Speciel:Min_diskussionsside\" title=\"Diskussion om redigeringer fra denne ip-adresse [n]\" accesskey=\"n\"><span>Diskussion</span></a></li><li id=\"pt-anoncontribs\" class=\"mw-list-item\"><a href=\"/wiki/Speciel:Mine_bidrag\" title=\"Liste over redigeringer fra denne ip-adresse [y]\" accesskey=\"y\"><span>Bidrag</span></a></li><li id=\"pt-createaccount\" class=\"mw-list-item\"><a href=\"/w/index.php?title=Speciel:Opret_konto&amp;returnto=Kvelertak\" title=\"Du opfordres til at oprette en konto og logge på, men det er ikke obligatorisk\"><span>Opret konto</span></a></li><li id=\"pt-login\" class=\"mw-list-item\"><a href=\"/w/index.php?title=Speciel:Log_p%C3%A5&amp;returnto=Kvelertak\" title=\"Du opfordres til at logge på, men det er ikke obligatorisk. [o]\" accesskey=\"o\"><span>Log på</span></a></li></ul>\\n\\t\\t\\n\\t</div>\\n</nav>\\n\\n\\t\\t<div id=\"left-navigation\">\\n\\t\\t\\t\\n<nav id=\"p-namespaces\" class=\"mw-portlet mw-portlet-namespaces vector-menu vector-menu-tabs\" aria-labelledby=\"p-namespaces-label\" role=\"navigation\" \\n\\t >\\n\\t<h3 id=\"p-namespaces-label\" aria-label=\"\" class=\"vector-menu-heading\">\\n\\t\\t<span class=\"vector-menu-heading-label\">Navnerum</span>\\n\\t</h3>\\n\\t<div class=\"vector-menu-content\">\\n\\t\\t\\n\\t\\t<ul class=\"vector-menu-content-list\"><li id=\"ca-nstab-main\" class=\"selected mw-list-item\"><a href=\"/wiki/Kvelertak\" title=\"Se indholdssiden [c]\" accesskey=\"c\"><span>Artikel</span></a></li><li id=\"ca-talk\" class=\"new mw-list-item\"><a href=\"/w/index.php?title=Diskussion:Kvelertak&amp;action=edit&amp;redlink=1\" rel=\"discussion\" title=\"Diskussion om indholdet på siden (ikke skrevet endnu) [t]\" accesskey=\"t\"><span>Diskussion</span></a></li></ul>\\n\\t\\t\\n\\t</div>\\n</nav>\\n\\n\\t\\t\\t\\n<nav id=\"p-variants\" class=\"mw-portlet mw-portlet-variants emptyPortlet vector-menu-dropdown-noicon vector-menu vector-menu-dropdown\" aria-labelledby=\"p-variants-label\" role=\"navigation\" \\n\\t >\\n\\t<input type=\"checkbox\"\\n\\t\\tid=\"p-variants-checkbox\"\\n\\t\\trole=\"button\"\\n\\t\\taria-haspopup=\"true\"\\n\\t\\tdata-event-name=\"ui.dropdown-p-variants\"\\n\\t\\tclass=\"vector-menu-checkbox\" aria-labelledby=\"p-variants-label\" />\\n\\t<h3 id=\"p-variants-label\" aria-label=\"Ændr sprogvariant\" class=\"vector-menu-heading\">\\n\\t\\t<span class=\"vector-menu-heading-label\">dansk</span>\\n\\t\\t\\t<span class=\"vector-menu-checkbox-expanded\">udvidet</span>\\n\\t\\t\\t<span class=\"vector-menu-checkbox-collapsed\">Sammenfoldet</span>\\n\\t</h3>\\n\\t<div class=\"vector-menu-content\">\\n\\t\\t\\n\\t\\t<ul class=\"vector-menu-content-list\"></ul>\\n\\t\\t\\n\\t</div>\\n</nav>\\n\\n\\t\\t</div>\\n\\t\\t<div id=\"right-navigation\">\\n\\t\\t\\t\\n<nav id=\"p-views\" class=\"mw-portlet mw-portlet-views vector-menu vector-menu-tabs\" aria-labelledby=\"p-views-label\" role=\"navigation\" \\n\\t >\\n\\t<h3 id=\"p-views-label\" aria-label=\"\" class=\"vector-menu-heading\">\\n\\t\\t<span class=\"vector-menu-heading-label\">Visninger</span>\\n\\t</h3>\\n\\t<div class=\"vector-menu-content\">\\n\\t\\t\\n\\t\\t<ul class=\"vector-menu-content-list\"><li id=\"ca-view\" class=\"selected mw-list-item\"><a href=\"/wiki/Kvelertak\"><span>Vis</span></a></li><li id=\"ca-ve-edit\" class=\"mw-list-item\"><a href=\"/w/index.php?title=Kvelertak&amp;veaction=edit\" title=\"Redigér denne side [v]\" accesskey=\"v\"><span>Redigér</span></a></li><li id=\"ca-edit\" class=\"collapsible mw-list-item\"><a href=\"/w/index.php?title=Kvelertak&amp;action=edit\" title=\"Redigér denne side [e]\" accesskey=\"e\"><span>Rediger kildekode</span></a></li><li id=\"ca-history\" class=\"mw-list-item\"><a href=\"/w/index.php?title=Kvelertak&amp;action=history\" title=\"Tidligere versioner af denne side [h]\" accesskey=\"h\"><span>Se historik</span></a></li></ul>\\n\\t\\t\\n\\t</div>\\n</nav>\\n\\n\\t\\t\\t\\n<nav id=\"p-cactions\" class=\"mw-portlet mw-portlet-cactions emptyPortlet vector-menu-dropdown-noicon vector-menu vector-menu-dropdown\" aria-labelledby=\"p-cactions-label\" role=\"navigation\"  title=\"More options\"\\n\\t >\\n\\t<input type=\"checkbox\"\\n\\t\\tid=\"p-cactions-checkbox\"\\n\\t\\trole=\"button\"\\n\\t\\taria-haspopup=\"true\"\\n\\t\\tdata-event-name=\"ui.dropdown-p-cactions\"\\n\\t\\tclass=\"vector-menu-checkbox\" aria-labelledby=\"p-cactions-label\" />\\n\\t<h3 id=\"p-cactions-label\" aria-label=\"\" class=\"vector-menu-heading\">\\n\\t\\t<span class=\"vector-menu-heading-label\">Mere</span>\\n\\t\\t\\t<span class=\"vector-menu-checkbox-expanded\">udvidet</span>\\n\\t\\t\\t<span class=\"vector-menu-checkbox-collapsed\">Sammenfoldet</span>\\n\\t</h3>\\n\\t<div class=\"vector-menu-content\">\\n\\t\\t\\n\\t\\t<ul class=\"vector-menu-content-list\"></ul>\\n\\t\\t\\n\\t</div>\\n</nav>\\n\\n\\t\\t\\t\\n<div id=\"p-search\" role=\"search\" class=\"vector-search-box-vue  vector-search-box-show-thumbnail vector-search-box-auto-expand-width vector-search-box\">\\n\\t<div>\\n\\t\\t\\t<h3 >\\n\\t\\t\\t\\t<label for=\"searchInput\">Søg</label>\\n\\t\\t\\t</h3>\\n\\t\\t<form action=\"/w/index.php\" id=\"searchform\"\\n\\t\\t\\tclass=\"vector-search-box-form\">\\n\\t\\t\\t<div id=\"simpleSearch\"\\n\\t\\t\\t\\tclass=\"vector-search-box-inner\"\\n\\t\\t\\t\\t data-search-loc=\"header-navigation\">\\n\\t\\t\\t\\t<input class=\"vector-search-box-input\"\\n\\t\\t\\t\\t\\t type=\"search\" name=\"search\" placeholder=\"Søg på Wikipedia\" aria-label=\"Søg på Wikipedia\" autocapitalize=\"sentences\" title=\"Søg i Wikipedia [f]\" accesskey=\"f\" id=\"searchInput\"\\n\\t\\t\\t\\t/>\\n\\t\\t\\t\\t<input type=\"hidden\" name=\"title\" value=\"Speciel:Søgning\"/>\\n\\t\\t\\t\\t<input id=\"mw-searchButton\"\\n\\t\\t\\t\\t\\t class=\"searchButton mw-fallbackSearchButton\" type=\"submit\" name=\"fulltext\" title=\"Søg efter sider der indeholder denne tekst\" value=\"Søg\" />\\n\\t\\t\\t\\t<input id=\"searchButton\"\\n\\t\\t\\t\\t\\t class=\"searchButton\" type=\"submit\" name=\"go\" title=\"Vis en side med præcis dette navn, hvis den findes\" value=\"Gå\" />\\n\\t\\t\\t</div>\\n\\t\\t</form>\\n\\t</div>\\n</div>\\n\\n\\t\\t</div>\\n\\t</div>\\n\\t\\n\\n<div id=\"mw-panel\">\\n\\t<div id=\"p-logo\" role=\"banner\">\\n\\t\\t<a class=\"mw-wiki-logo\" href=\"/wiki/Forside\"\\n\\t\\t\\ttitle=\"Besøg forsiden\"></a>\\n\\t</div>\\n\\t\\n<nav id=\"p-Navigation\" class=\"mw-portlet mw-portlet-Navigation vector-menu vector-menu-portal portal\" aria-labelledby=\"p-Navigation-label\" role=\"navigation\" \\n\\t >\\n\\t<h3 id=\"p-Navigation-label\" aria-label=\"\" class=\"vector-menu-heading\">\\n\\t\\t<span class=\"vector-menu-heading-label\">Navigation</span>\\n\\t</h3>\\n\\t<div class=\"vector-menu-content\">\\n\\t\\t\\n\\t\\t<ul class=\"vector-menu-content-list\"><li id=\"n-mainpage\" class=\"mw-list-item\"><a href=\"/wiki/Forside\" title=\"Besøg forsiden [z]\" accesskey=\"z\"><span>Forside</span></a></li><li id=\"n-kategorier\" class=\"mw-list-item\"><a href=\"/wiki/Wikipedia:Kategorier\"><span>Kategorier</span></a></li><li id=\"n-Fremhævet-indhold\" class=\"mw-list-item\"><a href=\"/wiki/Wikipedia:Fremh%C3%A6vet_indhold\"><span>Fremhævet indhold</span></a></li><li id=\"n-randompage\" class=\"mw-list-item\"><a href=\"/wiki/Speciel:Tilf%C3%A6ldig_side\" icon=\"die\" title=\"Gå til en tilfældig side [x]\" accesskey=\"x\"><span>Tilfældig side</span></a></li><li id=\"n-Tilfældige-artikler\" class=\"mw-list-item\"><a href=\"/wiki/Wikipedia:Tilf%C3%A6ldige_artikler\"><span>Tilfældige artikler</span></a></li><li id=\"n-Aktuelt\" class=\"mw-list-item\"><a href=\"/wiki/Wikipedia:Aktuelle_begivenheder\"><span>Aktuelt</span></a></li></ul>\\n\\t\\t\\n\\t</div>\\n</nav>\\n\\n\\t\\n<nav id=\"p-Deltagelse\" class=\"mw-portlet mw-portlet-Deltagelse vector-menu vector-menu-portal portal\" aria-labelledby=\"p-Deltagelse-label\" role=\"navigation\" \\n\\t >\\n\\t<h3 id=\"p-Deltagelse-label\" aria-label=\"\" class=\"vector-menu-heading\">\\n\\t\\t<span class=\"vector-menu-heading-label\">Deltagelse</span>\\n\\t</h3>\\n\\t<div class=\"vector-menu-content\">\\n\\t\\t\\n\\t\\t<ul class=\"vector-menu-content-list\"><li id=\"n-velkommen\" class=\"mw-list-item\"><a href=\"/wiki/Hj%C3%A6lp:Velkommen_til_Wikipedia\"><span>Velkommen</span></a></li><li id=\"n-portal\" class=\"mw-list-item\"><a href=\"/wiki/Wikipedia:Forside\" title=\"Om projektet, hvad du kan gøre, hvor tingene findes\"><span>Skribentforside</span></a></li><li id=\"n-Landsbybrønden\" class=\"mw-list-item\"><a href=\"/wiki/Wikipedia:Landsbybr%C3%B8nden\"><span>Landsbybrønden</span></a></li><li id=\"n-Projekter\" class=\"mw-list-item\"><a href=\"/wiki/Wikipedia:Projekter\"><span>Projekter</span></a></li><li id=\"n-Portaler\" class=\"mw-list-item\"><a href=\"/wiki/Portal:Portaler\"><span>Portaler</span></a></li><li id=\"n-Ønskede-artikler\" class=\"mw-list-item\"><a href=\"/wiki/Wikipedia:WikiProjekt_Efterspurgte_artikler\"><span>Ønskede artikler</span></a></li><li id=\"n-Oprydning\" class=\"mw-list-item\"><a href=\"/wiki/Wikipedia:Oprydning\"><span>Oprydning</span></a></li><li id=\"n-Kalender\" class=\"mw-list-item\"><a href=\"/wiki/Wikipedia:Kalender\"><span>Kalender</span></a></li><li id=\"n-recentchanges\" class=\"mw-list-item\"><a href=\"/wiki/Speciel:Seneste_%C3%A6ndringer\" icon=\"recentChanges\" title=\"Listen over de seneste ændringer i wikien. [r]\" accesskey=\"r\"><span>Seneste ændringer</span></a></li><li id=\"n-help\" class=\"mw-list-item\"><a href=\"/wiki/Hj%C3%A6lp:Forside\" icon=\"help\" title=\"Stedet hvor du finder hjælp\"><span>Hjælp</span></a></li></ul>\\n\\t\\t\\n\\t</div>\\n</nav>\\n\\n<nav id=\"p-tb\" class=\"mw-portlet mw-portlet-tb vector-menu vector-menu-portal portal\" aria-labelledby=\"p-tb-label\" role=\"navigation\" \\n\\t >\\n\\t<h3 id=\"p-tb-label\" aria-label=\"\" class=\"vector-menu-heading\">\\n\\t\\t<span class=\"vector-menu-heading-label\">Værktøjer</span>\\n\\t</h3>\\n\\t<div class=\"vector-menu-content\">\\n\\t\\t\\n\\t\\t<ul class=\"vector-menu-content-list\"><li id=\"t-whatlinkshere\" class=\"mw-list-item\"><a href=\"/wiki/Speciel:Hvad_linker_hertil/Kvelertak\" title=\"Liste med alle sider som henviser hertil [j]\" accesskey=\"j\"><span>Hvad henviser hertil</span></a></li><li id=\"t-recentchangeslinked\" class=\"mw-list-item\"><a href=\"/wiki/Speciel:Relaterede_%C3%A6ndringer/Kvelertak\" rel=\"nofollow\" title=\"Seneste ændringer af sider som denne side henviser til [k]\" accesskey=\"k\"><span>Beslægtede ændringer</span></a></li><li id=\"t-upload\" class=\"mw-list-item\"><a href=\"//commons.wikimedia.org/wiki/Special:UploadWizard?uselang=da&amp;campaign=dk\" title=\"Upload filer [u]\" accesskey=\"u\"><span>Upload fil</span></a></li><li id=\"t-specialpages\" class=\"mw-list-item\"><a href=\"/wiki/Speciel:Specialsider\" title=\"Liste over alle specialsider [q]\" accesskey=\"q\"><span>Specialsider</span></a></li><li id=\"t-permalink\" class=\"mw-list-item\"><a href=\"/w/index.php?title=Kvelertak&amp;oldid=10959817\" title=\"Permanent henvisning til denne version af denne side\"><span>Permanent link</span></a></li><li id=\"t-info\" class=\"mw-list-item\"><a href=\"/w/index.php?title=Kvelertak&amp;action=info\" title=\"Yderligere oplysninger om denne side\"><span>Sideinformation</span></a></li><li id=\"t-cite\" class=\"mw-list-item\"><a href=\"/w/index.php?title=Speciel:Citer&amp;page=Kvelertak&amp;id=10959817&amp;wpFormIdentifier=titleform\" title=\"Information om, hvordan man kan citere denne side\"><span>Referer til denne side</span></a></li><li id=\"t-wikibase\" class=\"mw-list-item\"><a href=\"https://www.wikidata.org/wiki/Special:EntityPage/Q1794838\" title=\"Link til tilknyttet emne i Wikidata [g]\" accesskey=\"g\"><span>Wikidata-element</span></a></li></ul>\\n\\t\\t\\n\\t</div>\\n</nav>\\n\\n<nav id=\"p-Organisation\" class=\"mw-portlet mw-portlet-Organisation vector-menu vector-menu-portal portal\" aria-labelledby=\"p-Organisation-label\" role=\"navigation\" \\n\\t >\\n\\t<h3 id=\"p-Organisation-label\" aria-label=\"\" class=\"vector-menu-heading\">\\n\\t\\t<span class=\"vector-menu-heading-label\">Organisation</span>\\n\\t</h3>\\n\\t<div class=\"vector-menu-content\">\\n\\t\\t\\n\\t\\t<ul class=\"vector-menu-content-list\"><li id=\"n-sitesupport\" class=\"mw-list-item\"><a href=\"//donate.wikimedia.org/wiki/Special:FundraiserRedirector?utm_source=donate&amp;utm_medium=sidebar&amp;utm_campaign=C13_da.wikipedia.org&amp;uselang=da\" title=\"Støt Wikipedia\"><span>Donation</span></a></li><li id=\"n-contact\" class=\"mw-list-item\"><a href=\"/wiki/Wikipedia:Kontakt_Wikipedia\"><span>Kontakt Wikipedia</span></a></li><li id=\"n-Wikimedia-Danmark\" class=\"mw-list-item\"><a href=\"https://dk.wikimedia.org/wiki/\"><span>Wikimedia Danmark</span></a></li><li id=\"n-GLAM\" class=\"mw-list-item\"><a href=\"/wiki/Wikipedia:GLAM\"><span>GLAM</span></a></li></ul>\\n\\t\\t\\n\\t</div>\\n</nav>\\n\\n<nav id=\"p-coll-print_export\" class=\"mw-portlet mw-portlet-coll-print_export vector-menu vector-menu-portal portal\" aria-labelledby=\"p-coll-print_export-label\" role=\"navigation\" \\n\\t >\\n\\t<h3 id=\"p-coll-print_export-label\" aria-label=\"\" class=\"vector-menu-heading\">\\n\\t\\t<span class=\"vector-menu-heading-label\">Udskriv/eksportér</span>\\n\\t</h3>\\n\\t<div class=\"vector-menu-content\">\\n\\t\\t\\n\\t\\t<ul class=\"vector-menu-content-list\"><li id=\"coll-create_a_book\" class=\"mw-list-item\"><a href=\"/w/index.php?title=Speciel:Bog&amp;bookcmd=book_creator&amp;referer=Kvelertak\"><span>Lav en bog</span></a></li><li id=\"coll-download-as-rl\" class=\"mw-list-item\"><a href=\"/w/index.php?title=Speciel:DownloadAsPdf&amp;page=Kvelertak&amp;action=show-download-screen\"><span>Download som PDF</span></a></li><li id=\"t-print\" class=\"mw-list-item\"><a href=\"/w/index.php?title=Kvelertak&amp;printable=yes\" title=\"Printervenlig udgave af denne side [p]\" accesskey=\"p\"><span>Udskriftsvenlig udgave</span></a></li></ul>\\n\\t\\t\\n\\t</div>\\n</nav>\\n\\n<nav id=\"p-wikibase-otherprojects\" class=\"mw-portlet mw-portlet-wikibase-otherprojects vector-menu vector-menu-portal portal\" aria-labelledby=\"p-wikibase-otherprojects-label\" role=\"navigation\" \\n\\t >\\n\\t<h3 id=\"p-wikibase-otherprojects-label\" aria-label=\"\" class=\"vector-menu-heading\">\\n\\t\\t<span class=\"vector-menu-heading-label\">I andre projekter</span>\\n\\t</h3>\\n\\t<div class=\"vector-menu-content\">\\n\\t\\t\\n\\t\\t<ul class=\"vector-menu-content-list\"><li class=\"wb-otherproject-link wb-otherproject-commons mw-list-item\"><a href=\"https://commons.wikimedia.org/wiki/Category:Kvelertak\" hreflang=\"en\"><span>Wikimedia Commons</span></a></li></ul>\\n\\t\\t\\n\\t</div>\\n</nav>\\n\\n\\t\\n<nav id=\"p-lang\" class=\"mw-portlet mw-portlet-lang vector-menu vector-menu-portal portal\" aria-labelledby=\"p-lang-label\" role=\"navigation\" \\n\\t >\\n\\t<h3 id=\"p-lang-label\" aria-label=\"\" class=\"vector-menu-heading\">\\n\\t\\t<span class=\"vector-menu-heading-label\">På andre sprog</span>\\n\\t</h3>\\n\\t<div class=\"vector-menu-content\">\\n\\t\\t\\n\\t\\t<ul class=\"vector-menu-content-list\"><li class=\"interlanguage-link interwiki-ca mw-list-item\"><a href=\"https://ca.wikipedia.org/wiki/Kvelertak\" title=\"Kvelertak – catalansk\" lang=\"ca\" hreflang=\"ca\" class=\"interlanguage-link-target\"><span>Català</span></a></li><li class=\"interlanguage-link interwiki-cs mw-list-item\"><a href=\"https://cs.wikipedia.org/wiki/Kvelertak\" title=\"Kvelertak – tjekkisk\" lang=\"cs\" hreflang=\"cs\" class=\"interlanguage-link-target\"><span>Čeština</span></a></li><li class=\"interlanguage-link interwiki-de mw-list-item\"><a href=\"https://de.wikipedia.org/wiki/Kvelertak\" title=\"Kvelertak – tysk\" lang=\"de\" hreflang=\"de\" class=\"interlanguage-link-target\"><span>Deutsch</span></a></li><li class=\"interlanguage-link interwiki-en mw-list-item\"><a href=\"https://en.wikipedia.org/wiki/Kvelertak\" title=\"Kvelertak – engelsk\" lang=\"en\" hreflang=\"en\" class=\"interlanguage-link-target\"><span>English</span></a></li><li class=\"interlanguage-link interwiki-es mw-list-item\"><a href=\"https://es.wikipedia.org/wiki/Kvelertak\" title=\"Kvelertak – spansk\" lang=\"es\" hreflang=\"es\" class=\"interlanguage-link-target\"><span>Español</span></a></li><li class=\"interlanguage-link interwiki-fi mw-list-item\"><a href=\"https://fi.wikipedia.org/wiki/Kvelertak\" title=\"Kvelertak – finsk\" lang=\"fi\" hreflang=\"fi\" class=\"interlanguage-link-target\"><span>Suomi</span></a></li><li class=\"interlanguage-link interwiki-fr mw-list-item\"><a href=\"https://fr.wikipedia.org/wiki/Kvelertak\" title=\"Kvelertak – fransk\" lang=\"fr\" hreflang=\"fr\" class=\"interlanguage-link-target\"><span>Français</span></a></li><li class=\"interlanguage-link interwiki-hr mw-list-item\"><a href=\"https://hr.wikipedia.org/wiki/Kvelertak\" title=\"Kvelertak – kroatisk\" lang=\"hr\" hreflang=\"hr\" class=\"interlanguage-link-target\"><span>Hrvatski</span></a></li><li class=\"interlanguage-link interwiki-hu mw-list-item\"><a href=\"https://hu.wikipedia.org/wiki/Kvelertak\" title=\"Kvelertak – ungarsk\" lang=\"hu\" hreflang=\"hu\" class=\"interlanguage-link-target\"><span>Magyar</span></a></li><li class=\"interlanguage-link interwiki-it mw-list-item\"><a href=\"https://it.wikipedia.org/wiki/Kvelertak\" title=\"Kvelertak – italiensk\" lang=\"it\" hreflang=\"it\" class=\"interlanguage-link-target\"><span>Italiano</span></a></li><li class=\"interlanguage-link interwiki-nl mw-list-item\"><a href=\"https://nl.wikipedia.org/wiki/Kvelertak\" title=\"Kvelertak – hollandsk\" lang=\"nl\" hreflang=\"nl\" class=\"interlanguage-link-target\"><span>Nederlands</span></a></li><li class=\"interlanguage-link interwiki-nn mw-list-item\"><a href=\"https://nn.wikipedia.org/wiki/Kvelertak\" title=\"Kvelertak – nynorsk\" lang=\"nn\" hreflang=\"nn\" class=\"interlanguage-link-target\"><span>Norsk nynorsk</span></a></li><li class=\"interlanguage-link interwiki-no mw-list-item\"><a href=\"https://no.wikipedia.org/wiki/Kvelertak_(band)\" title=\"Kvelertak (band) – bokmål\" lang=\"nb\" hreflang=\"nb\" class=\"interlanguage-link-target\"><span>Norsk bokmål</span></a></li><li class=\"interlanguage-link interwiki-pl mw-list-item\"><a href=\"https://pl.wikipedia.org/wiki/Kvelertak\" title=\"Kvelertak – polsk\" lang=\"pl\" hreflang=\"pl\" class=\"interlanguage-link-target\"><span>Polski</span></a></li><li class=\"interlanguage-link interwiki-pt mw-list-item\"><a href=\"https://pt.wikipedia.org/wiki/Kvelertak\" title=\"Kvelertak – portugisisk\" lang=\"pt\" hreflang=\"pt\" class=\"interlanguage-link-target\"><span>Português</span></a></li><li class=\"interlanguage-link interwiki-ru mw-list-item\"><a href=\"https://ru.wikipedia.org/wiki/Kvelertak\" title=\"Kvelertak – russisk\" lang=\"ru\" hreflang=\"ru\" class=\"interlanguage-link-target\"><span>Русский</span></a></li><li class=\"interlanguage-link interwiki-sv mw-list-item\"><a href=\"https://sv.wikipedia.org/wiki/Kvelertak\" title=\"Kvelertak – svensk\" lang=\"sv\" hreflang=\"sv\" class=\"interlanguage-link-target\"><span>Svenska</span></a></li><li class=\"interlanguage-link interwiki-tr mw-list-item\"><a href=\"https://tr.wikipedia.org/wiki/Kvelertak\" title=\"Kvelertak – tyrkisk\" lang=\"tr\" hreflang=\"tr\" class=\"interlanguage-link-target\"><span>Türkçe</span></a></li><li class=\"interlanguage-link interwiki-uk mw-list-item\"><a href=\"https://uk.wikipedia.org/wiki/Kvelertak\" title=\"Kvelertak – ukrainsk\" lang=\"uk\" hreflang=\"uk\" class=\"interlanguage-link-target\"><span>Українська</span></a></li></ul>\\n\\t\\t<div class=\"after-portlet after-portlet-lang\"><span class=\"wb-langlinks-edit wb-langlinks-link\"><a href=\"https://www.wikidata.org/wiki/Special:EntityPage/Q1794838#sitelinks-wikipedia\" title=\"Redigér sproglinks\" class=\"wbc-editpage\">Redigér links</a></span></div>\\n\\t</div>\\n</nav>\\n\\n</div>\\n\\n</div>\\n\\n<footer id=\"footer\" class=\"mw-footer\" role=\"contentinfo\" >\\n\\t<ul id=\"footer-info\">\\n\\t<li id=\"footer-info-lastmod\"> Denne side blev senest ændret den 28. december 2021 kl. 01:36.</li>\\n\\t<li id=\"footer-info-copyright\">Tekst er tilgængelig under <a rel=\"license\" href=\"//creativecommons.org/licenses/by-sa/3.0/deed.da\">Creative Commons Navngivelse/Del på samme vilkår 3.0</a>; yderligere betingelser kan være gældende. Se <a rel=\"license\" href=\"//meta.wikimedia.org/wiki/Terms_of_use/da\">brugsbetingelserne</a> for flere oplysninger.</li>\\n</ul>\\n\\n\\t<ul id=\"footer-places\">\\n\\t<li id=\"footer-places-privacy\"><a href=\"https://foundation.wikimedia.org/wiki/Privacy_policy\" class=\"extiw\" title=\"wmf:Privacy policy\">Privatlivspolitik</a></li>\\n\\t<li id=\"footer-places-about\"><a href=\"/wiki/Wikipedia:Om\" class=\"mw-redirect\" title=\"Wikipedia:Om\">Om Wikipedia</a></li>\\n\\t<li id=\"footer-places-disclaimer\"><a href=\"/wiki/Wikipedia:Generelle_forbehold\" title=\"Wikipedia:Generelle forbehold\">Forbehold</a></li>\\n\\t<li id=\"footer-places-mobileview\"><a href=\"//da.m.wikipedia.org/w/index.php?title=Kvelertak&amp;mobileaction=toggle_view_mobile\" class=\"noprint stopMobileRedirectToggle\">Mobilvisning</a></li>\\n\\t<li id=\"footer-places-developers\"><a href=\"https://www.mediawiki.org/wiki/Special:MyLanguage/How_to_contribute\">Udviklere</a></li>\\n\\t<li id=\"footer-places-statslink\"><a href=\"https://stats.wikimedia.org/#/da.wikipedia.org\">Statistik</a></li>\\n\\t<li id=\"footer-places-cookiestatement\"><a href=\"https://foundation.wikimedia.org/wiki/Cookie_statement\">Cookie-erklæring</a></li>\\n</ul>\\n\\n\\t<ul id=\"footer-icons\" class=\"noprint\">\\n\\t<li id=\"footer-copyrightico\"><a href=\"https://wikimediafoundation.org/\"><img src=\"/static/images/footer/wikimedia-button.png\" srcset=\"/static/images/footer/wikimedia-button-1.5x.png 1.5x, /static/images/footer/wikimedia-button-2x.png 2x\" width=\"88\" height=\"31\" alt=\"Wikimedia Foundation\" loading=\"lazy\" /></a></li>\\n\\t<li id=\"footer-poweredbyico\"><a href=\"https://www.mediawiki.org/\"><img src=\"/static/images/footer/poweredby_mediawiki_88x31.png\" alt=\"Powered by MediaWiki\" srcset=\"/static/images/footer/poweredby_mediawiki_132x47.png 1.5x, /static/images/footer/poweredby_mediawiki_176x62.png 2x\" width=\"88\" height=\"31\" loading=\"lazy\"/></a></li>\\n</ul>\\n\\n</footer>\\n\\n<script>(RLQ=window.RLQ||[]).push(function(){mw.config.set({\"wgPageParseReport\":{\"limitreport\":{\"cputime\":\"0.710\",\"walltime\":\"1.354\",\"ppvisitednodes\":{\"value\":1767,\"limit\":1000000},\"postexpandincludesize\":{\"value\":20103,\"limit\":2097152},\"templateargumentsize\":{\"value\":951,\"limit\":2097152},\"expansiondepth\":{\"value\":12,\"limit\":100},\"expensivefunctioncount\":{\"value\":5,\"limit\":500},\"unstrip-depth\":{\"value\":1,\"limit\":20},\"unstrip-size\":{\"value\":11457,\"limit\":5000000},\"entityaccesscount\":{\"value\":6,\"limit\":400},\"timingprofile\":[\"100.00% 1207.738      1 -total\",\" 43.05%  519.946      1 Skabelon:Infoboks_musiker\",\" 34.76%  419.751      1 Skabelon:Infoboks_med_filter\",\" 23.94%  289.077      1 Skabelon:Musikhenvisninger\",\" 20.11%  242.914      3 Skabelon:Cite_web\",\"  9.51%  114.854      6 Skabelon:Wikidata-streng\",\"  7.64%   92.253      3 Skabelon:Br_separated_entries\",\"  7.15%   86.309     40 Skabelon:Wikidata-emne\",\"  5.32%   64.301      1 Skabelon:Autoritetsdata\",\"  2.63%   31.754      1 Skabelon:Wikidata_image\"]},\"scribunto\":{\"limitreport-timeusage\":{\"value\":\"0.426\",\"limit\":\"10.000\"},\"limitreport-memusage\":{\"value\":4948124,\"limit\":52428800}},\"cachereport\":{\"origin\":\"mw1338\",\"timestamp\":\"20220307205647\",\"ttl\":1814400,\"transientcontent\":false}}});});</script>\\n<script type=\"application/ld+json\">{\"@context\":\"https:\\\\/\\\\/schema.org\",\"@type\":\"Article\",\"name\":\"Kvelertak\",\"url\":\"https:\\\\/\\\\/da.wikipedia.org\\\\/wiki\\\\/Kvelertak\",\"sameAs\":\"http:\\\\/\\\\/www.wikidata.org\\\\/entity\\\\/Q1794838\",\"mainEntity\":\"http:\\\\/\\\\/www.wikidata.org\\\\/entity\\\\/Q1794838\",\"author\":{\"@type\":\"Organization\",\"name\":\"Bidragsydere til Wikimedia-projekter\"},\"publisher\":{\"@type\":\"Organization\",\"name\":\"Wikimedia Foundation, Inc.\",\"logo\":{\"@type\":\"ImageObject\",\"url\":\"https:\\\\/\\\\/www.wikimedia.org\\\\/static\\\\/images\\\\/wmf-hor-googpub.png\"}},\"datePublished\":\"2012-08-07T21:56:54Z\",\"dateModified\":\"2021-12-28T00:36:33Z\",\"image\":\"https:\\\\/\\\\/upload.wikimedia.org\\\\/wikipedia\\\\/commons\\\\/e\\\\/eb\\\\/KvelertakCopenhell2011.jpg\"}</script>\\n<script>(RLQ=window.RLQ||[]).push(function(){mw.config.set({\"wgBackendResponseTime\":235,\"wgHostname\":\"mw1319\"});});</script>\\n</body>\\n</html>'"
      ]
     },
     "execution_count": 5,
     "metadata": {},
     "output_type": "execute_result"
    }
   ],
   "source": [
    "result.text"
   ]
  },
  {
   "cell_type": "code",
   "execution_count": 9,
   "id": "f9ec34a9",
   "metadata": {},
   "outputs": [],
   "source": [
    "soup = bs4.BeautifulSoup(result.text,\"lxml\")"
   ]
  },
  {
   "cell_type": "code",
   "execution_count": 10,
   "id": "e625ea1f",
   "metadata": {},
   "outputs": [
    {
     "data": {
      "text/plain": [
       "<!DOCTYPE html>\n",
       "<html class=\"client-nojs\" dir=\"ltr\" lang=\"da\">\n",
       "<head>\n",
       "<meta charset=\"utf-8\"/>\n",
       "<title>Kvelertak - Wikipedia, den frie encyklopædi</title>\n",
       "<script>document.documentElement.className=\"client-js\";RLCONF={\"wgBreakFrames\":false,\"wgSeparatorTransformTable\":[\",\\t.\",\".\\t,\"],\"wgDigitTransformTable\":[\"\",\"\"],\"wgDefaultDateFormat\":\"dmy\",\"wgMonthNames\":[\"\",\"januar\",\"februar\",\"marts\",\"april\",\"maj\",\"juni\",\"juli\",\"august\",\"september\",\"oktober\",\"november\",\"december\"],\"wgRequestId\":\"f71eb753-5ac1-4bd1-935b-2e31c554cced\",\"wgCSPNonce\":false,\"wgCanonicalNamespace\":\"\",\"wgCanonicalSpecialPageName\":false,\"wgNamespaceNumber\":0,\"wgPageName\":\"Kvelertak\",\"wgTitle\":\"Kvelertak\",\"wgCurRevisionId\":10959817,\"wgRevisionId\":10959817,\"wgArticleId\":654757,\"wgIsArticle\":true,\"wgIsRedirect\":false,\"wgAction\":\"view\",\"wgUserName\":null,\"wgUserGroups\":[\"*\"],\"wgCategories\":[\"Sider med Webarchive-skabelon som henviser til Wayback Machine\",\"Lokalt billede forskelligt fra Wikidata\",\"Infoboks uden udfyldt wikidata eller ingen wikidata parametre\",\"Commons-kategori på Wikidata er ens med sidetitel\",\"Artikler med musikhenvisninger fra Wikidata\",\n",
       "\"Wikipedia artikler med VIAF autoritetsdata-ID\",\"Wikipedia artikler med LCCN autoritetsdata-ID\",\"Wikipedia artikler med ISNI autoritetsdata-ID\",\"Wikipedia artikler med GND autoritetsdata-ID\",\"Wikipedia artikler med BNF autoritetsdata-ID\",\"Wikipedia artikler med BIBSYS autoritetsdata-ID\",\"Wikipedia artikler med MusicBrainz autoritetsdata-ID\",\"Metalgrupper fra Norge\",\"Musikgrupper fra 2007\"],\"wgPageContentLanguage\":\"da\",\"wgPageContentModel\":\"wikitext\",\"wgRelevantPageName\":\"Kvelertak\",\"wgRelevantArticleId\":654757,\"wgIsProbablyEditable\":true,\"wgRelevantPageIsProbablyEditable\":true,\"wgRestrictionEdit\":[],\"wgRestrictionMove\":[],\"wgVisualEditor\":{\"pageLanguageCode\":\"da\",\"pageLanguageDir\":\"ltr\",\"pageVariantFallbacks\":\"da\"},\"wgMFDisplayWikibaseDescriptions\":{\"search\":true,\"nearby\":true,\"watchlist\":true,\"tagline\":true},\"wgWMESchemaEditAttemptStepOversample\":false,\"wgWMEPageLength\":6000,\"wgNoticeProject\":\"wikipedia\",\"wgMediaViewerOnClick\":true,\"wgMediaViewerEnabledByDefault\":true,\"wgPopupsFlags\":\n",
       "10,\"wgULSCurrentAutonym\":\"dansk\",\"wgEditSubmitButtonLabelPublish\":true,\"wgCentralAuthMobileDomain\":false,\"wgULSPosition\":\"interlanguage\",\"wgULSisCompactLinksEnabled\":true,\"wgWikibaseItemId\":\"Q1794838\",\"wgGENewcomerTasksGuidanceEnabled\":true,\"wgGEAskQuestionEnabled\":true,\"wgGELinkRecommendationsFrontendEnabled\":false};RLSTATE={\"ext.globalCssJs.user.styles\":\"ready\",\"site.styles\":\"ready\",\"user.styles\":\"ready\",\"ext.globalCssJs.user\":\"ready\",\"user\":\"ready\",\"user.options\":\"loading\",\"ext.cite.styles\":\"ready\",\"skins.vector.styles.legacy\":\"ready\",\"ext.visualEditor.desktopArticleTarget.noscript\":\"ready\",\"ext.wikimediaBadges\":\"ready\",\"ext.uls.interlanguage\":\"ready\",\"wikibase.client.init\":\"ready\"};RLPAGEMODULES=[\"ext.cite.ux-enhancements\",\"site\",\"mediawiki.page.ready\",\"mediawiki.toc\",\"skins.vector.legacy.js\",\"ext.gadget.NewSection\",\"ext.gadget.ReferenceTooltips\",\"mmv.head\",\"mmv.bootstrap.autostart\",\"ext.visualEditor.desktopArticleTarget.init\",\"ext.visualEditor.targetLoader\",\"ext.eventLogging\",\n",
       "\"ext.wikimediaEvents\",\"ext.navigationTiming\",\"ext.cx.eventlogging.campaigns\",\"ext.centralNotice.geoIP\",\"ext.centralNotice.startUp\",\"ext.centralauth.centralautologin\",\"ext.popups\",\"ext.uls.compactlinks\",\"ext.uls.interface\",\"ext.growthExperiments.SuggestedEditSession\"];</script>\n",
       "<script>(RLQ=window.RLQ||[]).push(function(){mw.loader.implement(\"user.options@1i9g4\",function($,jQuery,require,module){mw.user.tokens.set({\"patrolToken\":\"+\\\\\",\"watchToken\":\"+\\\\\",\"csrfToken\":\"+\\\\\"});});});</script>\n",
       "<link href=\"/w/load.php?lang=da&amp;modules=ext.cite.styles%7Cext.uls.interlanguage%7Cext.visualEditor.desktopArticleTarget.noscript%7Cext.wikimediaBadges%7Cskins.vector.styles.legacy%7Cwikibase.client.init&amp;only=styles&amp;skin=vector\" rel=\"stylesheet\"/>\n",
       "<script async=\"\" src=\"/w/load.php?lang=da&amp;modules=startup&amp;only=scripts&amp;raw=1&amp;skin=vector\"></script>\n",
       "<meta content=\"\" name=\"ResourceLoaderDynamicStyles\"/>\n",
       "<link href=\"/w/load.php?lang=da&amp;modules=site.styles&amp;only=styles&amp;skin=vector\" rel=\"stylesheet\"/>\n",
       "<meta content=\"MediaWiki 1.38.0-wmf.24\" name=\"generator\"/>\n",
       "<meta content=\"origin\" name=\"referrer\"/>\n",
       "<meta content=\"origin-when-crossorigin\" name=\"referrer\"/>\n",
       "<meta content=\"origin-when-cross-origin\" name=\"referrer\"/>\n",
       "<meta content=\"telephone=no\" name=\"format-detection\"/>\n",
       "<meta content=\"https://upload.wikimedia.org/wikipedia/commons/thumb/e/eb/KvelertakCopenhell2011.jpg/1200px-KvelertakCopenhell2011.jpg\" property=\"og:image\"/>\n",
       "<meta content=\"1200\" property=\"og:image:width\"/>\n",
       "<meta content=\"513\" property=\"og:image:height\"/>\n",
       "<meta content=\"https://upload.wikimedia.org/wikipedia/commons/thumb/e/eb/KvelertakCopenhell2011.jpg/800px-KvelertakCopenhell2011.jpg\" property=\"og:image\"/>\n",
       "<meta content=\"800\" property=\"og:image:width\"/>\n",
       "<meta content=\"342\" property=\"og:image:height\"/>\n",
       "<meta content=\"https://upload.wikimedia.org/wikipedia/commons/thumb/e/eb/KvelertakCopenhell2011.jpg/640px-KvelertakCopenhell2011.jpg\" property=\"og:image\"/>\n",
       "<meta content=\"640\" property=\"og:image:width\"/>\n",
       "<meta content=\"274\" property=\"og:image:height\"/>\n",
       "<meta content=\"Kvelertak - Wikipedia, den frie encyklopædi\" property=\"og:title\"/>\n",
       "<meta content=\"website\" property=\"og:type\"/>\n",
       "<link href=\"//upload.wikimedia.org\" rel=\"preconnect\"/>\n",
       "<link href=\"//da.m.wikipedia.org/wiki/Kvelertak\" media=\"only screen and (max-width: 720px)\" rel=\"alternate\"/>\n",
       "<link href=\"/w/index.php?title=Kvelertak&amp;action=edit\" rel=\"alternate\" title=\"Redigér\" type=\"application/x-wiki\"/>\n",
       "<link href=\"/static/apple-touch/wikipedia.png\" rel=\"apple-touch-icon\"/>\n",
       "<link href=\"/static/favicon/wikipedia.ico\" rel=\"shortcut icon\"/>\n",
       "<link href=\"/w/opensearch_desc.php\" rel=\"search\" title=\"Wikipedia (da)\" type=\"application/opensearchdescription+xml\"/>\n",
       "<link href=\"//da.wikipedia.org/w/api.php?action=rsd\" rel=\"EditURI\" type=\"application/rsd+xml\"/>\n",
       "<link href=\"https://creativecommons.org/licenses/by-sa/3.0/\" rel=\"license\"/>\n",
       "<link href=\"https://da.wikipedia.org/wiki/Kvelertak\" rel=\"canonical\"/>\n",
       "<link href=\"//meta.wikimedia.org\" rel=\"dns-prefetch\"/>\n",
       "<link href=\"//login.wikimedia.org\" rel=\"dns-prefetch\"/>\n",
       "</head>\n",
       "<body class=\"mediawiki ltr sitedir-ltr mw-hide-empty-elt ns-0 ns-subject mw-editable page-Kvelertak rootpage-Kvelertak skin-vector action-view skin-vector-legacy\"><div class=\"noprint\" id=\"mw-page-base\"></div>\n",
       "<div class=\"noprint\" id=\"mw-head-base\"></div>\n",
       "<div class=\"mw-body\" id=\"content\" role=\"main\">\n",
       "<a id=\"top\"></a>\n",
       "<div id=\"siteNotice\"><!-- CentralNotice --></div>\n",
       "<div class=\"mw-indicators\">\n",
       "</div>\n",
       "<h1 class=\"firstHeading mw-first-heading\" id=\"firstHeading\">Kvelertak</h1>\n",
       "<div class=\"vector-body\" id=\"bodyContent\">\n",
       "<div class=\"noprint\" id=\"siteSub\">Fra Wikipedia, den frie encyklopædi</div>\n",
       "<div id=\"contentSub\"></div>\n",
       "<div id=\"contentSub2\"></div>\n",
       "<div id=\"jump-to-nav\"></div>\n",
       "<a class=\"mw-jump-link\" href=\"#mw-head\">Spring til navigation</a>\n",
       "<a class=\"mw-jump-link\" href=\"#searchInput\">Spring til søgning</a>\n",
       "<div class=\"mw-body-content mw-content-ltr\" dir=\"ltr\" id=\"mw-content-text\" lang=\"da\"><div class=\"mw-parser-output\"><table class=\"infobox vcard plainlist\" style=\"width:22em\"><tbody><tr><th class=\"gruppe_eller_band\" colspan=\"2\" style=\"text-align:center;font-size:125%;font-weight:bold;background-color: #b0c4de\">Kvelertak</th></tr><tr><td colspan=\"2\" style=\"text-align:center\">\n",
       "<a class=\"image\" href=\"/wiki/Fil:KvelertakCopenhell2011.jpg\"><img alt=\"KvelertakCopenhell2011.jpg\" data-file-height=\"1392\" data-file-width=\"3255\" decoding=\"async\" height=\"107\" src=\"//upload.wikimedia.org/wikipedia/commons/thumb/e/eb/KvelertakCopenhell2011.jpg/250px-KvelertakCopenhell2011.jpg\" srcset=\"//upload.wikimedia.org/wikipedia/commons/thumb/e/eb/KvelertakCopenhell2011.jpg/375px-KvelertakCopenhell2011.jpg 1.5x, //upload.wikimedia.org/wikipedia/commons/thumb/e/eb/KvelertakCopenhell2011.jpg/500px-KvelertakCopenhell2011.jpg 2x\" width=\"250\"/></a><div>Kvelertak til <a href=\"/wiki/Copenhell\" title=\"Copenhell\">Copenhell</a>, 2011</div></td></tr><tr><th colspan=\"2\" style=\"text-align:center;background-color: #b0c4de\">Information</th></tr><tr><th scope=\"row\" style=\"text-align:left;vertical-align:top; padding-right:0.6em;\">Oprindelse</th><td style=\"vertical-align:top;\">\n",
       "<span class=\"flagicon\"><a href=\"/wiki/Norge\" title=\"Norge\"><img alt=\"Norge\" class=\"thumbborder\" data-file-height=\"372\" data-file-width=\"512\" decoding=\"async\" height=\"16\" src=\"//upload.wikimedia.org/wikipedia/commons/thumb/d/d9/Flag_of_Norway.svg/22px-Flag_of_Norway.svg.png\" srcset=\"//upload.wikimedia.org/wikipedia/commons/thumb/d/d9/Flag_of_Norway.svg/33px-Flag_of_Norway.svg.png 1.5x, //upload.wikimedia.org/wikipedia/commons/thumb/d/d9/Flag_of_Norway.svg/44px-Flag_of_Norway.svg.png 2x\" width=\"22\"/></a></span> <a href=\"/wiki/Stavanger\" title=\"Stavanger\">Stavanger</a>, <a href=\"/wiki/Norge\" title=\"Norge\">Norge</a></td></tr><tr><th scope=\"row\" style=\"text-align:left;vertical-align:top; padding-right:0.6em;\"><a href=\"/wiki/Musikgenre\" title=\"Musikgenre\">Genre</a></th><td style=\"vertical-align:top;\">\n",
       "<a href=\"/wiki/Hardcore_punk\" title=\"Hardcore punk\">Hardcore punk</a> <br/> <a href=\"/wiki/Black_metal\" title=\"Black metal\">Sortmetal</a> <br/> <a href=\"/wiki/Rock_and_roll\" title=\"Rock and roll\">Rock and roll</a></td></tr><tr><th scope=\"row\" style=\"text-align:left;vertical-align:top; padding-right:0.6em;\">Aktive år</th><td style=\"vertical-align:top;\">\n",
       "2007 –</td></tr><tr><th scope=\"row\" style=\"text-align:left;vertical-align:top; padding-right:0.6em;\"><a href=\"/wiki/Pladeselskab\" title=\"Pladeselskab\">Pladeselskab</a></th><td style=\"vertical-align:top;\">\n",
       "<a class=\"new\" href=\"/w/index.php?title=Indie_Recordings&amp;action=edit&amp;redlink=1\" title=\"Indie Recordings (ikke skrevet endnu)\">Indie Recordings</a></td></tr><tr><th scope=\"row\" style=\"text-align:left;vertical-align:top; padding-right:0.6em;\">Medlemmer</th><td style=\"vertical-align:top;\">\n",
       "Erlend Hjelvik<br/>Bjarte Lund Rolland<br/>Maciek Ofstad<br/>Vidar Landa<br/>Kjetil Gjermundrød<br/>Marvin Nygaard</td></tr></tbody></table>\n",
       "<p><b>Kvelertak</b> (på dansk <i>Kvælertag</i>) er et <a href=\"/wiki/Norge\" title=\"Norge\">norsk</a> musikgruppe fra <a href=\"/wiki/Stavanger\" title=\"Stavanger\">Stavanger</a>, hvis musik kombinerer <a href=\"/wiki/Hardcore_punk\" title=\"Hardcore punk\">hardcore punk</a>, <a href=\"/wiki/Black_metal\" title=\"Black metal\">sortmetal</a> og <a href=\"/wiki/Rock_and_roll\" title=\"Rock and roll\">rock and roll</a>. Gruppen, der blev grundlagt i 2007 og først nåede ud til et bredere publikum gennem det norske radioprogram <a class=\"new\" href=\"/w/index.php?title=NRK_Ur%C3%B8rt&amp;action=edit&amp;redlink=1\" title=\"NRK Urørt (ikke skrevet endnu)\">NRK Urørt</a>, har selv brugt genrebetegnelsen \"necro 'n' roll\" om deres musik.\n",
       "</p><p>Gruppens tekster er skrevet på <a href=\"/wiki/Norsk_(sprog)\" title=\"Norsk (sprog)\">norsk</a> og omhandler blandt andet <a href=\"/wiki/Nordisk_mytologi\" title=\"Nordisk mytologi\">nordisk mytologi</a>. De har været nævnt i de engelsksprogede rockmagasiner <i><a href=\"/wiki/Metal_Hammer\" title=\"Metal Hammer\">Metal Hammer</a></i>, <i><a class=\"mw-redirect\" href=\"/wiki/Kerrang\" title=\"Kerrang\">Kerrang</a></i> og <i><a class=\"new\" href=\"/w/index.php?title=Rock_Sound&amp;action=edit&amp;redlink=1\" title=\"Rock Sound (ikke skrevet endnu)\">Rock Sound</a></i>, og deres musik har været brugt i filmen <i><a href=\"/wiki/Troldj%C3%A6geren\" title=\"Troldjægeren\">Troldjægeren</a></i>.\n",
       "</p>\n",
       "<div aria-labelledby=\"mw-toc-heading\" class=\"toc\" id=\"toc\" role=\"navigation\"><input class=\"toctogglecheckbox\" id=\"toctogglecheckbox\" role=\"button\" style=\"display:none\" type=\"checkbox\"/><div class=\"toctitle\" dir=\"ltr\" lang=\"da\"><h2 id=\"mw-toc-heading\">Indholdsfortegnelse</h2><span class=\"toctogglespan\"><label class=\"toctogglelabel\" for=\"toctogglecheckbox\"></label></span></div>\n",
       "<ul>\n",
       "<li class=\"toclevel-1 tocsection-1\"><a href=\"#Biografi\"><span class=\"tocnumber\">1</span> <span class=\"toctext\">Biografi</span></a></li>\n",
       "<li class=\"toclevel-1 tocsection-2\"><a href=\"#Medlemmer\"><span class=\"tocnumber\">2</span> <span class=\"toctext\">Medlemmer</span></a></li>\n",
       "<li class=\"toclevel-1 tocsection-3\"><a href=\"#Diskografi\"><span class=\"tocnumber\">3</span> <span class=\"toctext\">Diskografi</span></a>\n",
       "<ul>\n",
       "<li class=\"toclevel-2 tocsection-4\"><a href=\"#Studieudgivelser\"><span class=\"tocnumber\">3.1</span> <span class=\"toctext\">Studieudgivelser</span></a></li>\n",
       "<li class=\"toclevel-2 tocsection-5\"><a href=\"#Demoer\"><span class=\"tocnumber\">3.2</span> <span class=\"toctext\">Demoer</span></a></li>\n",
       "</ul>\n",
       "</li>\n",
       "<li class=\"toclevel-1 tocsection-6\"><a href=\"#Referencer\"><span class=\"tocnumber\">4</span> <span class=\"toctext\">Referencer</span></a></li>\n",
       "<li class=\"toclevel-1 tocsection-7\"><a href=\"#Eksterne_henvisninger\"><span class=\"tocnumber\">5</span> <span class=\"toctext\">Eksterne henvisninger</span></a></li>\n",
       "</ul>\n",
       "</div>\n",
       "<h2><span class=\"mw-headline\" id=\"Biografi\">Biografi</span><span class=\"mw-editsection\"><span class=\"mw-editsection-bracket\">[</span><a class=\"mw-editsection-visualeditor\" href=\"/w/index.php?title=Kvelertak&amp;veaction=edit&amp;section=1\" title=\"Redigér afsnit: Biografi\">redigér</a><span class=\"mw-editsection-divider\"> | </span><a href=\"/w/index.php?title=Kvelertak&amp;action=edit&amp;section=1\" title=\"Redigér afsnit: Biografi\">rediger kildetekst</a><span class=\"mw-editsection-bracket\">]</span></span></h2>\n",
       "<p>Kvelertak fik sit første gennembrud i 2009, hvor de optrådte på Trondheim-festivalen <a class=\"new\" href=\"/w/index.php?title=By:Larm&amp;action=edit&amp;redlink=1\" title=\"By:Larm (ikke skrevet endnu)\">by:Larm</a> og derigennem sikrede sig muligheden for at spille på <a href=\"/wiki/Roskilde_Festival\" title=\"Roskilde Festival\">Roskilde Festival</a> samme år; har gav de en koncert, der blev set af omkring 3.000 mennesker.<sup class=\"reference\" id=\"cite_ref-bio_1-0\"><a href=\"#cite_note-bio-1\">[1]</a></sup> Senere i år 2009 blev gruppen booket til <a class=\"new\" href=\"/w/index.php?title=%C3%98yafestivalen&amp;action=edit&amp;redlink=1\" title=\"Øyafestivalen (ikke skrevet endnu)\">Øyafestivalen</a>, samtidig med at den blev den årlige <i>Urørt</i>-konkurrence på <a href=\"/wiki/NRK_P3\" title=\"NRK P3\">NRK P3</a>. Mod slutningen af året skrev Kvelertak kontrakt med det norske uafhængige pladeselskab <a class=\"new\" href=\"/w/index.php?title=Indie_Recordings&amp;action=edit&amp;redlink=1\" title=\"Indie Recordings (ikke skrevet endnu)\">Indie Recordings</a>, og i maj 2010 udgav gruppen singlen \"<a class=\"new\" href=\"/w/index.php?title=Mj%C3%B8d_(album)&amp;action=edit&amp;redlink=1\" title=\"Mjød (album) (ikke skrevet endnu)\">Mjød</a>\" til download, sammen med en musikvideo. Singlen blev siden hen kåret til \"Single Of The Week\" på BBC Radio One to uger i træk.<sup class=\"reference\" id=\"cite_ref-2\"><a href=\"#cite_note-2\">[2]</a></sup>\n",
       "</p><p>To måneder senere, <a href=\"/wiki/21._juni\" title=\"21. juni\">21. juni</a> <a href=\"/wiki/2010\" title=\"2010\">2010</a>, udgav gruppen sit selvtitulerede debutalbum <i><a class=\"new\" href=\"/w/index.php?title=Kvelertak_(album)&amp;action=edit&amp;redlink=1\" title=\"Kvelertak (album) (ikke skrevet endnu)\">Kvelertak</a></i>, der blev mødt med positive anmeldelser i Norge.<sup class=\"reference\" id=\"cite_ref-3\"><a href=\"#cite_note-3\">[3]</a></sup>. Albummet har siden modtaget et guldcertifikat efter at have solgt mere end 15.000 eksemplarer.<sup class=\"reference\" id=\"cite_ref-blab-gold_4-0\"><a href=\"#cite_note-blab-gold-4\">[4]</a></sup>\n",
       "</p><p>Den <a href=\"/wiki/19._februar\" title=\"19. februar\">19. februar</a> <a href=\"/wiki/2011\" title=\"2011\">2011</a> modtog Kvelertak <a class=\"new\" href=\"/w/index.php?title=Statoil-stipendet&amp;action=edit&amp;redlink=1\" title=\"Statoil-stipendet (ikke skrevet endnu)\">Statoil-stipendet</a> på 1 million norske kroner under <a class=\"new\" href=\"/w/index.php?title=By:Larm&amp;action=edit&amp;redlink=1\" title=\"By:Larm (ikke skrevet endnu)\">by:Larm</a>. Legatet har til formål at give norske kunstnere større mulighed for at markedsføre sig internationalt.<sup class=\"reference\" id=\"cite_ref-5\"><a href=\"#cite_note-5\">[5]</a></sup> Gruppen har således siden udgivelsen af debutalbummet været på adskillige turnéer, og spillede blandt andet på <a href=\"/wiki/Copenhell\" title=\"Copenhell\">Copenhell</a> i <a href=\"/wiki/K%C3%B8benhavn\" title=\"København\">København</a> og givet koncerter i <a class=\"mw-redirect\" href=\"/wiki/%C3%85rhus\" title=\"Århus\">Århus</a> og København i december 2011. Foruden stipendiet vandt Kvelertak også to <a href=\"/wiki/Spellemannprisen\" title=\"Spellemannprisen\">Spellemannpriser</a> for pladen, i kategorierne \"Rock\" og \"Årets nye navn\".<sup class=\"reference\" id=\"cite_ref-6\"><a href=\"#cite_note-6\">[6]</a></sup>\n",
       "</p><p>Gruppens andet album, <i><a class=\"new\" href=\"/w/index.php?title=Meir_(album)&amp;action=edit&amp;redlink=1\" title=\"Meir (album) (ikke skrevet endnu)\">Meir</a></i>, blev udgivet i marts 2013<sup class=\"reference\" id=\"cite_ref-metalhammer_7-0\"><a href=\"#cite_note-metalhammer-7\">[7]</a></sup> og albummets første single, \"Bruane Brenn\", blev udgivet i Skandinavien 21. januar, 2013.\n",
       "</p><p>Den 16. Juli 2018 valgte Forsanger Erlend Hjelvik at meddele sin afgang fra bandet, dette blev offentliggjort i en officiel udmeldelse på facebook <sup class=\"reference\" id=\"cite_ref-8\"><a href=\"#cite_note-8\">[8]</a></sup>\n",
       "</p>\n",
       "<h2><span class=\"mw-headline\" id=\"Medlemmer\">Medlemmer</span><span class=\"mw-editsection\"><span class=\"mw-editsection-bracket\">[</span><a class=\"mw-editsection-visualeditor\" href=\"/w/index.php?title=Kvelertak&amp;veaction=edit&amp;section=2\" title=\"Redigér afsnit: Medlemmer\">redigér</a><span class=\"mw-editsection-divider\"> | </span><a href=\"/w/index.php?title=Kvelertak&amp;action=edit&amp;section=2\" title=\"Redigér afsnit: Medlemmer\">rediger kildetekst</a><span class=\"mw-editsection-bracket\">]</span></span></h2>\n",
       "<ul><li>Ivar Nikolaisen <a href=\"/wiki/Vokalist\" title=\"Vokalist\">Vokal</a> (2018- <sup class=\"reference\" id=\"cite_ref-9\"><a href=\"#cite_note-9\">[9]</a></sup></li>\n",
       "<li>Erlend Hjelvik – vokal (til 2018)</li>\n",
       "<li>Bjarte Lund Rolland – <a href=\"/wiki/Guitar\" title=\"Guitar\">Guitar</a></li>\n",
       "<li>Maciek Ofstad – <a href=\"/wiki/Guitar\" title=\"Guitar\">Guitar</a>/Vokal</li>\n",
       "<li>Vidar Landa – <a href=\"/wiki/Guitar\" title=\"Guitar\">Guitar</a></li>\n",
       "<li>Kjetil Gjermundrød – <a class=\"mw-redirect\" href=\"/wiki/Trommer\" title=\"Trommer\">Trommer</a></li>\n",
       "<li>Marvin Nygaard – <a class=\"mw-redirect\" href=\"/wiki/Basguitar\" title=\"Basguitar\">Bas</a></li></ul>\n",
       "<h2><span class=\"mw-headline\" id=\"Diskografi\">Diskografi</span><span class=\"mw-editsection\"><span class=\"mw-editsection-bracket\">[</span><a class=\"mw-editsection-visualeditor\" href=\"/w/index.php?title=Kvelertak&amp;veaction=edit&amp;section=3\" title=\"Redigér afsnit: Diskografi\">redigér</a><span class=\"mw-editsection-divider\"> | </span><a href=\"/w/index.php?title=Kvelertak&amp;action=edit&amp;section=3\" title=\"Redigér afsnit: Diskografi\">rediger kildetekst</a><span class=\"mw-editsection-bracket\">]</span></span></h2>\n",
       "<h3><span class=\"mw-headline\" id=\"Studieudgivelser\">Studieudgivelser</span><span class=\"mw-editsection\"><span class=\"mw-editsection-bracket\">[</span><a class=\"mw-editsection-visualeditor\" href=\"/w/index.php?title=Kvelertak&amp;veaction=edit&amp;section=4\" title=\"Redigér afsnit: Studieudgivelser\">redigér</a><span class=\"mw-editsection-divider\"> | </span><a href=\"/w/index.php?title=Kvelertak&amp;action=edit&amp;section=4\" title=\"Redigér afsnit: Studieudgivelser\">rediger kildetekst</a><span class=\"mw-editsection-bracket\">]</span></span></h3>\n",
       "<ul><li><i><a class=\"new\" href=\"/w/index.php?title=Kvelertak_(album)&amp;action=edit&amp;redlink=1\" title=\"Kvelertak (album) (ikke skrevet endnu)\">Kvelertak</a></i> (<a href=\"/wiki/2010\" title=\"2010\">2010</a>)</li>\n",
       "<li><i><a class=\"new\" href=\"/w/index.php?title=Meir&amp;action=edit&amp;redlink=1\" title=\"Meir (ikke skrevet endnu)\">Meir</a></i> (<a href=\"/wiki/2013\" title=\"2013\">2013</a>)</li>\n",
       "<li><i><a class=\"new\" href=\"/w/index.php?title=Nattesferd&amp;action=edit&amp;redlink=1\" title=\"Nattesferd (ikke skrevet endnu)\">Nattesferd</a></i> (<a href=\"/wiki/2016\" title=\"2016\">2016</a>)</li></ul>\n",
       "<h3><span class=\"mw-headline\" id=\"Demoer\">Demoer</span><span class=\"mw-editsection\"><span class=\"mw-editsection-bracket\">[</span><a class=\"mw-editsection-visualeditor\" href=\"/w/index.php?title=Kvelertak&amp;veaction=edit&amp;section=5\" title=\"Redigér afsnit: Demoer\">redigér</a><span class=\"mw-editsection-divider\"> | </span><a href=\"/w/index.php?title=Kvelertak&amp;action=edit&amp;section=5\" title=\"Redigér afsnit: Demoer\">rediger kildetekst</a><span class=\"mw-editsection-bracket\">]</span></span></h3>\n",
       "<ul><li>\"Westcoast Holocaust\" (<a href=\"/wiki/2007\" title=\"2007\">2007</a>)</li></ul>\n",
       "<h2><span class=\"mw-headline\" id=\"Referencer\">Referencer</span><span class=\"mw-editsection\"><span class=\"mw-editsection-bracket\">[</span><a class=\"mw-editsection-visualeditor\" href=\"/w/index.php?title=Kvelertak&amp;veaction=edit&amp;section=6\" title=\"Redigér afsnit: Referencer\">redigér</a><span class=\"mw-editsection-divider\"> | </span><a href=\"/w/index.php?title=Kvelertak&amp;action=edit&amp;section=6\" title=\"Redigér afsnit: Referencer\">rediger kildetekst</a><span class=\"mw-editsection-bracket\">]</span></span></h2>\n",
       "<ol class=\"references\">\n",
       "<li id=\"cite_note-bio-1\"><span class=\"mw-cite-backlink\"><a href=\"#cite_ref-bio_1-0\">^</a></span> <span class=\"reference-text\"><a class=\"external text\" href=\"http://blogs.myspace.com/index.cfm?fuseaction=blog.view&amp;friendId=154748419&amp;blogId=536099242\" rel=\"nofollow\">Kvelertak på MySpace: «Official Biography»</a> <a class=\"external text\" href=\"https://web.archive.org/web/20090207065936/http://blogs.myspace.com/index.cfm?fuseaction=blog.view\" rel=\"nofollow\">Arkiveret</a> 7. februar 2009 hos  <a href=\"/wiki/Wayback_Machine\" title=\"Wayback Machine\">Wayback Machine</a>, publiceret 20. juni, 2010</span>\n",
       "</li>\n",
       "<li id=\"cite_note-2\"><span class=\"mw-cite-backlink\"><a href=\"#cite_ref-2\">^</a></span> <span class=\"reference-text\"><a class=\"external text\" href=\"http://www.vg.no/musikk/artikkel.php?artid=10008607\" rel=\"nofollow\">VG Nett: «Kvelertak på BBC»</a>, publiceret 11. juni, 2010</span>\n",
       "</li>\n",
       "<li id=\"cite_note-3\"><span class=\"mw-cite-backlink\"><a href=\"#cite_ref-3\">^</a></span> <span class=\"reference-text\"><a class=\"external text\" href=\"http://www.h-avis.no/puls/stralende-kritikker-for-debutalbum-1.5401599\" rel=\"nofollow\">«Strålende kritikker for debutalbum»</a>, publiceret 22. juni, 2010</span>\n",
       "</li>\n",
       "<li id=\"cite_note-blab-gold-4\"><span class=\"mw-cite-backlink\"><a href=\"#cite_ref-blab-gold_4-0\">^</a></span> <span class=\"reference-text\"><style data-mw-deduplicate=\"TemplateStyles:r11046047\">.mw-parser-output cite.citation{font-style:inherit;word-wrap:break-word}.mw-parser-output .citation q{quotes:\"\\\"\"\"\\\"\"\"'\"\"'\"}.mw-parser-output .citation:target{background-color:rgba(0,127,255,0.133)}.mw-parser-output .id-lock-free a,.mw-parser-output .citation .cs1-lock-free a{background:linear-gradient(transparent,transparent),url(\"//upload.wikimedia.org/wikipedia/commons/6/65/Lock-green.svg\")right 0.1em center/9px no-repeat}.mw-parser-output .id-lock-limited a,.mw-parser-output .id-lock-registration a,.mw-parser-output .citation .cs1-lock-limited a,.mw-parser-output .citation .cs1-lock-registration a{background:linear-gradient(transparent,transparent),url(\"//upload.wikimedia.org/wikipedia/commons/d/d6/Lock-gray-alt-2.svg\")right 0.1em center/9px no-repeat}.mw-parser-output .id-lock-subscription a,.mw-parser-output .citation .cs1-lock-subscription a{background:linear-gradient(transparent,transparent),url(\"//upload.wikimedia.org/wikipedia/commons/a/aa/Lock-red-alt-2.svg\")right 0.1em center/9px no-repeat}.mw-parser-output .cs1-ws-icon a{background:linear-gradient(transparent,transparent),url(\"//upload.wikimedia.org/wikipedia/commons/4/4c/Wikisource-logo.svg\")right 0.1em center/12px no-repeat}.mw-parser-output .cs1-code{color:inherit;background:inherit;border:none;padding:inherit}.mw-parser-output .cs1-hidden-error{display:none;color:#d33}.mw-parser-output .cs1-visible-error{color:#d33}.mw-parser-output .cs1-maint{display:none;color:#3a3;margin-left:0.3em}.mw-parser-output .cs1-format{font-size:95%}.mw-parser-output .cs1-kern-left{padding-left:0.2em}.mw-parser-output .cs1-kern-right{padding-right:0.2em}.mw-parser-output .citation .mw-selflink{font-weight:inherit}</style><cite class=\"citation web cs1\"><a class=\"external text\" href=\"https://www.webcitation.org/6FkpfEftX?url=http://www.blabbermouth.net/news.aspx?mode=Article\" rel=\"nofollow\">\"Kvelertak Receives Gold-Album Plaque From Dave Grohl\"</a>. <i><a href=\"/wiki/Blabbermouth.net\" title=\"Blabbermouth.net\">Blabbermouth.net</a></i>. <a href=\"/wiki/Roadrunner_Records\" title=\"Roadrunner Records\">Roadrunner</a>. 1. juli 2011. Arkiveret fra <a class=\"external text\" href=\"http://www.roadrunnerrecords.com/blabbermouth.net/news.aspx?mode=Article&amp;newsitemID=160165\" rel=\"nofollow\">originalen</a> 9. april 2013<span class=\"reference-accessdate\">. Hentet 1. juli 2011</span>.</cite><span class=\"Z3988\" title=\"ctx_ver=Z39.88-2004&amp;rft_val_fmt=info%3Aofi%2Ffmt%3Akev%3Amtx%3Ajournal&amp;rft.genre=unknown&amp;rft.jtitle=Blabbermouth.net&amp;rft.atitle=Kvelertak+Receives+Gold-Album+Plaque+From+Dave+Grohl&amp;rft.date=2011-07-01&amp;rft_id=http%3A%2F%2Fwww.roadrunnerrecords.com%2Fblabbermouth.net%2Fnews.aspx%3Fmode%3DArticle%26newsitemID%3D160165&amp;rfr_id=info%3Asid%2Fda.wikipedia.org%3AKvelertak\"></span></span>\n",
       "</li>\n",
       "<li id=\"cite_note-5\"><span class=\"mw-cite-backlink\"><a href=\"#cite_ref-5\">^</a></span> <span class=\"reference-text\"><a class=\"external text\" href=\"http://www.vg.no/musikk/artikkel.php?artid=10014293\" rel=\"nofollow\">VG Nett: «Kvelertak vant én million kroner»</a>, publiceret 19.februar, 2011</span>\n",
       "</li>\n",
       "<li id=\"cite_note-6\"><span class=\"mw-cite-backlink\"><a href=\"#cite_ref-6\">^</a></span> <span class=\"reference-text\"><link href=\"mw-data:TemplateStyles:r11046047\" rel=\"mw-deduplicated-inline-style\"/><cite class=\"citation web cs1\"><a class=\"external text\" href=\"https://www.webcitation.org/6FkpgkQxr?url=http://www.blabbermouth.net/news.aspx?mode=Article\" rel=\"nofollow\">\"Kvelertak Wins Two Spellemann Awards\"</a>. <i><a href=\"/wiki/Blabbermouth.net\" title=\"Blabbermouth.net\">Blabbermouth.net</a></i>. <a href=\"/wiki/Roadrunner_Records\" title=\"Roadrunner Records\">Roadrunner Records</a>. 6. marts 2011. Arkiveret fra <a class=\"external text\" href=\"http://www.roadrunnerrecords.com/blabbermouth.net/news.aspx?mode=Article&amp;newsitemID=154941\" rel=\"nofollow\">originalen</a> 9. april 2013<span class=\"reference-accessdate\">. Hentet 6. marts 2011</span>.</cite><span class=\"Z3988\" title=\"ctx_ver=Z39.88-2004&amp;rft_val_fmt=info%3Aofi%2Ffmt%3Akev%3Amtx%3Ajournal&amp;rft.genre=unknown&amp;rft.jtitle=Blabbermouth.net&amp;rft.atitle=Kvelertak+Wins+Two+Spellemann+Awards&amp;rft.date=2011-03-06&amp;rft_id=http%3A%2F%2Fwww.roadrunnerrecords.com%2Fblabbermouth.net%2Fnews.aspx%3Fmode%3DArticle%26newsitemID%3D154941&amp;rfr_id=info%3Asid%2Fda.wikipedia.org%3AKvelertak\"></span></span>\n",
       "</li>\n",
       "<li id=\"cite_note-metalhammer-7\"><span class=\"mw-cite-backlink\"><a href=\"#cite_ref-metalhammer_7-0\">^</a></span> <span class=\"reference-text\"><link href=\"mw-data:TemplateStyles:r11046047\" rel=\"mw-deduplicated-inline-style\"/><cite class=\"citation web cs1\"><a class=\"external text\" href=\"http://www.metalhammer.co.uk/news/kvelertak-announce-uk-tour/\" rel=\"nofollow\">\"<span class=\"cs1-kern-left\"></span>\"Kvelertak announce UK tour\"</a>. <a href=\"/wiki/Metal_Hammer\" title=\"Metal Hammer\">Metal Hammer</a>. 19. december 2012<span class=\"reference-accessdate\">. Hentet 19. december 2012</span>.</cite><span class=\"Z3988\" title=\"ctx_ver=Z39.88-2004&amp;rft_val_fmt=info%3Aofi%2Ffmt%3Akev%3Amtx%3Abook&amp;rft.genre=unknown&amp;rft.btitle=%22Kvelertak+announce+UK+tour&amp;rft.pub=Metal+Hammer&amp;rft.date=2012-12-19&amp;rft_id=http%3A%2F%2Fwww.metalhammer.co.uk%2Fnews%2Fkvelertak-announce-uk-tour%2F&amp;rfr_id=info%3Asid%2Fda.wikipedia.org%3AKvelertak\"></span></span>\n",
       "</li>\n",
       "<li id=\"cite_note-8\"><span class=\"mw-cite-backlink\"><a href=\"#cite_ref-8\">^</a></span> <span class=\"reference-text\"><a class=\"external text\" href=\"http://gaffa.no/nyhet/130445/erlend-hjelvik-slutter-i-kvelertak/\" rel=\"nofollow\">Erlend Hjelvik slutter i Kvelertak</a> gaffa.no 16.07.2018</span>\n",
       "</li>\n",
       "<li id=\"cite_note-9\"><span class=\"mw-cite-backlink\"><a href=\"#cite_ref-9\">^</a></span> <span class=\"reference-text\"><a class=\"external text\" href=\"http://gaffa.no/nyhet/130528/her-er-den-nye-vokalisten-i-kvelertak/\" rel=\"nofollow\">Her er den nye vokalisten i Kvelertak</a> gaffa.no 20.07.2018 </span>\n",
       "</li>\n",
       "</ol>\n",
       "<h2><span class=\"mw-headline\" id=\"Eksterne_henvisninger\">Eksterne henvisninger</span><span class=\"mw-editsection\"><span class=\"mw-editsection-bracket\">[</span><a class=\"mw-editsection-visualeditor\" href=\"/w/index.php?title=Kvelertak&amp;veaction=edit&amp;section=7\" title=\"Redigér afsnit: Eksterne henvisninger\">redigér</a><span class=\"mw-editsection-divider\"> | </span><a href=\"/w/index.php?title=Kvelertak&amp;action=edit&amp;section=7\" title=\"Redigér afsnit: Eksterne henvisninger\">rediger kildetekst</a><span class=\"mw-editsection-bracket\">]</span></span></h2>\n",
       "<ul><li><div class=\"plainlinks\" style=\"display:inline;\"><img alt=\"Commons-logo.svg\" data-file-height=\"1376\" data-file-width=\"1024\" decoding=\"async\" height=\"15\" src=\"//upload.wikimedia.org/wikipedia/commons/thumb/4/4a/Commons-logo.svg/11px-Commons-logo.svg.png\" srcset=\"//upload.wikimedia.org/wikipedia/commons/thumb/4/4a/Commons-logo.svg/17px-Commons-logo.svg.png 1.5x, //upload.wikimedia.org/wikipedia/commons/thumb/4/4a/Commons-logo.svg/22px-Commons-logo.svg.png 2x\" width=\"11\"/> <a href=\"/wiki/Wikimedia_Commons\" title=\"Wikimedia Commons\">Wikimedia Commons</a> har flere filer relateret til <b><a class=\"extiw\" href=\"https://commons.wikimedia.org/wiki/Category:Kvelertak\" title=\"commons:Category:Kvelertak\">Kvelertak</a></b> </div></li>\n",
       "<li><a href=\"/wiki/Twitter\" title=\"Twitter\">Twitterbruger</a>: <span class=\"plainlinks\"><a class=\"external text\" href=\"https://twitter.com/Kvelertak\" rel=\"nofollow\">@Kvelertak</a></span> <a href=\"https://www.wikidata.org/wiki/Q1794838\" title=\"Rediger på Wikidata\"><img alt=\"Rediger på Wikidata\" data-file-height=\"600\" data-file-width=\"600\" decoding=\"async\" height=\"5\" src=\"//upload.wikimedia.org/wikipedia/commons/thumb/7/73/Blue_pencil.svg/5px-Blue_pencil.svg.png\" srcset=\"//upload.wikimedia.org/wikipedia/commons/thumb/7/73/Blue_pencil.svg/8px-Blue_pencil.svg.png 1.5x, //upload.wikimedia.org/wikipedia/commons/thumb/7/73/Blue_pencil.svg/10px-Blue_pencil.svg.png 2x\" style=\"vertical-align: text-top\" width=\"5\"/></a></li>\n",
       "<li class=\"mw-empty-elt\"></li>\n",
       "<li><span class=\"wd_p1728\"><a class=\"external text\" href=\"https://www.allmusic.com/artist/mn0002526582\" rel=\"nofollow\">Kvelertak</a> på <a href=\"/wiki/Allmusic\" title=\"Allmusic\">Allmusic</a><span class=\"noprint plainlinks wikidata-linkback\" style=\"padding-left:.5em\"><a class=\"external text\" href=\"https://www.wikidata.org/wiki/Q1794838#P1728\"><img alt=\"Rediger på wikidata\" data-file-height=\"600\" data-file-width=\"600\" decoding=\"async\" height=\"10\" src=\"//upload.wikimedia.org/wikipedia/commons/thumb/7/73/Blue_pencil.svg/10px-Blue_pencil.svg.png\" srcset=\"//upload.wikimedia.org/wikipedia/commons/thumb/7/73/Blue_pencil.svg/15px-Blue_pencil.svg.png 1.5x, //upload.wikimedia.org/wikipedia/commons/thumb/7/73/Blue_pencil.svg/20px-Blue_pencil.svg.png 2x\" style=\"vertical-align: baseline\" title=\"Rediger på wikidata\" width=\"10\"/> </a></span></span></li>\n",
       "<li><span class=\"wd_p1953\"><a class=\"external text\" href=\"https://www.discogs.com/artist/1868277\" rel=\"nofollow\">Kvelertak</a> på <a href=\"/wiki/Discogs\" title=\"Discogs\">Discogs</a><span class=\"noprint plainlinks wikidata-linkback\" style=\"padding-left:.5em\"><a class=\"external text\" href=\"https://www.wikidata.org/wiki/Q1794838#P1953\"><img alt=\"Rediger på wikidata\" data-file-height=\"600\" data-file-width=\"600\" decoding=\"async\" height=\"10\" src=\"//upload.wikimedia.org/wikipedia/commons/thumb/7/73/Blue_pencil.svg/10px-Blue_pencil.svg.png\" srcset=\"//upload.wikimedia.org/wikipedia/commons/thumb/7/73/Blue_pencil.svg/15px-Blue_pencil.svg.png 1.5x, //upload.wikimedia.org/wikipedia/commons/thumb/7/73/Blue_pencil.svg/20px-Blue_pencil.svg.png 2x\" style=\"vertical-align: baseline\" title=\"Rediger på wikidata\" width=\"10\"/> </a></span></span></li>\n",
       "<li><span class=\"wd_p434\"><a class=\"external text\" href=\"https://musicbrainz.org/artist/61fdc79c%2Ddf1a%2D4999%2D8d2f%2D668f18c11283\" rel=\"nofollow\">Kvelertak</a> på <a href=\"/wiki/MusicBrainz\" title=\"MusicBrainz\">MusicBrainz</a><span class=\"noprint plainlinks wikidata-linkback\" style=\"padding-left:.5em\"><a class=\"external text\" href=\"https://www.wikidata.org/wiki/Q1794838#P434\"><img alt=\"Rediger på wikidata\" data-file-height=\"600\" data-file-width=\"600\" decoding=\"async\" height=\"10\" src=\"//upload.wikimedia.org/wikipedia/commons/thumb/7/73/Blue_pencil.svg/10px-Blue_pencil.svg.png\" srcset=\"//upload.wikimedia.org/wikipedia/commons/thumb/7/73/Blue_pencil.svg/15px-Blue_pencil.svg.png 1.5x, //upload.wikimedia.org/wikipedia/commons/thumb/7/73/Blue_pencil.svg/20px-Blue_pencil.svg.png 2x\" style=\"vertical-align: baseline\" title=\"Rediger på wikidata\" width=\"10\"/> </a></span></span></li>\n",
       "<li><span class=\"wd_p3192\"><a class=\"external text\" href=\"https://www.last.fm/music/Kvelertak\" rel=\"nofollow\">Kvelertak</a> på <a href=\"/wiki/Last.fm\" title=\"Last.fm\">Last.fm</a><span class=\"noprint plainlinks wikidata-linkback\" style=\"padding-left:.5em\"><a class=\"external text\" href=\"https://www.wikidata.org/wiki/Q1794838#P3192\"><img alt=\"Rediger på wikidata\" data-file-height=\"600\" data-file-width=\"600\" decoding=\"async\" height=\"10\" src=\"//upload.wikimedia.org/wikipedia/commons/thumb/7/73/Blue_pencil.svg/10px-Blue_pencil.svg.png\" srcset=\"//upload.wikimedia.org/wikipedia/commons/thumb/7/73/Blue_pencil.svg/15px-Blue_pencil.svg.png 1.5x, //upload.wikimedia.org/wikipedia/commons/thumb/7/73/Blue_pencil.svg/20px-Blue_pencil.svg.png 2x\" style=\"vertical-align: baseline\" title=\"Rediger på wikidata\" width=\"10\"/> </a></span></span></li>\n",
       "<li><span class=\"wd_p3265\"><a class=\"external text\" href=\"https://myspace.com/kvelertak\" rel=\"nofollow\">Kvelertak</a> på <a href=\"/wiki/Myspace\" title=\"Myspace\">Myspace</a><span class=\"noprint plainlinks wikidata-linkback\" style=\"padding-left:.5em\"><a class=\"external text\" href=\"https://www.wikidata.org/wiki/Q1794838#P3265\"><img alt=\"Rediger på wikidata\" data-file-height=\"600\" data-file-width=\"600\" decoding=\"async\" height=\"10\" src=\"//upload.wikimedia.org/wikipedia/commons/thumb/7/73/Blue_pencil.svg/10px-Blue_pencil.svg.png\" srcset=\"//upload.wikimedia.org/wikipedia/commons/thumb/7/73/Blue_pencil.svg/15px-Blue_pencil.svg.png 1.5x, //upload.wikimedia.org/wikipedia/commons/thumb/7/73/Blue_pencil.svg/20px-Blue_pencil.svg.png 2x\" style=\"vertical-align: baseline\" title=\"Rediger på wikidata\" width=\"10\"/> </a></span></span></li></ul>\n",
       "<table class=\"navbox\" style=\"border-spacing:0\"><tbody><tr><td style=\"padding:2px\"><table class=\"nowraplinks hlist navbox-inner\" style=\"border-spacing:0;background:transparent;color:inherit\"><tbody><tr><th class=\"navbox-group\" scope=\"row\"><a href=\"/wiki/Autoritetsdata\" title=\"Autoritetsdata\">Autoritetsdata</a></th><td class=\"navbox-list navbox-odd\" style=\"text-align:left;border-left-width:2px;border-left-style:solid;width:100%;padding:0px\"><div style=\"padding:0em 0.25em\">\n",
       "<ul><li><a class=\"external text\" href=\"https://www.worldcat.org/identities/containsVIAFID/6145970358032252849\" rel=\"nofollow\">WorldCat</a></li>\n",
       "<li><a href=\"/wiki/Virtual_International_Authority_File\" title=\"Virtual International Authority File\">VIAF</a>: <span class=\"uid\"><a class=\"external text\" href=\"https://viaf.org/viaf/6145970358032252849\" rel=\"nofollow\">6145970358032252849</a></span></li>\n",
       "<li><a href=\"/wiki/Library_of_Congress_Control_Number\" title=\"Library of Congress Control Number\">LCCN</a>: <span class=\"uid\"><a class=\"external text\" href=\"http://id.loc.gov/authorities/names/no2013058228\" rel=\"nofollow\">no2013058228</a></span></li>\n",
       "<li><a href=\"/wiki/International_Standard_Name_Identifier\" title=\"International Standard Name Identifier\">ISNI</a>: <span class=\"uid\"><a class=\"external text\" href=\"http://isni.org/0000000469004085\" rel=\"nofollow\">0000 0004 6900 4085</a></span></li>\n",
       "<li><a href=\"/wiki/Gemeinsame_Normdatei\" title=\"Gemeinsame Normdatei\">GND</a>: <span class=\"uid\"><a class=\"external text\" href=\"http://d-nb.info/gnd/1036713679\" rel=\"nofollow\">1036713679</a></span></li>\n",
       "<li><a href=\"/wiki/Biblioth%C3%A8que_nationale_de_France\" title=\"Bibliothèque nationale de France\">BNF</a>: <span class=\"uid\"><a class=\"external text\" href=\"http://catalogue.bnf.fr/ark:/12148/cb167271179\" rel=\"nofollow\">cb167271179</a> <a class=\"external text\" href=\"http://data.bnf.fr/ark:/12148/cb167271179\" rel=\"nofollow\">(data)</a></span></li>\n",
       "<li><a href=\"/wiki/BIBSYS\" title=\"BIBSYS\">BIBSYS</a>: <span class=\"uid\"><a class=\"external text\" href=\"http://ask.bibsys.no/ask/action/result?cmd=&amp;kilde=biblio&amp;cql=bs.autid+%3D+10103770&amp;feltselect=bs.autid\" rel=\"nofollow\">10103770</a></span></li>\n",
       "<li><a href=\"/wiki/MusicBrainz\" title=\"MusicBrainz\">MusicBrainz</a>: <span class=\"uid\"><a class=\"external text\" href=\"//musicbrainz.org/artist/61fdc79c-df1a-4999-8d2f-668f18c11283\" rel=\"nofollow\">61fdc79c-df1a-4999-8d2f-668f18c11283</a></span></li>\n",
       "<li><a href=\"/wiki/Tjekkisk_nationalbibliotek\" title=\"Tjekkisk nationalbibliotek\">NKC</a>: <span class=\"uid\"><a class=\"external text\" href=\"http://aleph.nkp.cz/F/?func=find-c&amp;local_base=aut&amp;ccl_term=ica=xx0168444&amp;CON_LNG=ENG\" rel=\"nofollow\">xx0168444</a></span></li></ul>\n",
       "</div></td></tr></tbody></table></td></tr></tbody></table>\n",
       "<!-- \n",
       "NewPP limit report\n",
       "Parsed by mw1338\n",
       "Cached time: 20220307205647\n",
       "Cache expiry: 1814400\n",
       "Reduced expiry: false\n",
       "Complications: [vary‐revision‐sha1]\n",
       "CPU time usage: 0.710 seconds\n",
       "Real time usage: 1.354 seconds\n",
       "Preprocessor visited node count: 1767/1000000\n",
       "Post‐expand include size: 20103/2097152 bytes\n",
       "Template argument size: 951/2097152 bytes\n",
       "Highest expansion depth: 12/100\n",
       "Expensive parser function count: 5/500\n",
       "Unstrip recursion depth: 1/20\n",
       "Unstrip post‐expand size: 11457/5000000 bytes\n",
       "Lua time usage: 0.426/10.000 seconds\n",
       "Lua memory usage: 4948124/52428800 bytes\n",
       "Number of Wikibase entities loaded: 6/400\n",
       "-->\n",
       "<!--\n",
       "Transclusion expansion time report (%,ms,calls,template)\n",
       "100.00% 1207.738      1 -total\n",
       " 43.05%  519.946      1 Skabelon:Infoboks_musiker\n",
       " 34.76%  419.751      1 Skabelon:Infoboks_med_filter\n",
       " 23.94%  289.077      1 Skabelon:Musikhenvisninger\n",
       " 20.11%  242.914      3 Skabelon:Cite_web\n",
       "  9.51%  114.854      6 Skabelon:Wikidata-streng\n",
       "  7.64%   92.253      3 Skabelon:Br_separated_entries\n",
       "  7.15%   86.309     40 Skabelon:Wikidata-emne\n",
       "  5.32%   64.301      1 Skabelon:Autoritetsdata\n",
       "  2.63%   31.754      1 Skabelon:Wikidata_image\n",
       "-->\n",
       "<!-- Saved in parser cache with key dawiki:pcache:idhash:654757-0!canonical and timestamp 20220307205646 and revision id 10959817. Serialized with JSON.\n",
       " -->\n",
       "</div><noscript><img alt=\"\" height=\"1\" src=\"//da.wikipedia.org/wiki/Special:CentralAutoLogin/start?type=1x1\" style=\"border: none; position: absolute;\" title=\"\" width=\"1\"/></noscript>\n",
       "<div class=\"printfooter\">Hentet fra \"<a dir=\"ltr\" href=\"https://da.wikipedia.org/w/index.php?title=Kvelertak&amp;oldid=10959817\">https://da.wikipedia.org/w/index.php?title=Kvelertak&amp;oldid=10959817</a>\"</div></div>\n",
       "<div class=\"catlinks\" data-mw=\"interface\" id=\"catlinks\"><div class=\"mw-normal-catlinks\" id=\"mw-normal-catlinks\"><a href=\"/wiki/Speciel:Kategorier\" title=\"Speciel:Kategorier\">Kategorier</a>: <ul><li><a href=\"/wiki/Kategori:Metalgrupper_fra_Norge\" title=\"Kategori:Metalgrupper fra Norge\">Metalgrupper fra Norge</a></li><li><a href=\"/wiki/Kategori:Musikgrupper_fra_2007\" title=\"Kategori:Musikgrupper fra 2007\">Musikgrupper fra 2007</a></li></ul></div><div class=\"mw-hidden-catlinks mw-hidden-cats-hidden\" id=\"mw-hidden-catlinks\">Skjulte kategorier: <ul><li><a href=\"/wiki/Kategori:Sider_med_Webarchive-skabelon_som_henviser_til_Wayback_Machine\" title=\"Kategori:Sider med Webarchive-skabelon som henviser til Wayback Machine\">Sider med Webarchive-skabelon som henviser til Wayback Machine</a></li><li><a href=\"/wiki/Kategori:Lokalt_billede_forskelligt_fra_Wikidata\" title=\"Kategori:Lokalt billede forskelligt fra Wikidata\">Lokalt billede forskelligt fra Wikidata</a></li><li><a href=\"/wiki/Kategori:Infoboks_uden_udfyldt_wikidata_eller_ingen_wikidata_parametre\" title=\"Kategori:Infoboks uden udfyldt wikidata eller ingen wikidata parametre\">Infoboks uden udfyldt wikidata eller ingen wikidata parametre</a></li><li><a href=\"/wiki/Kategori:Commons-kategori_p%C3%A5_Wikidata_er_ens_med_sidetitel\" title=\"Kategori:Commons-kategori på Wikidata er ens med sidetitel\">Commons-kategori på Wikidata er ens med sidetitel</a></li><li><a href=\"/wiki/Kategori:Artikler_med_musikhenvisninger_fra_Wikidata\" title=\"Kategori:Artikler med musikhenvisninger fra Wikidata\">Artikler med musikhenvisninger fra Wikidata</a></li><li><a href=\"/wiki/Kategori:Wikipedia_artikler_med_VIAF_autoritetsdata-ID\" title=\"Kategori:Wikipedia artikler med VIAF autoritetsdata-ID\">Wikipedia artikler med VIAF autoritetsdata-ID</a></li><li><a href=\"/wiki/Kategori:Wikipedia_artikler_med_LCCN_autoritetsdata-ID\" title=\"Kategori:Wikipedia artikler med LCCN autoritetsdata-ID\">Wikipedia artikler med LCCN autoritetsdata-ID</a></li><li><a href=\"/wiki/Kategori:Wikipedia_artikler_med_ISNI_autoritetsdata-ID\" title=\"Kategori:Wikipedia artikler med ISNI autoritetsdata-ID\">Wikipedia artikler med ISNI autoritetsdata-ID</a></li><li><a href=\"/wiki/Kategori:Wikipedia_artikler_med_GND_autoritetsdata-ID\" title=\"Kategori:Wikipedia artikler med GND autoritetsdata-ID\">Wikipedia artikler med GND autoritetsdata-ID</a></li><li><a href=\"/wiki/Kategori:Wikipedia_artikler_med_BNF_autoritetsdata-ID\" title=\"Kategori:Wikipedia artikler med BNF autoritetsdata-ID\">Wikipedia artikler med BNF autoritetsdata-ID</a></li><li><a href=\"/wiki/Kategori:Wikipedia_artikler_med_BIBSYS_autoritetsdata-ID\" title=\"Kategori:Wikipedia artikler med BIBSYS autoritetsdata-ID\">Wikipedia artikler med BIBSYS autoritetsdata-ID</a></li><li><a href=\"/wiki/Kategori:Wikipedia_artikler_med_MusicBrainz_autoritetsdata-ID\" title=\"Kategori:Wikipedia artikler med MusicBrainz autoritetsdata-ID\">Wikipedia artikler med MusicBrainz autoritetsdata-ID</a></li></ul></div></div>\n",
       "</div>\n",
       "</div>\n",
       "<div id=\"mw-data-after-content\">\n",
       "<div class=\"read-more-container\"></div>\n",
       "</div>\n",
       "<div id=\"mw-navigation\">\n",
       "<h2>Navigationsmenu</h2>\n",
       "<div id=\"mw-head\">\n",
       "<nav aria-labelledby=\"p-personal-label\" class=\"mw-portlet mw-portlet-personal vector-user-menu-legacy vector-menu\" id=\"p-personal\" role=\"navigation\">\n",
       "<h3 aria-label=\"\" class=\"vector-menu-heading\" id=\"p-personal-label\">\n",
       "<span class=\"vector-menu-heading-label\">Personlige værktøjer</span>\n",
       "</h3>\n",
       "<div class=\"vector-menu-content\">\n",
       "<ul class=\"vector-menu-content-list\"><li class=\"mw-list-item\" id=\"pt-anonuserpage\"><span>Ikke logget på</span></li><li class=\"mw-list-item\" id=\"pt-anontalk\"><a accesskey=\"n\" href=\"/wiki/Speciel:Min_diskussionsside\" title=\"Diskussion om redigeringer fra denne ip-adresse [n]\"><span>Diskussion</span></a></li><li class=\"mw-list-item\" id=\"pt-anoncontribs\"><a accesskey=\"y\" href=\"/wiki/Speciel:Mine_bidrag\" title=\"Liste over redigeringer fra denne ip-adresse [y]\"><span>Bidrag</span></a></li><li class=\"mw-list-item\" id=\"pt-createaccount\"><a href=\"/w/index.php?title=Speciel:Opret_konto&amp;returnto=Kvelertak\" title=\"Du opfordres til at oprette en konto og logge på, men det er ikke obligatorisk\"><span>Opret konto</span></a></li><li class=\"mw-list-item\" id=\"pt-login\"><a accesskey=\"o\" href=\"/w/index.php?title=Speciel:Log_p%C3%A5&amp;returnto=Kvelertak\" title=\"Du opfordres til at logge på, men det er ikke obligatorisk. [o]\"><span>Log på</span></a></li></ul>\n",
       "</div>\n",
       "</nav>\n",
       "<div id=\"left-navigation\">\n",
       "<nav aria-labelledby=\"p-namespaces-label\" class=\"mw-portlet mw-portlet-namespaces vector-menu vector-menu-tabs\" id=\"p-namespaces\" role=\"navigation\">\n",
       "<h3 aria-label=\"\" class=\"vector-menu-heading\" id=\"p-namespaces-label\">\n",
       "<span class=\"vector-menu-heading-label\">Navnerum</span>\n",
       "</h3>\n",
       "<div class=\"vector-menu-content\">\n",
       "<ul class=\"vector-menu-content-list\"><li class=\"selected mw-list-item\" id=\"ca-nstab-main\"><a accesskey=\"c\" href=\"/wiki/Kvelertak\" title=\"Se indholdssiden [c]\"><span>Artikel</span></a></li><li class=\"new mw-list-item\" id=\"ca-talk\"><a accesskey=\"t\" href=\"/w/index.php?title=Diskussion:Kvelertak&amp;action=edit&amp;redlink=1\" rel=\"discussion\" title=\"Diskussion om indholdet på siden (ikke skrevet endnu) [t]\"><span>Diskussion</span></a></li></ul>\n",
       "</div>\n",
       "</nav>\n",
       "<nav aria-labelledby=\"p-variants-label\" class=\"mw-portlet mw-portlet-variants emptyPortlet vector-menu-dropdown-noicon vector-menu vector-menu-dropdown\" id=\"p-variants\" role=\"navigation\">\n",
       "<input aria-haspopup=\"true\" aria-labelledby=\"p-variants-label\" class=\"vector-menu-checkbox\" data-event-name=\"ui.dropdown-p-variants\" id=\"p-variants-checkbox\" role=\"button\" type=\"checkbox\"/>\n",
       "<h3 aria-label=\"Ændr sprogvariant\" class=\"vector-menu-heading\" id=\"p-variants-label\">\n",
       "<span class=\"vector-menu-heading-label\">dansk</span>\n",
       "<span class=\"vector-menu-checkbox-expanded\">udvidet</span>\n",
       "<span class=\"vector-menu-checkbox-collapsed\">Sammenfoldet</span>\n",
       "</h3>\n",
       "<div class=\"vector-menu-content\">\n",
       "<ul class=\"vector-menu-content-list\"></ul>\n",
       "</div>\n",
       "</nav>\n",
       "</div>\n",
       "<div id=\"right-navigation\">\n",
       "<nav aria-labelledby=\"p-views-label\" class=\"mw-portlet mw-portlet-views vector-menu vector-menu-tabs\" id=\"p-views\" role=\"navigation\">\n",
       "<h3 aria-label=\"\" class=\"vector-menu-heading\" id=\"p-views-label\">\n",
       "<span class=\"vector-menu-heading-label\">Visninger</span>\n",
       "</h3>\n",
       "<div class=\"vector-menu-content\">\n",
       "<ul class=\"vector-menu-content-list\"><li class=\"selected mw-list-item\" id=\"ca-view\"><a href=\"/wiki/Kvelertak\"><span>Vis</span></a></li><li class=\"mw-list-item\" id=\"ca-ve-edit\"><a accesskey=\"v\" href=\"/w/index.php?title=Kvelertak&amp;veaction=edit\" title=\"Redigér denne side [v]\"><span>Redigér</span></a></li><li class=\"collapsible mw-list-item\" id=\"ca-edit\"><a accesskey=\"e\" href=\"/w/index.php?title=Kvelertak&amp;action=edit\" title=\"Redigér denne side [e]\"><span>Rediger kildekode</span></a></li><li class=\"mw-list-item\" id=\"ca-history\"><a accesskey=\"h\" href=\"/w/index.php?title=Kvelertak&amp;action=history\" title=\"Tidligere versioner af denne side [h]\"><span>Se historik</span></a></li></ul>\n",
       "</div>\n",
       "</nav>\n",
       "<nav aria-labelledby=\"p-cactions-label\" class=\"mw-portlet mw-portlet-cactions emptyPortlet vector-menu-dropdown-noicon vector-menu vector-menu-dropdown\" id=\"p-cactions\" role=\"navigation\" title=\"More options\">\n",
       "<input aria-haspopup=\"true\" aria-labelledby=\"p-cactions-label\" class=\"vector-menu-checkbox\" data-event-name=\"ui.dropdown-p-cactions\" id=\"p-cactions-checkbox\" role=\"button\" type=\"checkbox\"/>\n",
       "<h3 aria-label=\"\" class=\"vector-menu-heading\" id=\"p-cactions-label\">\n",
       "<span class=\"vector-menu-heading-label\">Mere</span>\n",
       "<span class=\"vector-menu-checkbox-expanded\">udvidet</span>\n",
       "<span class=\"vector-menu-checkbox-collapsed\">Sammenfoldet</span>\n",
       "</h3>\n",
       "<div class=\"vector-menu-content\">\n",
       "<ul class=\"vector-menu-content-list\"></ul>\n",
       "</div>\n",
       "</nav>\n",
       "<div class=\"vector-search-box-vue vector-search-box-show-thumbnail vector-search-box-auto-expand-width vector-search-box\" id=\"p-search\" role=\"search\">\n",
       "<div>\n",
       "<h3>\n",
       "<label for=\"searchInput\">Søg</label>\n",
       "</h3>\n",
       "<form action=\"/w/index.php\" class=\"vector-search-box-form\" id=\"searchform\">\n",
       "<div class=\"vector-search-box-inner\" data-search-loc=\"header-navigation\" id=\"simpleSearch\">\n",
       "<input accesskey=\"f\" aria-label=\"Søg på Wikipedia\" autocapitalize=\"sentences\" class=\"vector-search-box-input\" id=\"searchInput\" name=\"search\" placeholder=\"Søg på Wikipedia\" title=\"Søg i Wikipedia [f]\" type=\"search\"/>\n",
       "<input name=\"title\" type=\"hidden\" value=\"Speciel:Søgning\"/>\n",
       "<input class=\"searchButton mw-fallbackSearchButton\" id=\"mw-searchButton\" name=\"fulltext\" title=\"Søg efter sider der indeholder denne tekst\" type=\"submit\" value=\"Søg\"/>\n",
       "<input class=\"searchButton\" id=\"searchButton\" name=\"go\" title=\"Vis en side med præcis dette navn, hvis den findes\" type=\"submit\" value=\"Gå\"/>\n",
       "</div>\n",
       "</form>\n",
       "</div>\n",
       "</div>\n",
       "</div>\n",
       "</div>\n",
       "<div id=\"mw-panel\">\n",
       "<div id=\"p-logo\" role=\"banner\">\n",
       "<a class=\"mw-wiki-logo\" href=\"/wiki/Forside\" title=\"Besøg forsiden\"></a>\n",
       "</div>\n",
       "<nav aria-labelledby=\"p-Navigation-label\" class=\"mw-portlet mw-portlet-Navigation vector-menu vector-menu-portal portal\" id=\"p-Navigation\" role=\"navigation\">\n",
       "<h3 aria-label=\"\" class=\"vector-menu-heading\" id=\"p-Navigation-label\">\n",
       "<span class=\"vector-menu-heading-label\">Navigation</span>\n",
       "</h3>\n",
       "<div class=\"vector-menu-content\">\n",
       "<ul class=\"vector-menu-content-list\"><li class=\"mw-list-item\" id=\"n-mainpage\"><a accesskey=\"z\" href=\"/wiki/Forside\" title=\"Besøg forsiden [z]\"><span>Forside</span></a></li><li class=\"mw-list-item\" id=\"n-kategorier\"><a href=\"/wiki/Wikipedia:Kategorier\"><span>Kategorier</span></a></li><li class=\"mw-list-item\" id=\"n-Fremhævet-indhold\"><a href=\"/wiki/Wikipedia:Fremh%C3%A6vet_indhold\"><span>Fremhævet indhold</span></a></li><li class=\"mw-list-item\" id=\"n-randompage\"><a accesskey=\"x\" href=\"/wiki/Speciel:Tilf%C3%A6ldig_side\" icon=\"die\" title=\"Gå til en tilfældig side [x]\"><span>Tilfældig side</span></a></li><li class=\"mw-list-item\" id=\"n-Tilfældige-artikler\"><a href=\"/wiki/Wikipedia:Tilf%C3%A6ldige_artikler\"><span>Tilfældige artikler</span></a></li><li class=\"mw-list-item\" id=\"n-Aktuelt\"><a href=\"/wiki/Wikipedia:Aktuelle_begivenheder\"><span>Aktuelt</span></a></li></ul>\n",
       "</div>\n",
       "</nav>\n",
       "<nav aria-labelledby=\"p-Deltagelse-label\" class=\"mw-portlet mw-portlet-Deltagelse vector-menu vector-menu-portal portal\" id=\"p-Deltagelse\" role=\"navigation\">\n",
       "<h3 aria-label=\"\" class=\"vector-menu-heading\" id=\"p-Deltagelse-label\">\n",
       "<span class=\"vector-menu-heading-label\">Deltagelse</span>\n",
       "</h3>\n",
       "<div class=\"vector-menu-content\">\n",
       "<ul class=\"vector-menu-content-list\"><li class=\"mw-list-item\" id=\"n-velkommen\"><a href=\"/wiki/Hj%C3%A6lp:Velkommen_til_Wikipedia\"><span>Velkommen</span></a></li><li class=\"mw-list-item\" id=\"n-portal\"><a href=\"/wiki/Wikipedia:Forside\" title=\"Om projektet, hvad du kan gøre, hvor tingene findes\"><span>Skribentforside</span></a></li><li class=\"mw-list-item\" id=\"n-Landsbybrønden\"><a href=\"/wiki/Wikipedia:Landsbybr%C3%B8nden\"><span>Landsbybrønden</span></a></li><li class=\"mw-list-item\" id=\"n-Projekter\"><a href=\"/wiki/Wikipedia:Projekter\"><span>Projekter</span></a></li><li class=\"mw-list-item\" id=\"n-Portaler\"><a href=\"/wiki/Portal:Portaler\"><span>Portaler</span></a></li><li class=\"mw-list-item\" id=\"n-Ønskede-artikler\"><a href=\"/wiki/Wikipedia:WikiProjekt_Efterspurgte_artikler\"><span>Ønskede artikler</span></a></li><li class=\"mw-list-item\" id=\"n-Oprydning\"><a href=\"/wiki/Wikipedia:Oprydning\"><span>Oprydning</span></a></li><li class=\"mw-list-item\" id=\"n-Kalender\"><a href=\"/wiki/Wikipedia:Kalender\"><span>Kalender</span></a></li><li class=\"mw-list-item\" id=\"n-recentchanges\"><a accesskey=\"r\" href=\"/wiki/Speciel:Seneste_%C3%A6ndringer\" icon=\"recentChanges\" title=\"Listen over de seneste ændringer i wikien. [r]\"><span>Seneste ændringer</span></a></li><li class=\"mw-list-item\" id=\"n-help\"><a href=\"/wiki/Hj%C3%A6lp:Forside\" icon=\"help\" title=\"Stedet hvor du finder hjælp\"><span>Hjælp</span></a></li></ul>\n",
       "</div>\n",
       "</nav>\n",
       "<nav aria-labelledby=\"p-tb-label\" class=\"mw-portlet mw-portlet-tb vector-menu vector-menu-portal portal\" id=\"p-tb\" role=\"navigation\">\n",
       "<h3 aria-label=\"\" class=\"vector-menu-heading\" id=\"p-tb-label\">\n",
       "<span class=\"vector-menu-heading-label\">Værktøjer</span>\n",
       "</h3>\n",
       "<div class=\"vector-menu-content\">\n",
       "<ul class=\"vector-menu-content-list\"><li class=\"mw-list-item\" id=\"t-whatlinkshere\"><a accesskey=\"j\" href=\"/wiki/Speciel:Hvad_linker_hertil/Kvelertak\" title=\"Liste med alle sider som henviser hertil [j]\"><span>Hvad henviser hertil</span></a></li><li class=\"mw-list-item\" id=\"t-recentchangeslinked\"><a accesskey=\"k\" href=\"/wiki/Speciel:Relaterede_%C3%A6ndringer/Kvelertak\" rel=\"nofollow\" title=\"Seneste ændringer af sider som denne side henviser til [k]\"><span>Beslægtede ændringer</span></a></li><li class=\"mw-list-item\" id=\"t-upload\"><a accesskey=\"u\" href=\"//commons.wikimedia.org/wiki/Special:UploadWizard?uselang=da&amp;campaign=dk\" title=\"Upload filer [u]\"><span>Upload fil</span></a></li><li class=\"mw-list-item\" id=\"t-specialpages\"><a accesskey=\"q\" href=\"/wiki/Speciel:Specialsider\" title=\"Liste over alle specialsider [q]\"><span>Specialsider</span></a></li><li class=\"mw-list-item\" id=\"t-permalink\"><a href=\"/w/index.php?title=Kvelertak&amp;oldid=10959817\" title=\"Permanent henvisning til denne version af denne side\"><span>Permanent link</span></a></li><li class=\"mw-list-item\" id=\"t-info\"><a href=\"/w/index.php?title=Kvelertak&amp;action=info\" title=\"Yderligere oplysninger om denne side\"><span>Sideinformation</span></a></li><li class=\"mw-list-item\" id=\"t-cite\"><a href=\"/w/index.php?title=Speciel:Citer&amp;page=Kvelertak&amp;id=10959817&amp;wpFormIdentifier=titleform\" title=\"Information om, hvordan man kan citere denne side\"><span>Referer til denne side</span></a></li><li class=\"mw-list-item\" id=\"t-wikibase\"><a accesskey=\"g\" href=\"https://www.wikidata.org/wiki/Special:EntityPage/Q1794838\" title=\"Link til tilknyttet emne i Wikidata [g]\"><span>Wikidata-element</span></a></li></ul>\n",
       "</div>\n",
       "</nav>\n",
       "<nav aria-labelledby=\"p-Organisation-label\" class=\"mw-portlet mw-portlet-Organisation vector-menu vector-menu-portal portal\" id=\"p-Organisation\" role=\"navigation\">\n",
       "<h3 aria-label=\"\" class=\"vector-menu-heading\" id=\"p-Organisation-label\">\n",
       "<span class=\"vector-menu-heading-label\">Organisation</span>\n",
       "</h3>\n",
       "<div class=\"vector-menu-content\">\n",
       "<ul class=\"vector-menu-content-list\"><li class=\"mw-list-item\" id=\"n-sitesupport\"><a href=\"//donate.wikimedia.org/wiki/Special:FundraiserRedirector?utm_source=donate&amp;utm_medium=sidebar&amp;utm_campaign=C13_da.wikipedia.org&amp;uselang=da\" title=\"Støt Wikipedia\"><span>Donation</span></a></li><li class=\"mw-list-item\" id=\"n-contact\"><a href=\"/wiki/Wikipedia:Kontakt_Wikipedia\"><span>Kontakt Wikipedia</span></a></li><li class=\"mw-list-item\" id=\"n-Wikimedia-Danmark\"><a href=\"https://dk.wikimedia.org/wiki/\"><span>Wikimedia Danmark</span></a></li><li class=\"mw-list-item\" id=\"n-GLAM\"><a href=\"/wiki/Wikipedia:GLAM\"><span>GLAM</span></a></li></ul>\n",
       "</div>\n",
       "</nav>\n",
       "<nav aria-labelledby=\"p-coll-print_export-label\" class=\"mw-portlet mw-portlet-coll-print_export vector-menu vector-menu-portal portal\" id=\"p-coll-print_export\" role=\"navigation\">\n",
       "<h3 aria-label=\"\" class=\"vector-menu-heading\" id=\"p-coll-print_export-label\">\n",
       "<span class=\"vector-menu-heading-label\">Udskriv/eksportér</span>\n",
       "</h3>\n",
       "<div class=\"vector-menu-content\">\n",
       "<ul class=\"vector-menu-content-list\"><li class=\"mw-list-item\" id=\"coll-create_a_book\"><a href=\"/w/index.php?title=Speciel:Bog&amp;bookcmd=book_creator&amp;referer=Kvelertak\"><span>Lav en bog</span></a></li><li class=\"mw-list-item\" id=\"coll-download-as-rl\"><a href=\"/w/index.php?title=Speciel:DownloadAsPdf&amp;page=Kvelertak&amp;action=show-download-screen\"><span>Download som PDF</span></a></li><li class=\"mw-list-item\" id=\"t-print\"><a accesskey=\"p\" href=\"/w/index.php?title=Kvelertak&amp;printable=yes\" title=\"Printervenlig udgave af denne side [p]\"><span>Udskriftsvenlig udgave</span></a></li></ul>\n",
       "</div>\n",
       "</nav>\n",
       "<nav aria-labelledby=\"p-wikibase-otherprojects-label\" class=\"mw-portlet mw-portlet-wikibase-otherprojects vector-menu vector-menu-portal portal\" id=\"p-wikibase-otherprojects\" role=\"navigation\">\n",
       "<h3 aria-label=\"\" class=\"vector-menu-heading\" id=\"p-wikibase-otherprojects-label\">\n",
       "<span class=\"vector-menu-heading-label\">I andre projekter</span>\n",
       "</h3>\n",
       "<div class=\"vector-menu-content\">\n",
       "<ul class=\"vector-menu-content-list\"><li class=\"wb-otherproject-link wb-otherproject-commons mw-list-item\"><a href=\"https://commons.wikimedia.org/wiki/Category:Kvelertak\" hreflang=\"en\"><span>Wikimedia Commons</span></a></li></ul>\n",
       "</div>\n",
       "</nav>\n",
       "<nav aria-labelledby=\"p-lang-label\" class=\"mw-portlet mw-portlet-lang vector-menu vector-menu-portal portal\" id=\"p-lang\" role=\"navigation\">\n",
       "<h3 aria-label=\"\" class=\"vector-menu-heading\" id=\"p-lang-label\">\n",
       "<span class=\"vector-menu-heading-label\">På andre sprog</span>\n",
       "</h3>\n",
       "<div class=\"vector-menu-content\">\n",
       "<ul class=\"vector-menu-content-list\"><li class=\"interlanguage-link interwiki-ca mw-list-item\"><a class=\"interlanguage-link-target\" href=\"https://ca.wikipedia.org/wiki/Kvelertak\" hreflang=\"ca\" lang=\"ca\" title=\"Kvelertak – catalansk\"><span>Català</span></a></li><li class=\"interlanguage-link interwiki-cs mw-list-item\"><a class=\"interlanguage-link-target\" href=\"https://cs.wikipedia.org/wiki/Kvelertak\" hreflang=\"cs\" lang=\"cs\" title=\"Kvelertak – tjekkisk\"><span>Čeština</span></a></li><li class=\"interlanguage-link interwiki-de mw-list-item\"><a class=\"interlanguage-link-target\" href=\"https://de.wikipedia.org/wiki/Kvelertak\" hreflang=\"de\" lang=\"de\" title=\"Kvelertak – tysk\"><span>Deutsch</span></a></li><li class=\"interlanguage-link interwiki-en mw-list-item\"><a class=\"interlanguage-link-target\" href=\"https://en.wikipedia.org/wiki/Kvelertak\" hreflang=\"en\" lang=\"en\" title=\"Kvelertak – engelsk\"><span>English</span></a></li><li class=\"interlanguage-link interwiki-es mw-list-item\"><a class=\"interlanguage-link-target\" href=\"https://es.wikipedia.org/wiki/Kvelertak\" hreflang=\"es\" lang=\"es\" title=\"Kvelertak – spansk\"><span>Español</span></a></li><li class=\"interlanguage-link interwiki-fi mw-list-item\"><a class=\"interlanguage-link-target\" href=\"https://fi.wikipedia.org/wiki/Kvelertak\" hreflang=\"fi\" lang=\"fi\" title=\"Kvelertak – finsk\"><span>Suomi</span></a></li><li class=\"interlanguage-link interwiki-fr mw-list-item\"><a class=\"interlanguage-link-target\" href=\"https://fr.wikipedia.org/wiki/Kvelertak\" hreflang=\"fr\" lang=\"fr\" title=\"Kvelertak – fransk\"><span>Français</span></a></li><li class=\"interlanguage-link interwiki-hr mw-list-item\"><a class=\"interlanguage-link-target\" href=\"https://hr.wikipedia.org/wiki/Kvelertak\" hreflang=\"hr\" lang=\"hr\" title=\"Kvelertak – kroatisk\"><span>Hrvatski</span></a></li><li class=\"interlanguage-link interwiki-hu mw-list-item\"><a class=\"interlanguage-link-target\" href=\"https://hu.wikipedia.org/wiki/Kvelertak\" hreflang=\"hu\" lang=\"hu\" title=\"Kvelertak – ungarsk\"><span>Magyar</span></a></li><li class=\"interlanguage-link interwiki-it mw-list-item\"><a class=\"interlanguage-link-target\" href=\"https://it.wikipedia.org/wiki/Kvelertak\" hreflang=\"it\" lang=\"it\" title=\"Kvelertak – italiensk\"><span>Italiano</span></a></li><li class=\"interlanguage-link interwiki-nl mw-list-item\"><a class=\"interlanguage-link-target\" href=\"https://nl.wikipedia.org/wiki/Kvelertak\" hreflang=\"nl\" lang=\"nl\" title=\"Kvelertak – hollandsk\"><span>Nederlands</span></a></li><li class=\"interlanguage-link interwiki-nn mw-list-item\"><a class=\"interlanguage-link-target\" href=\"https://nn.wikipedia.org/wiki/Kvelertak\" hreflang=\"nn\" lang=\"nn\" title=\"Kvelertak – nynorsk\"><span>Norsk nynorsk</span></a></li><li class=\"interlanguage-link interwiki-no mw-list-item\"><a class=\"interlanguage-link-target\" href=\"https://no.wikipedia.org/wiki/Kvelertak_(band)\" hreflang=\"nb\" lang=\"nb\" title=\"Kvelertak (band) – bokmål\"><span>Norsk bokmål</span></a></li><li class=\"interlanguage-link interwiki-pl mw-list-item\"><a class=\"interlanguage-link-target\" href=\"https://pl.wikipedia.org/wiki/Kvelertak\" hreflang=\"pl\" lang=\"pl\" title=\"Kvelertak – polsk\"><span>Polski</span></a></li><li class=\"interlanguage-link interwiki-pt mw-list-item\"><a class=\"interlanguage-link-target\" href=\"https://pt.wikipedia.org/wiki/Kvelertak\" hreflang=\"pt\" lang=\"pt\" title=\"Kvelertak – portugisisk\"><span>Português</span></a></li><li class=\"interlanguage-link interwiki-ru mw-list-item\"><a class=\"interlanguage-link-target\" href=\"https://ru.wikipedia.org/wiki/Kvelertak\" hreflang=\"ru\" lang=\"ru\" title=\"Kvelertak – russisk\"><span>Русский</span></a></li><li class=\"interlanguage-link interwiki-sv mw-list-item\"><a class=\"interlanguage-link-target\" href=\"https://sv.wikipedia.org/wiki/Kvelertak\" hreflang=\"sv\" lang=\"sv\" title=\"Kvelertak – svensk\"><span>Svenska</span></a></li><li class=\"interlanguage-link interwiki-tr mw-list-item\"><a class=\"interlanguage-link-target\" href=\"https://tr.wikipedia.org/wiki/Kvelertak\" hreflang=\"tr\" lang=\"tr\" title=\"Kvelertak – tyrkisk\"><span>Türkçe</span></a></li><li class=\"interlanguage-link interwiki-uk mw-list-item\"><a class=\"interlanguage-link-target\" href=\"https://uk.wikipedia.org/wiki/Kvelertak\" hreflang=\"uk\" lang=\"uk\" title=\"Kvelertak – ukrainsk\"><span>Українська</span></a></li></ul>\n",
       "<div class=\"after-portlet after-portlet-lang\"><span class=\"wb-langlinks-edit wb-langlinks-link\"><a class=\"wbc-editpage\" href=\"https://www.wikidata.org/wiki/Special:EntityPage/Q1794838#sitelinks-wikipedia\" title=\"Redigér sproglinks\">Redigér links</a></span></div>\n",
       "</div>\n",
       "</nav>\n",
       "</div>\n",
       "</div>\n",
       "<footer class=\"mw-footer\" id=\"footer\" role=\"contentinfo\">\n",
       "<ul id=\"footer-info\">\n",
       "<li id=\"footer-info-lastmod\"> Denne side blev senest ændret den 28. december 2021 kl. 01:36.</li>\n",
       "<li id=\"footer-info-copyright\">Tekst er tilgængelig under <a href=\"//creativecommons.org/licenses/by-sa/3.0/deed.da\" rel=\"license\">Creative Commons Navngivelse/Del på samme vilkår 3.0</a>; yderligere betingelser kan være gældende. Se <a href=\"//meta.wikimedia.org/wiki/Terms_of_use/da\" rel=\"license\">brugsbetingelserne</a> for flere oplysninger.</li>\n",
       "</ul>\n",
       "<ul id=\"footer-places\">\n",
       "<li id=\"footer-places-privacy\"><a class=\"extiw\" href=\"https://foundation.wikimedia.org/wiki/Privacy_policy\" title=\"wmf:Privacy policy\">Privatlivspolitik</a></li>\n",
       "<li id=\"footer-places-about\"><a class=\"mw-redirect\" href=\"/wiki/Wikipedia:Om\" title=\"Wikipedia:Om\">Om Wikipedia</a></li>\n",
       "<li id=\"footer-places-disclaimer\"><a href=\"/wiki/Wikipedia:Generelle_forbehold\" title=\"Wikipedia:Generelle forbehold\">Forbehold</a></li>\n",
       "<li id=\"footer-places-mobileview\"><a class=\"noprint stopMobileRedirectToggle\" href=\"//da.m.wikipedia.org/w/index.php?title=Kvelertak&amp;mobileaction=toggle_view_mobile\">Mobilvisning</a></li>\n",
       "<li id=\"footer-places-developers\"><a href=\"https://www.mediawiki.org/wiki/Special:MyLanguage/How_to_contribute\">Udviklere</a></li>\n",
       "<li id=\"footer-places-statslink\"><a href=\"https://stats.wikimedia.org/#/da.wikipedia.org\">Statistik</a></li>\n",
       "<li id=\"footer-places-cookiestatement\"><a href=\"https://foundation.wikimedia.org/wiki/Cookie_statement\">Cookie-erklæring</a></li>\n",
       "</ul>\n",
       "<ul class=\"noprint\" id=\"footer-icons\">\n",
       "<li id=\"footer-copyrightico\"><a href=\"https://wikimediafoundation.org/\"><img alt=\"Wikimedia Foundation\" height=\"31\" loading=\"lazy\" src=\"/static/images/footer/wikimedia-button.png\" srcset=\"/static/images/footer/wikimedia-button-1.5x.png 1.5x, /static/images/footer/wikimedia-button-2x.png 2x\" width=\"88\"/></a></li>\n",
       "<li id=\"footer-poweredbyico\"><a href=\"https://www.mediawiki.org/\"><img alt=\"Powered by MediaWiki\" height=\"31\" loading=\"lazy\" src=\"/static/images/footer/poweredby_mediawiki_88x31.png\" srcset=\"/static/images/footer/poweredby_mediawiki_132x47.png 1.5x, /static/images/footer/poweredby_mediawiki_176x62.png 2x\" width=\"88\"/></a></li>\n",
       "</ul>\n",
       "</footer>\n",
       "<script>(RLQ=window.RLQ||[]).push(function(){mw.config.set({\"wgPageParseReport\":{\"limitreport\":{\"cputime\":\"0.710\",\"walltime\":\"1.354\",\"ppvisitednodes\":{\"value\":1767,\"limit\":1000000},\"postexpandincludesize\":{\"value\":20103,\"limit\":2097152},\"templateargumentsize\":{\"value\":951,\"limit\":2097152},\"expansiondepth\":{\"value\":12,\"limit\":100},\"expensivefunctioncount\":{\"value\":5,\"limit\":500},\"unstrip-depth\":{\"value\":1,\"limit\":20},\"unstrip-size\":{\"value\":11457,\"limit\":5000000},\"entityaccesscount\":{\"value\":6,\"limit\":400},\"timingprofile\":[\"100.00% 1207.738      1 -total\",\" 43.05%  519.946      1 Skabelon:Infoboks_musiker\",\" 34.76%  419.751      1 Skabelon:Infoboks_med_filter\",\" 23.94%  289.077      1 Skabelon:Musikhenvisninger\",\" 20.11%  242.914      3 Skabelon:Cite_web\",\"  9.51%  114.854      6 Skabelon:Wikidata-streng\",\"  7.64%   92.253      3 Skabelon:Br_separated_entries\",\"  7.15%   86.309     40 Skabelon:Wikidata-emne\",\"  5.32%   64.301      1 Skabelon:Autoritetsdata\",\"  2.63%   31.754      1 Skabelon:Wikidata_image\"]},\"scribunto\":{\"limitreport-timeusage\":{\"value\":\"0.426\",\"limit\":\"10.000\"},\"limitreport-memusage\":{\"value\":4948124,\"limit\":52428800}},\"cachereport\":{\"origin\":\"mw1338\",\"timestamp\":\"20220307205647\",\"ttl\":1814400,\"transientcontent\":false}}});});</script>\n",
       "<script type=\"application/ld+json\">{\"@context\":\"https:\\/\\/schema.org\",\"@type\":\"Article\",\"name\":\"Kvelertak\",\"url\":\"https:\\/\\/da.wikipedia.org\\/wiki\\/Kvelertak\",\"sameAs\":\"http:\\/\\/www.wikidata.org\\/entity\\/Q1794838\",\"mainEntity\":\"http:\\/\\/www.wikidata.org\\/entity\\/Q1794838\",\"author\":{\"@type\":\"Organization\",\"name\":\"Bidragsydere til Wikimedia-projekter\"},\"publisher\":{\"@type\":\"Organization\",\"name\":\"Wikimedia Foundation, Inc.\",\"logo\":{\"@type\":\"ImageObject\",\"url\":\"https:\\/\\/www.wikimedia.org\\/static\\/images\\/wmf-hor-googpub.png\"}},\"datePublished\":\"2012-08-07T21:56:54Z\",\"dateModified\":\"2021-12-28T00:36:33Z\",\"image\":\"https:\\/\\/upload.wikimedia.org\\/wikipedia\\/commons\\/e\\/eb\\/KvelertakCopenhell2011.jpg\"}</script>\n",
       "<script>(RLQ=window.RLQ||[]).push(function(){mw.config.set({\"wgBackendResponseTime\":235,\"wgHostname\":\"mw1319\"});});</script>\n",
       "</body>\n",
       "</html>"
      ]
     },
     "execution_count": 10,
     "metadata": {},
     "output_type": "execute_result"
    }
   ],
   "source": [
    "soup"
   ]
  },
  {
   "cell_type": "code",
   "execution_count": 13,
   "id": "4ddf8b69",
   "metadata": {},
   "outputs": [
    {
     "data": {
      "text/plain": [
       "'Kvelertak (på dansk Kvælertag) er et norsk musikgruppe fra Stavanger, hvis musik kombinerer hardcore punk, sortmetal og rock and roll. Gruppen, der blev grundlagt i 2007 og først nåede ud til et bredere publikum gennem det norske radioprogram NRK Urørt, har selv brugt genrebetegnelsen \"necro \\'n\\' roll\" om deres musik.\\n'"
      ]
     },
     "execution_count": 13,
     "metadata": {},
     "output_type": "execute_result"
    }
   ],
   "source": [
    "soup.select('p')[0].getText()"
   ]
  },
  {
   "cell_type": "code",
   "execution_count": 14,
   "id": "48735933",
   "metadata": {},
   "outputs": [
    {
     "data": {
      "text/plain": [
       "[<span class=\"toctext\">Biografi</span>,\n",
       " <span class=\"toctext\">Medlemmer</span>,\n",
       " <span class=\"toctext\">Diskografi</span>,\n",
       " <span class=\"toctext\">Studieudgivelser</span>,\n",
       " <span class=\"toctext\">Demoer</span>,\n",
       " <span class=\"toctext\">Referencer</span>,\n",
       " <span class=\"toctext\">Eksterne henvisninger</span>]"
      ]
     },
     "execution_count": 14,
     "metadata": {},
     "output_type": "execute_result"
    }
   ],
   "source": [
    "soup.select('.toctext')"
   ]
  },
  {
   "cell_type": "code",
   "execution_count": 16,
   "id": "999cb4ed",
   "metadata": {},
   "outputs": [
    {
     "name": "stdout",
     "output_type": "stream",
     "text": [
      "Biografi\n",
      "Medlemmer\n",
      "Diskografi\n",
      "Studieudgivelser\n",
      "Demoer\n",
      "Referencer\n",
      "Eksterne henvisninger\n"
     ]
    }
   ],
   "source": [
    "for item in soup.select('.toctext'):\n",
    "    print(item.text)"
   ]
  },
  {
   "cell_type": "code",
   "execution_count": 35,
   "id": "b1467de5",
   "metadata": {},
   "outputs": [
    {
     "data": {
      "text/plain": [
       "<a class=\"image\" href=\"/wiki/Fil:KvelertakCopenhell2011.jpg\"><img alt=\"KvelertakCopenhell2011.jpg\" data-file-height=\"1392\" data-file-width=\"3255\" decoding=\"async\" height=\"107\" src=\"//upload.wikimedia.org/wikipedia/commons/thumb/e/eb/KvelertakCopenhell2011.jpg/250px-KvelertakCopenhell2011.jpg\" srcset=\"//upload.wikimedia.org/wikipedia/commons/thumb/e/eb/KvelertakCopenhell2011.jpg/375px-KvelertakCopenhell2011.jpg 1.5x, //upload.wikimedia.org/wikipedia/commons/thumb/e/eb/KvelertakCopenhell2011.jpg/500px-KvelertakCopenhell2011.jpg 2x\" width=\"250\"/></a>"
      ]
     },
     "execution_count": 35,
     "metadata": {},
     "output_type": "execute_result"
    }
   ],
   "source": [
    "soup.select('.image')[0]"
   ]
  },
  {
   "cell_type": "code",
   "execution_count": 17,
   "id": "77940294",
   "metadata": {},
   "outputs": [],
   "source": [
    "cph11 = soup.select('.thumbimage')[0]\n"
   ]
  },
  {
   "cell_type": "code",
   "execution_count": 18,
   "id": "d97eec69",
   "metadata": {},
   "outputs": [
    {
     "data": {
      "text/plain": [
       "<img alt=\"\" class=\"thumbimage\" data-file-height=\"600\" data-file-width=\"800\" decoding=\"async\" height=\"165\" src=\"//upload.wikimedia.org/wikipedia/commons/thumb/6/6f/Kasparov_Magath_1985_Hamburg-2.png/220px-Kasparov_Magath_1985_Hamburg-2.png\" srcset=\"//upload.wikimedia.org/wikipedia/commons/thumb/6/6f/Kasparov_Magath_1985_Hamburg-2.png/330px-Kasparov_Magath_1985_Hamburg-2.png 1.5x, //upload.wikimedia.org/wikipedia/commons/thumb/6/6f/Kasparov_Magath_1985_Hamburg-2.png/440px-Kasparov_Magath_1985_Hamburg-2.png 2x\" width=\"220\"/>"
      ]
     },
     "execution_count": 18,
     "metadata": {},
     "output_type": "execute_result"
    }
   ],
   "source": [
    "cph11"
   ]
  },
  {
   "cell_type": "code",
   "execution_count": 41,
   "id": "9ad6f863",
   "metadata": {},
   "outputs": [
    {
     "name": "stdout",
     "output_type": "stream",
     "text": [
      "None\n"
     ]
    }
   ],
   "source": [
    "print(cph11.help)"
   ]
  },
  {
   "cell_type": "code",
   "execution_count": null,
   "id": "699eb3c0",
   "metadata": {},
   "outputs": [],
   "source": []
  },
  {
   "cell_type": "code",
   "execution_count": 19,
   "id": "fc378646",
   "metadata": {},
   "outputs": [
    {
     "data": {
      "text/plain": [
       "'//upload.wikimedia.org/wikipedia/commons/thumb/6/6f/Kasparov_Magath_1985_Hamburg-2.png/220px-Kasparov_Magath_1985_Hamburg-2.png'"
      ]
     },
     "execution_count": 19,
     "metadata": {},
     "output_type": "execute_result"
    }
   ],
   "source": [
    "cph11['src']"
   ]
  },
  {
   "cell_type": "code",
   "execution_count": 56,
   "id": "9ff7589c",
   "metadata": {},
   "outputs": [
    {
     "name": "stdout",
     "output_type": "stream",
     "text": [
      "<img alt=\"KvelertakCopenhell2011.jpg\" data-file-height=\"1392\" data-file-width=\"3255\" decoding=\"async\" height=\"107\" src=\"//upload.wikimedia.org/wikipedia/commons/thumb/e/eb/KvelertakCopenhell2011.jpg/250px-KvelertakCopenhell2011.jpg\" srcset=\"//upload.wikimedia.org/wikipedia/commons/thumb/e/eb/KvelertakCopenhell2011.jpg/375px-KvelertakCopenhell2011.jpg 1.5x, //upload.wikimedia.org/wikipedia/commons/thumb/e/eb/KvelertakCopenhell2011.jpg/500px-KvelertakCopenhell2011.jpg 2x\" width=\"250\"/>\n",
      "<img alt=\"Norge\" class=\"thumbborder\" data-file-height=\"372\" data-file-width=\"512\" decoding=\"async\" height=\"16\" src=\"//upload.wikimedia.org/wikipedia/commons/thumb/d/d9/Flag_of_Norway.svg/22px-Flag_of_Norway.svg.png\" srcset=\"//upload.wikimedia.org/wikipedia/commons/thumb/d/d9/Flag_of_Norway.svg/33px-Flag_of_Norway.svg.png 1.5x, //upload.wikimedia.org/wikipedia/commons/thumb/d/d9/Flag_of_Norway.svg/44px-Flag_of_Norway.svg.png 2x\" width=\"22\"/>\n",
      "<img alt=\"Commons-logo.svg\" data-file-height=\"1376\" data-file-width=\"1024\" decoding=\"async\" height=\"15\" src=\"//upload.wikimedia.org/wikipedia/commons/thumb/4/4a/Commons-logo.svg/11px-Commons-logo.svg.png\" srcset=\"//upload.wikimedia.org/wikipedia/commons/thumb/4/4a/Commons-logo.svg/17px-Commons-logo.svg.png 1.5x, //upload.wikimedia.org/wikipedia/commons/thumb/4/4a/Commons-logo.svg/22px-Commons-logo.svg.png 2x\" width=\"11\"/>\n",
      "<img alt=\"Rediger på Wikidata\" data-file-height=\"600\" data-file-width=\"600\" decoding=\"async\" height=\"5\" src=\"//upload.wikimedia.org/wikipedia/commons/thumb/7/73/Blue_pencil.svg/5px-Blue_pencil.svg.png\" srcset=\"//upload.wikimedia.org/wikipedia/commons/thumb/7/73/Blue_pencil.svg/8px-Blue_pencil.svg.png 1.5x, //upload.wikimedia.org/wikipedia/commons/thumb/7/73/Blue_pencil.svg/10px-Blue_pencil.svg.png 2x\" style=\"vertical-align: text-top\" width=\"5\"/>\n",
      "<img alt=\"Rediger på wikidata\" data-file-height=\"600\" data-file-width=\"600\" decoding=\"async\" height=\"10\" src=\"//upload.wikimedia.org/wikipedia/commons/thumb/7/73/Blue_pencil.svg/10px-Blue_pencil.svg.png\" srcset=\"//upload.wikimedia.org/wikipedia/commons/thumb/7/73/Blue_pencil.svg/15px-Blue_pencil.svg.png 1.5x, //upload.wikimedia.org/wikipedia/commons/thumb/7/73/Blue_pencil.svg/20px-Blue_pencil.svg.png 2x\" style=\"vertical-align: baseline\" title=\"Rediger på wikidata\" width=\"10\"/>\n",
      "<img alt=\"Rediger på wikidata\" data-file-height=\"600\" data-file-width=\"600\" decoding=\"async\" height=\"10\" src=\"//upload.wikimedia.org/wikipedia/commons/thumb/7/73/Blue_pencil.svg/10px-Blue_pencil.svg.png\" srcset=\"//upload.wikimedia.org/wikipedia/commons/thumb/7/73/Blue_pencil.svg/15px-Blue_pencil.svg.png 1.5x, //upload.wikimedia.org/wikipedia/commons/thumb/7/73/Blue_pencil.svg/20px-Blue_pencil.svg.png 2x\" style=\"vertical-align: baseline\" title=\"Rediger på wikidata\" width=\"10\"/>\n",
      "<img alt=\"Rediger på wikidata\" data-file-height=\"600\" data-file-width=\"600\" decoding=\"async\" height=\"10\" src=\"//upload.wikimedia.org/wikipedia/commons/thumb/7/73/Blue_pencil.svg/10px-Blue_pencil.svg.png\" srcset=\"//upload.wikimedia.org/wikipedia/commons/thumb/7/73/Blue_pencil.svg/15px-Blue_pencil.svg.png 1.5x, //upload.wikimedia.org/wikipedia/commons/thumb/7/73/Blue_pencil.svg/20px-Blue_pencil.svg.png 2x\" style=\"vertical-align: baseline\" title=\"Rediger på wikidata\" width=\"10\"/>\n",
      "<img alt=\"Rediger på wikidata\" data-file-height=\"600\" data-file-width=\"600\" decoding=\"async\" height=\"10\" src=\"//upload.wikimedia.org/wikipedia/commons/thumb/7/73/Blue_pencil.svg/10px-Blue_pencil.svg.png\" srcset=\"//upload.wikimedia.org/wikipedia/commons/thumb/7/73/Blue_pencil.svg/15px-Blue_pencil.svg.png 1.5x, //upload.wikimedia.org/wikipedia/commons/thumb/7/73/Blue_pencil.svg/20px-Blue_pencil.svg.png 2x\" style=\"vertical-align: baseline\" title=\"Rediger på wikidata\" width=\"10\"/>\n",
      "<img alt=\"Rediger på wikidata\" data-file-height=\"600\" data-file-width=\"600\" decoding=\"async\" height=\"10\" src=\"//upload.wikimedia.org/wikipedia/commons/thumb/7/73/Blue_pencil.svg/10px-Blue_pencil.svg.png\" srcset=\"//upload.wikimedia.org/wikipedia/commons/thumb/7/73/Blue_pencil.svg/15px-Blue_pencil.svg.png 1.5x, //upload.wikimedia.org/wikipedia/commons/thumb/7/73/Blue_pencil.svg/20px-Blue_pencil.svg.png 2x\" style=\"vertical-align: baseline\" title=\"Rediger på wikidata\" width=\"10\"/>\n",
      "<img alt=\"\" height=\"1\" src=\"//da.wikipedia.org/wiki/Special:CentralAutoLogin/start?type=1x1\" style=\"border: none; position: absolute;\" title=\"\" width=\"1\"/>\n",
      "<img alt=\"Wikimedia Foundation\" height=\"31\" loading=\"lazy\" src=\"/static/images/footer/wikimedia-button.png\" srcset=\"/static/images/footer/wikimedia-button-1.5x.png 1.5x, /static/images/footer/wikimedia-button-2x.png 2x\" width=\"88\"/>\n",
      "<img alt=\"Powered by MediaWiki\" height=\"31\" loading=\"lazy\" src=\"/static/images/footer/poweredby_mediawiki_88x31.png\" srcset=\"/static/images/footer/poweredby_mediawiki_132x47.png 1.5x, /static/images/footer/poweredby_mediawiki_176x62.png 2x\" width=\"88\"/>\n"
     ]
    }
   ],
   "source": [
    "for item in soup.find_all('img'):\n",
    "    print(item)"
   ]
  },
  {
   "cell_type": "code",
   "execution_count": 57,
   "id": "c29edc3f",
   "metadata": {},
   "outputs": [
    {
     "data": {
      "text/plain": [
       "<img alt=\"KvelertakCopenhell2011.jpg\" data-file-height=\"1392\" data-file-width=\"3255\" decoding=\"async\" height=\"107\" src=\"//upload.wikimedia.org/wikipedia/commons/thumb/e/eb/KvelertakCopenhell2011.jpg/250px-KvelertakCopenhell2011.jpg\" srcset=\"//upload.wikimedia.org/wikipedia/commons/thumb/e/eb/KvelertakCopenhell2011.jpg/375px-KvelertakCopenhell2011.jpg 1.5x, //upload.wikimedia.org/wikipedia/commons/thumb/e/eb/KvelertakCopenhell2011.jpg/500px-KvelertakCopenhell2011.jpg 2x\" width=\"250\"/>"
      ]
     },
     "execution_count": 57,
     "metadata": {},
     "output_type": "execute_result"
    }
   ],
   "source": [
    "soup.find_all('img')[0]"
   ]
  },
  {
   "cell_type": "code",
   "execution_count": 1,
   "id": "5e84e954",
   "metadata": {},
   "outputs": [],
   "source": [
    "deep_blue = 'https://en.wikipedia.org/wiki/Deep_Blue_(chess_computer)'"
   ]
  },
  {
   "cell_type": "code",
   "execution_count": 5,
   "id": "3b224eae",
   "metadata": {},
   "outputs": [],
   "source": [
    "result = requests.get(deep_blue)"
   ]
  },
  {
   "cell_type": "code",
   "execution_count": 6,
   "id": "9ea03944",
   "metadata": {},
   "outputs": [],
   "source": [
    "soup = bs4.BeautifulSoup(result.text,\"lxml\")"
   ]
  },
  {
   "cell_type": "code",
   "execution_count": 10,
   "id": "28249f3a",
   "metadata": {
    "scrolled": true
   },
   "outputs": [
    {
     "data": {
      "text/plain": [
       "[<img alt=\"\" class=\"thumbimage\" data-file-height=\"600\" data-file-width=\"800\" decoding=\"async\" height=\"165\" src=\"//upload.wikimedia.org/wikipedia/commons/thumb/6/6f/Kasparov_Magath_1985_Hamburg-2.png/220px-Kasparov_Magath_1985_Hamburg-2.png\" srcset=\"//upload.wikimedia.org/wikipedia/commons/thumb/6/6f/Kasparov_Magath_1985_Hamburg-2.png/330px-Kasparov_Magath_1985_Hamburg-2.png 1.5x, //upload.wikimedia.org/wikipedia/commons/thumb/6/6f/Kasparov_Magath_1985_Hamburg-2.png/440px-Kasparov_Magath_1985_Hamburg-2.png 2x\" width=\"220\"/>,\n",
       " <img alt=\"\" class=\"thumbimage\" data-file-height=\"2756\" data-file-width=\"2067\" decoding=\"async\" height=\"293\" src=\"//upload.wikimedia.org/wikipedia/commons/thumb/8/83/One_of_Deep_Blue%27s_processors_%282586060990%29.jpg/220px-One_of_Deep_Blue%27s_processors_%282586060990%29.jpg\" srcset=\"//upload.wikimedia.org/wikipedia/commons/thumb/8/83/One_of_Deep_Blue%27s_processors_%282586060990%29.jpg/330px-One_of_Deep_Blue%27s_processors_%282586060990%29.jpg 1.5x, //upload.wikimedia.org/wikipedia/commons/thumb/8/83/One_of_Deep_Blue%27s_processors_%282586060990%29.jpg/440px-One_of_Deep_Blue%27s_processors_%282586060990%29.jpg 2x\" width=\"220\"/>]"
      ]
     },
     "execution_count": 10,
     "metadata": {},
     "output_type": "execute_result"
    }
   ],
   "source": [
    "soup.select('.thumbimage')"
   ]
  },
  {
   "cell_type": "code",
   "execution_count": 11,
   "id": "eeb046af",
   "metadata": {},
   "outputs": [],
   "source": [
    "comp = soup.select('.thumbimage')[0]"
   ]
  },
  {
   "cell_type": "markdown",
   "id": "4faae970",
   "metadata": {},
   "source": [
    "comp"
   ]
  },
  {
   "cell_type": "code",
   "execution_count": 12,
   "id": "adfcbdc3",
   "metadata": {},
   "outputs": [
    {
     "data": {
      "text/plain": [
       "<img alt=\"\" class=\"thumbimage\" data-file-height=\"600\" data-file-width=\"800\" decoding=\"async\" height=\"165\" src=\"//upload.wikimedia.org/wikipedia/commons/thumb/6/6f/Kasparov_Magath_1985_Hamburg-2.png/220px-Kasparov_Magath_1985_Hamburg-2.png\" srcset=\"//upload.wikimedia.org/wikipedia/commons/thumb/6/6f/Kasparov_Magath_1985_Hamburg-2.png/330px-Kasparov_Magath_1985_Hamburg-2.png 1.5x, //upload.wikimedia.org/wikipedia/commons/thumb/6/6f/Kasparov_Magath_1985_Hamburg-2.png/440px-Kasparov_Magath_1985_Hamburg-2.png 2x\" width=\"220\"/>"
      ]
     },
     "execution_count": 12,
     "metadata": {},
     "output_type": "execute_result"
    }
   ],
   "source": [
    "comp"
   ]
  },
  {
   "cell_type": "code",
   "execution_count": 13,
   "id": "8a28c012",
   "metadata": {},
   "outputs": [
    {
     "data": {
      "text/plain": [
       "'//upload.wikimedia.org/wikipedia/commons/thumb/6/6f/Kasparov_Magath_1985_Hamburg-2.png/220px-Kasparov_Magath_1985_Hamburg-2.png'"
      ]
     },
     "execution_count": 13,
     "metadata": {},
     "output_type": "execute_result"
    }
   ],
   "source": [
    "comp['src']"
   ]
  },
  {
   "cell_type": "code",
   "execution_count": null,
   "id": "a9889095",
   "metadata": {},
   "outputs": [],
   "source": []
  }
 ],
 "metadata": {
  "kernelspec": {
   "display_name": "Python 3 (ipykernel)",
   "language": "python",
   "name": "python3"
  },
  "language_info": {
   "codemirror_mode": {
    "name": "ipython",
    "version": 3
   },
   "file_extension": ".py",
   "mimetype": "text/x-python",
   "name": "python",
   "nbconvert_exporter": "python",
   "pygments_lexer": "ipython3",
   "version": "3.9.7"
  }
 },
 "nbformat": 4,
 "nbformat_minor": 5
}
